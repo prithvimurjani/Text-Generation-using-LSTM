{
  "nbformat": 4,
  "nbformat_minor": 0,
  "metadata": {
    "colab": {
      "name": "Text Generation with LSTM.ipynb",
      "provenance": [],
      "collapsed_sections": []
    },
    "kernelspec": {
      "name": "python3",
      "display_name": "Python 3"
    },
    "language_info": {
      "name": "python"
    },
    "accelerator": "GPU"
  },
  "cells": [
    {
      "cell_type": "code",
      "execution_count": 1,
      "metadata": {
        "id": "On7tpjoahSw4"
      },
      "outputs": [],
      "source": [
        "def read_file(filepath):\n",
        "  with open(filepath) as f:\n",
        "    str_text = f.read()\n",
        "  return str_text"
      ]
    },
    {
      "cell_type": "code",
      "source": [
        "#read_file('moby_dick_four_chapters.txt')"
      ],
      "metadata": {
        "id": "idyvTKfWhmyY"
      },
      "execution_count": 2,
      "outputs": []
    },
    {
      "cell_type": "code",
      "source": [
        "#read_file('melville_moby_dick.txt')"
      ],
      "metadata": {
        "id": "0GcVEftHmYY-"
      },
      "execution_count": 3,
      "outputs": []
    },
    {
      "cell_type": "code",
      "source": [
        "import spacy"
      ],
      "metadata": {
        "id": "vB_FeNtKl1pL"
      },
      "execution_count": 4,
      "outputs": []
    },
    {
      "cell_type": "code",
      "source": [
        "# Disabling other features in order to only make use of the tokenizer\n",
        "nlp = spacy.load('en', disable = ['parser', 'tagger', 'ner'])"
      ],
      "metadata": {
        "id": "L1Tj0lg2l8eu"
      },
      "execution_count": 5,
      "outputs": []
    },
    {
      "cell_type": "code",
      "source": [
        "# To run over the entir moby dick book with its max words\n",
        "nlp.max_length = 1198623"
      ],
      "metadata": {
        "id": "9gpIBAFmmD8k"
      },
      "execution_count": 6,
      "outputs": []
    },
    {
      "cell_type": "code",
      "source": [
        "def separate_punc(doc_text):\n",
        "  return [token.text.lower() for token in nlp(doc_text) if token.text not in '\\n\\n \\n\\n\\n!\"-#$%&()--.*+,-/:;<=>?@[\\\\]^_`{|}~\\t\\n ']"
      ],
      "metadata": {
        "id": "ue0iGsUOmPgJ"
      },
      "execution_count": 7,
      "outputs": []
    },
    {
      "cell_type": "code",
      "source": [
        "d = read_file('moby_dick_four_chapters.txt')"
      ],
      "metadata": {
        "id": "8l2U5RQ-nP86"
      },
      "execution_count": 8,
      "outputs": []
    },
    {
      "cell_type": "code",
      "source": [
        "tokens = separate_punc(d)"
      ],
      "metadata": {
        "id": "IemKlK2hncAY"
      },
      "execution_count": 9,
      "outputs": []
    },
    {
      "cell_type": "code",
      "source": [
        "print(tokens, end = ' ')"
      ],
      "metadata": {
        "colab": {
          "base_uri": "https://localhost:8080/"
        },
        "id": "diRHYdunngnw",
        "outputId": "51e7fc98-6f02-4787-9f11-d949eaf8b5e9"
      },
      "execution_count": 10,
      "outputs": [
        {
          "output_type": "stream",
          "name": "stdout",
          "text": [
            "['call', 'me', 'ishmael', 'some', 'years', 'ago', 'never', 'mind', 'how', 'long', 'precisely', 'having', 'little', 'or', 'no', 'money', 'in', 'my', 'purse', 'and', 'nothing', 'particular', 'to', 'interest', 'me', 'on', 'shore', 'i', 'thought', 'i', 'would', 'sail', 'about', 'a', 'little', 'and', 'see', 'the', 'watery', 'part', 'of', 'the', 'world', 'it', 'is', 'a', 'way', 'i', 'have', 'of', 'driving', 'off', 'the', 'spleen', 'and', 'regulating', 'the', 'circulation', 'whenever', 'i', 'find', 'myself', 'growing', 'grim', 'about', 'the', 'mouth', 'whenever', 'it', 'is', 'a', 'damp', 'drizzly', 'november', 'in', 'my', 'soul', 'whenever', 'i', 'find', 'myself', 'involuntarily', 'pausing', 'before', 'coffin', 'warehouses', 'and', 'bringing', 'up', 'the', 'rear', 'of', 'every', 'funeral', 'i', 'meet', 'and', 'especially', 'whenever', 'my', 'hypos', 'get', 'such', 'an', 'upper', 'hand', 'of', 'me', 'that', 'it', 'requires', 'a', 'strong', 'moral', 'principle', 'to', 'prevent', 'me', 'from', 'deliberately', 'stepping', 'into', 'the', 'street', 'and', 'methodically', 'knocking', 'people', \"'s\", 'hats', 'off', 'then', 'i', 'account', 'it', 'high', 'time', 'to', 'get', 'to', 'sea', 'as', 'soon', 'as', 'i', 'can', 'this', 'is', 'my', 'substitute', 'for', 'pistol', 'and', 'ball', 'with', 'a', 'philosophical', 'flourish', 'cato', 'throws', 'himself', 'upon', 'his', 'sword', 'i', 'quietly', 'take', 'to', 'the', 'ship', 'there', 'is', 'nothing', 'surprising', 'in', 'this', 'if', 'they', 'but', 'knew', 'it', 'almost', 'all', 'men', 'in', 'their', 'degree', 'some', 'time', 'or', 'other', 'cherish', 'very', 'nearly', 'the', 'same', 'feelings', 'towards', 'the', 'ocean', 'with', 'me', 'there', 'now', 'is', 'your', 'insular', 'city', 'of', 'the', 'manhattoes', 'belted', 'round', 'by', 'wharves', 'as', 'indian', 'isles', 'by', 'coral', 'reefs', 'commerce', 'surrounds', 'it', 'with', 'her', 'surf', 'right', 'and', 'left', 'the', 'streets', 'take', 'you', 'waterward', 'its', 'extreme', 'downtown', 'is', 'the', 'battery', 'where', 'that', 'noble', 'mole', 'is', 'washed', 'by', 'waves', 'and', 'cooled', 'by', 'breezes', 'which', 'a', 'few', 'hours', 'previous', 'were', 'out', 'of', 'sight', 'of', 'land', 'look', 'at', 'the', 'crowds', 'of', 'water', 'gazers', 'there', 'circumambulate', 'the', 'city', 'of', 'a', 'dreamy', 'sabbath', 'afternoon', 'go', 'from', 'corlears', 'hook', 'to', 'coenties', 'slip', 'and', 'from', 'thence', 'by', 'whitehall', 'northward', 'what', 'do', 'you', 'see?--posted', 'like', 'silent', 'sentinels', 'all', 'around', 'the', 'town', 'stand', 'thousands', 'upon', 'thousands', 'of', 'mortal', 'men', 'fixed', 'in', 'ocean', 'reveries', 'some', 'leaning', 'against', 'the', 'spiles', 'some', 'seated', 'upon', 'the', 'pier', 'heads', 'some', 'looking', 'over', 'the', 'bulwarks', 'of', 'ships', 'from', 'china', 'some', 'high', 'aloft', 'in', 'the', 'rigging', 'as', 'if', 'striving', 'to', 'get', 'a', 'still', 'better', 'seaward', 'peep', 'but', 'these', 'are', 'all', 'landsmen', 'of', 'week', 'days', 'pent', 'up', 'in', 'lath', 'and', 'plaster', 'tied', 'to', 'counters', 'nailed', 'to', 'benches', 'clinched', 'to', 'desks', 'how', 'then', 'is', 'this', 'are', 'the', 'green', 'fields', 'gone', 'what', 'do', 'they', 'here', 'but', 'look', 'here', 'come', 'more', 'crowds', 'pacing', 'straight', 'for', 'the', 'water', 'and', 'seemingly', 'bound', 'for', 'a', 'dive', 'strange', 'nothing', 'will', 'content', 'them', 'but', 'the', 'extremest', 'limit', 'of', 'the', 'land', 'loitering', 'under', 'the', 'shady', 'lee', 'of', 'yonder', 'warehouses', 'will', 'not', 'suffice', 'no', 'they', 'must', 'get', 'just', 'as', 'nigh', 'the', 'water', 'as', 'they', 'possibly', 'can', 'without', 'falling', 'in', 'and', 'there', 'they', 'stand', 'miles', 'of', 'them', 'leagues', 'inlanders', 'all', 'they', 'come', 'from', 'lanes', 'and', 'alleys', 'streets', 'and', 'avenues', 'north', 'east', 'south', 'and', 'west', 'yet', 'here', 'they', 'all', 'unite', 'tell', 'me', 'does', 'the', 'magnetic', 'virtue', 'of', 'the', 'needles', 'of', 'the', 'compasses', 'of', 'all', 'those', 'ships', 'attract', 'them', 'thither', 'once', 'more', 'say', 'you', 'are', 'in', 'the', 'country', 'in', 'some', 'high', 'land', 'of', 'lakes', 'take', 'almost', 'any', 'path', 'you', 'please', 'and', 'ten', 'to', 'one', 'it', 'carries', 'you', 'down', 'in', 'a', 'dale', 'and', 'leaves', 'you', 'there', 'by', 'a', 'pool', 'in', 'the', 'stream', 'there', 'is', 'magic', 'in', 'it', 'let', 'the', 'most', 'absent', 'minded', 'of', 'men', 'be', 'plunged', 'in', 'his', 'deepest', 'reveries', 'stand', 'that', 'man', 'on', 'his', 'legs', 'set', 'his', 'feet', 'a', 'going', 'and', 'he', 'will', 'infallibly', 'lead', 'you', 'to', 'water', 'if', 'water', 'there', 'be', 'in', 'all', 'that', 'region', 'should', 'you', 'ever', 'be', 'athirst', 'in', 'the', 'great', 'american', 'desert', 'try', 'this', 'experiment', 'if', 'your', 'caravan', 'happen', 'to', 'be', 'supplied', 'with', 'a', 'metaphysical', 'professor', 'yes', 'as', 'every', 'one', 'knows', 'meditation', 'and', 'water', 'are', 'wedded', 'for', 'ever', 'but', 'here', 'is', 'an', 'artist', 'he', 'desires', 'to', 'paint', 'you', 'the', 'dreamiest', 'shadiest', 'quietest', 'most', 'enchanting', 'bit', 'of', 'romantic', 'landscape', 'in', 'all', 'the', 'valley', 'of', 'the', 'saco', 'what', 'is', 'the', 'chief', 'element', 'he', 'employs', 'there', 'stand', 'his', 'trees', 'each', 'with', 'a', 'hollow', 'trunk', 'as', 'if', 'a', 'hermit', 'and', 'a', 'crucifix', 'were', 'within', 'and', 'here', 'sleeps', 'his', 'meadow', 'and', 'there', 'sleep', 'his', 'cattle', 'and', 'up', 'from', 'yonder', 'cottage', 'goes', 'a', 'sleepy', 'smoke', 'deep', 'into', 'distant', 'woodlands', 'winds', 'a', 'mazy', 'way', 'reaching', 'to', 'overlapping', 'spurs', 'of', 'mountains', 'bathed', 'in', 'their', 'hill', 'side', 'blue', 'but', 'though', 'the', 'picture', 'lies', 'thus', 'tranced', 'and', 'though', 'this', 'pine', 'tree', 'shakes', 'down', 'its', 'sighs', 'like', 'leaves', 'upon', 'this', 'shepherd', \"'s\", 'head', 'yet', 'all', 'were', 'vain', 'unless', 'the', 'shepherd', \"'s\", 'eye', 'were', 'fixed', 'upon', 'the', 'magic', 'stream', 'before', 'him', 'go', 'visit', 'the', 'prairies', 'in', 'june', 'when', 'for', 'scores', 'on', 'scores', 'of', 'miles', 'you', 'wade', 'knee', 'deep', 'among', 'tiger', 'lilies', 'what', 'is', 'the', 'one', 'charm', 'wanting?--water', 'there', 'is', 'not', 'a', 'drop', 'of', 'water', 'there', 'were', 'niagara', 'but', 'a', 'cataract', 'of', 'sand', 'would', 'you', 'travel', 'your', 'thousand', 'miles', 'to', 'see', 'it', 'why', 'did', 'the', 'poor', 'poet', 'of', 'tennessee', 'upon', 'suddenly', 'receiving', 'two', 'handfuls', 'of', 'silver', 'deliberate', 'whether', 'to', 'buy', 'him', 'a', 'coat', 'which', 'he', 'sadly', 'needed', 'or', 'invest', 'his', 'money', 'in', 'a', 'pedestrian', 'trip', 'to', 'rockaway', 'beach', 'why', 'is', 'almost', 'every', 'robust', 'healthy', 'boy', 'with', 'a', 'robust', 'healthy', 'soul', 'in', 'him', 'at', 'some', 'time', 'or', 'other', 'crazy', 'to', 'go', 'to', 'sea', 'why', 'upon', 'your', 'first', 'voyage', 'as', 'a', 'passenger', 'did', 'you', 'yourself', 'feel', 'such', 'a', 'mystical', 'vibration', 'when', 'first', 'told', 'that', 'you', 'and', 'your', 'ship', 'were', 'now', 'out', 'of', 'sight', 'of', 'land', 'why', 'did', 'the', 'old', 'persians', 'hold', 'the', 'sea', 'holy', 'why', 'did', 'the', 'greeks', 'give', 'it', 'a', 'separate', 'deity', 'and', 'own', 'brother', 'of', 'jove', 'surely', 'all', 'this', 'is', 'not', 'without', 'meaning', 'and', 'still', 'deeper', 'the', 'meaning', 'of', 'that', 'story', 'of', 'narcissus', 'who', 'because', 'he', 'could', 'not', 'grasp', 'the', 'tormenting', 'mild', 'image', 'he', 'saw', 'in', 'the', 'fountain', 'plunged', 'into', 'it', 'and', 'was', 'drowned', 'but', 'that', 'same', 'image', 'we', 'ourselves', 'see', 'in', 'all', 'rivers', 'and', 'oceans', 'it', 'is', 'the', 'image', 'of', 'the', 'ungraspable', 'phantom', 'of', 'life', 'and', 'this', 'is', 'the', 'key', 'to', 'it', 'all', 'now', 'when', 'i', 'say', 'that', 'i', 'am', 'in', 'the', 'habit', 'of', 'going', 'to', 'sea', 'whenever', 'i', 'begin', 'to', 'grow', 'hazy', 'about', 'the', 'eyes', 'and', 'begin', 'to', 'be', 'over', 'conscious', 'of', 'my', 'lungs', 'i', 'do', 'not', 'mean', 'to', 'have', 'it', 'inferred', 'that', 'i', 'ever', 'go', 'to', 'sea', 'as', 'a', 'passenger', 'for', 'to', 'go', 'as', 'a', 'passenger', 'you', 'must', 'needs', 'have', 'a', 'purse', 'and', 'a', 'purse', 'is', 'but', 'a', 'rag', 'unless', 'you', 'have', 'something', 'in', 'it', 'besides', 'passengers', 'get', 'sea', 'sick', 'grow', 'quarrelsome', \"don't\", 'sleep', 'of', 'nights', 'do', 'not', 'enjoy', 'themselves', 'much', 'as', 'a', 'general', 'thing;--no', 'i', 'never', 'go', 'as', 'a', 'passenger', 'nor', 'though', 'i', 'am', 'something', 'of', 'a', 'salt', 'do', 'i', 'ever', 'go', 'to', 'sea', 'as', 'a', 'commodore', 'or', 'a', 'captain', 'or', 'a', 'cook', 'i', 'abandon', 'the', 'glory', 'and', 'distinction', 'of', 'such', 'offices', 'to', 'those', 'who', 'like', 'them', 'for', 'my', 'part', 'i', 'abominate', 'all', 'honourable', 'respectable', 'toils', 'trials', 'and', 'tribulations', 'of', 'every', 'kind', 'whatsoever', 'it', 'is', 'quite', 'as', 'much', 'as', 'i', 'can', 'do', 'to', 'take', 'care', 'of', 'myself', 'without', 'taking', 'care', 'of', 'ships', 'barques', 'brigs', 'schooners', 'and', 'what', 'not', 'and', 'as', 'for', 'going', 'as', 'cook,--though', 'i', 'confess', 'there', 'is', 'considerable', 'glory', 'in', 'that', 'a', 'cook', 'being', 'a', 'sort', 'of', 'officer', 'on', 'ship', 'board', 'yet', 'somehow', 'i', 'never', 'fancied', 'broiling', 'fowls;--though', 'once', 'broiled', 'judiciously', 'buttered', 'and', 'judgmatically', 'salted', 'and', 'peppered', 'there', 'is', 'no', 'one', 'who', 'will', 'speak', 'more', 'respectfully', 'not', 'to', 'say', 'reverentially', 'of', 'a', 'broiled', 'fowl', 'than', 'i', 'will', 'it', 'is', 'out', 'of', 'the', 'idolatrous', 'dotings', 'of', 'the', 'old', 'egyptians', 'upon', 'broiled', 'ibis', 'and', 'roasted', 'river', 'horse', 'that', 'you', 'see', 'the', 'mummies', 'of', 'those', 'creatures', 'in', 'their', 'huge', 'bake', 'houses', 'the', 'pyramids', 'no', 'when', 'i', 'go', 'to', 'sea', 'i', 'go', 'as', 'a', 'simple', 'sailor', 'right', 'before', 'the', 'mast', 'plumb', 'down', 'into', 'the', 'forecastle', 'aloft', 'there', 'to', 'the', 'royal', 'mast', 'head', 'true', 'they', 'rather', 'order', 'me', 'about', 'some', 'and', 'make', 'me', 'jump', 'from', 'spar', 'to', 'spar', 'like', 'a', 'grasshopper', 'in', 'a', 'may', 'meadow', 'and', 'at', 'first', 'this', 'sort', 'of', 'thing', 'is', 'unpleasant', 'enough', 'it', 'touches', 'one', \"'s\", 'sense', 'of', 'honour', 'particularly', 'if', 'you', 'come', 'of', 'an', 'old', 'established', 'family', 'in', 'the', 'land', 'the', 'van', 'rensselaers', 'or', 'randolphs', 'or', 'hardicanutes', 'and', 'more', 'than', 'all', 'if', 'just', 'previous', 'to', 'putting', 'your', 'hand', 'into', 'the', 'tar', 'pot', 'you', 'have', 'been', 'lording', 'it', 'as', 'a', 'country', 'schoolmaster', 'making', 'the', 'tallest', 'boys', 'stand', 'in', 'awe', 'of', 'you', 'the', 'transition', 'is', 'a', 'keen', 'one', 'i', 'assure', 'you', 'from', 'a', 'schoolmaster', 'to', 'a', 'sailor', 'and', 'requires', 'a', 'strong', 'decoction', 'of', 'seneca', 'and', 'the', 'stoics', 'to', 'enable', 'you', 'to', 'grin', 'and', 'bear', 'it', 'but', 'even', 'this', 'wears', 'off', 'in', 'time', 'what', 'of', 'it', 'if', 'some', 'old', 'hunks', 'of', 'a', 'sea', 'captain', 'orders', 'me', 'to', 'get', 'a', 'broom', 'and', 'sweep', 'down', 'the', 'decks', 'what', 'does', 'that', 'indignity', 'amount', 'to', 'weighed', 'i', 'mean', 'in', 'the', 'scales', 'of', 'the', 'new', 'testament', 'do', 'you', 'think', 'the', 'archangel', 'gabriel', 'thinks', 'anything', 'the', 'less', 'of', 'me', 'because', 'i', 'promptly', 'and', 'respectfully', 'obey', 'that', 'old', 'hunks', 'in', 'that', 'particular', 'instance', 'who', 'ai', \"n't\", 'a', 'slave', 'tell', 'me', 'that', 'well', 'then', 'however', 'the', 'old', 'sea', 'captains', 'may', 'order', 'me', 'about', 'however', 'they', 'may', 'thump', 'and', 'punch', 'me', 'about', 'i', 'have', 'the', 'satisfaction', 'of', 'knowing', 'that', 'it', 'is', 'all', 'right', 'that', 'everybody', 'else', 'is', 'one', 'way', 'or', 'other', 'served', 'in', 'much', 'the', 'same', 'way', 'either', 'in', 'a', 'physical', 'or', 'metaphysical', 'point', 'of', 'view', 'that', 'is', 'and', 'so', 'the', 'universal', 'thump', 'is', 'passed', 'round', 'and', 'all', 'hands', 'should', 'rub', 'each', 'other', \"'s\", 'shoulder', 'blades', 'and', 'be', 'content', 'again', 'i', 'always', 'go', 'to', 'sea', 'as', 'a', 'sailor', 'because', 'they', 'make', 'a', 'point', 'of', 'paying', 'me', 'for', 'my', 'trouble', 'whereas', 'they', 'never', 'pay', 'passengers', 'a', 'single', 'penny', 'that', 'i', 'ever', 'heard', 'of', 'on', 'the', 'contrary', 'passengers', 'themselves', 'must', 'pay', 'and', 'there', 'is', 'all', 'the', 'difference', 'in', 'the', 'world', 'between', 'paying', 'and', 'being', 'paid', 'the', 'act', 'of', 'paying', 'is', 'perhaps', 'the', 'most', 'uncomfortable', 'infliction', 'that', 'the', 'two', 'orchard', 'thieves', 'entailed', 'upon', 'us', 'but', 'being', 'paid,--what', 'will', 'compare', 'with', 'it', 'the', 'urbane', 'activity', 'with', 'which', 'a', 'man', 'receives', 'money', 'is', 'really', 'marvellous', 'considering', 'that', 'we', 'so', 'earnestly', 'believe', 'money', 'to', 'be', 'the', 'root', 'of', 'all', 'earthly', 'ills', 'and', 'that', 'on', 'no', 'account', 'can', 'a', 'monied', 'man', 'enter', 'heaven', 'ah', 'how', 'cheerfully', 'we', 'consign', 'ourselves', 'to', 'perdition', 'finally', 'i', 'always', 'go', 'to', 'sea', 'as', 'a', 'sailor', 'because', 'of', 'the', 'wholesome', 'exercise', 'and', 'pure', 'air', 'of', 'the', 'fore', 'castle', 'deck', 'for', 'as', 'in', 'this', 'world', 'head', 'winds', 'are', 'far', 'more', 'prevalent', 'than', 'winds', 'from', 'astern', 'that', 'is', 'if', 'you', 'never', 'violate', 'the', 'pythagorean', 'maxim', 'so', 'for', 'the', 'most', 'part', 'the', 'commodore', 'on', 'the', 'quarter', 'deck', 'gets', 'his', 'atmosphere', 'at', 'second', 'hand', 'from', 'the', 'sailors', 'on', 'the', 'forecastle', 'he', 'thinks', 'he', 'breathes', 'it', 'first', 'but', 'not', 'so', 'in', 'much', 'the', 'same', 'way', 'do', 'the', 'commonalty', 'lead', 'their', 'leaders', 'in', 'many', 'other', 'things', 'at', 'the', 'same', 'time', 'that', 'the', 'leaders', 'little', 'suspect', 'it', 'but', 'wherefore', 'it', 'was', 'that', 'after', 'having', 'repeatedly', 'smelt', 'the', 'sea', 'as', 'a', 'merchant', 'sailor', 'i', 'should', 'now', 'take', 'it', 'into', 'my', 'head', 'to', 'go', 'on', 'a', 'whaling', 'voyage', 'this', 'the', 'invisible', 'police', 'officer', 'of', 'the', 'fates', 'who', 'has', 'the', 'constant', 'surveillance', 'of', 'me', 'and', 'secretly', 'dogs', 'me', 'and', 'influences', 'me', 'in', 'some', 'unaccountable', 'way', 'he', 'can', 'better', 'answer', 'than', 'any', 'one', 'else', 'and', 'doubtless', 'my', 'going', 'on', 'this', 'whaling', 'voyage', 'formed', 'part', 'of', 'the', 'grand', 'programme', 'of', 'providence', 'that', 'was', 'drawn', 'up', 'a', 'long', 'time', 'ago', 'it', 'came', 'in', 'as', 'a', 'sort', 'of', 'brief', 'interlude', 'and', 'solo', 'between', 'more', 'extensive', 'performances', 'i', 'take', 'it', 'that', 'this', 'part', 'of', 'the', 'bill', 'must', 'have', 'run', 'something', 'like', 'this', 'grand', 'contested', 'election', 'for', 'the', 'presidency', 'of', 'the', 'united', 'states', 'whaling', 'voyage', 'by', 'one', 'ishmael', 'bloody', 'battle', 'in', 'affghanistan', 'though', 'i', 'can', 'not', 'tell', 'why', 'it', 'was', 'exactly', 'that', 'those', 'stage', 'managers', 'the', 'fates', 'put', 'me', 'down', 'for', 'this', 'shabby', 'part', 'of', 'a', 'whaling', 'voyage', 'when', 'others', 'were', 'set', 'down', 'for', 'magnificent', 'parts', 'in', 'high', 'tragedies', 'and', 'short', 'and', 'easy', 'parts', 'in', 'genteel', 'comedies', 'and', 'jolly', 'parts', 'in', 'farces', 'though', 'i', 'can', 'not', 'tell', 'why', 'this', 'was', 'exactly', 'yet', 'now', 'that', 'i', 'recall', 'all', 'the', 'circumstances', 'i', 'think', 'i', 'can', 'see', 'a', 'little', 'into', 'the', 'springs', 'and', 'motives', 'which', 'being', 'cunningly', 'presented', 'to', 'me', 'under', 'various', 'disguises', 'induced', 'me', 'to', 'set', 'about', 'performing', 'the', 'part', 'i', 'did', 'besides', 'cajoling', 'me', 'into', 'the', 'delusion', 'that', 'it', 'was', 'a', 'choice', 'resulting', 'from', 'my', 'own', 'unbiased', 'freewill', 'and', 'discriminating', 'judgment', 'chief', 'among', 'these', 'motives', 'was', 'the', 'overwhelming', 'idea', 'of', 'the', 'great', 'whale', 'himself', 'such', 'a', 'portentous', 'and', 'mysterious', 'monster', 'roused', 'all', 'my', 'curiosity', 'then', 'the', 'wild', 'and', 'distant', 'seas', 'where', 'he', 'rolled', 'his', 'island', 'bulk', 'the', 'undeliverable', 'nameless', 'perils', 'of', 'the', 'whale', 'these', 'with', 'all', 'the', 'attending', 'marvels', 'of', 'a', 'thousand', 'patagonian', 'sights', 'and', 'sounds', 'helped', 'to', 'sway', 'me', 'to', 'my', 'wish', 'with', 'other', 'men', 'perhaps', 'such', 'things', 'would', 'not', 'have', 'been', 'inducements', 'but', 'as', 'for', 'me', 'i', 'am', 'tormented', 'with', 'an', 'everlasting', 'itch', 'for', 'things', 'remote', 'i', 'love', 'to', 'sail', 'forbidden', 'seas', 'and', 'land', 'on', 'barbarous', 'coasts', 'not', 'ignoring', 'what', 'is', 'good', 'i', 'am', 'quick', 'to', 'perceive', 'a', 'horror', 'and', 'could', 'still', 'be', 'social', 'with', 'it', 'would', 'they', 'let', 'me', 'since', 'it', 'is', 'but', 'well', 'to', 'be', 'on', 'friendly', 'terms', 'with', 'all', 'the', 'inmates', 'of', 'the', 'place', 'one', 'lodges', 'in', 'by', 'reason', 'of', 'these', 'things', 'then', 'the', 'whaling', 'voyage', 'was', 'welcome', 'the', 'great', 'flood', 'gates', 'of', 'the', 'wonder', 'world', 'swung', 'open', 'and', 'in', 'the', 'wild', 'conceits', 'that', 'swayed', 'me', 'to', 'my', 'purpose', 'two', 'and', 'two', 'there', 'floated', 'into', 'my', 'inmost', 'soul', 'endless', 'processions', 'of', 'the', 'whale', 'and', 'mid', 'most', 'of', 'them', 'all', 'one', 'grand', 'hooded', 'phantom', 'like', 'a', 'snow', 'hill', 'in', 'the', 'air', 'i', 'stuffed', 'a', 'shirt', 'or', 'two', 'into', 'my', 'old', 'carpet', 'bag', 'tucked', 'it', 'under', 'my', 'arm', 'and', 'started', 'for', 'cape', 'horn', 'and', 'the', 'pacific', 'quitting', 'the', 'good', 'city', 'of', 'old', 'manhatto', 'i', 'duly', 'arrived', 'in', 'new', 'bedford', 'it', 'was', 'a', 'saturday', 'night', 'in', 'december', 'much', 'was', 'i', 'disappointed', 'upon', 'learning', 'that', 'the', 'little', 'packet', 'for', 'nantucket', 'had', 'already', 'sailed', 'and', 'that', 'no', 'way', 'of', 'reaching', 'that', 'place', 'would', 'offer', 'till', 'the', 'following', 'monday', 'as', 'most', 'young', 'candidates', 'for', 'the', 'pains', 'and', 'penalties', 'of', 'whaling', 'stop', 'at', 'this', 'same', 'new', 'bedford', 'thence', 'to', 'embark', 'on', 'their', 'voyage', 'it', 'may', 'as', 'well', 'be', 'related', 'that', 'i', 'for', 'one', 'had', 'no', 'idea', 'of', 'so', 'doing', 'for', 'my', 'mind', 'was', 'made', 'up', 'to', 'sail', 'in', 'no', 'other', 'than', 'a', 'nantucket', 'craft', 'because', 'there', 'was', 'a', 'fine', 'boisterous', 'something', 'about', 'everything', 'connected', 'with', 'that', 'famous', 'old', 'island', 'which', 'amazingly', 'pleased', 'me', 'besides', 'though', 'new', 'bedford', 'has', 'of', 'late', 'been', 'gradually', 'monopolising', 'the', 'business', 'of', 'whaling', 'and', 'though', 'in', 'this', 'matter', 'poor', 'old', 'nantucket', 'is', 'now', 'much', 'behind', 'her', 'yet', 'nantucket', 'was', 'her', 'great', 'original', 'the', 'tyre', 'of', 'this', 'carthage;--the', 'place', 'where', 'the', 'first', 'dead', 'american', 'whale', 'was', 'stranded', 'where', 'else', 'but', 'from', 'nantucket', 'did', 'those', 'aboriginal', 'whalemen', 'the', 'red', 'men', 'first', 'sally', 'out', 'in', 'canoes', 'to', 'give', 'chase', 'to', 'the', 'leviathan', 'and', 'where', 'but', 'from', 'nantucket', 'too', 'did', 'that', 'first', 'adventurous', 'little', 'sloop', 'put', 'forth', 'partly', 'laden', 'with', 'imported', 'cobblestones', 'so', 'goes', 'the', 'story', 'to', 'throw', 'at', 'the', 'whales', 'in', 'order', 'to', 'discover', 'when', 'they', 'were', 'nigh', 'enough', 'to', 'risk', 'a', 'harpoon', 'from', 'the', 'bowsprit', 'now', 'having', 'a', 'night', 'a', 'day', 'and', 'still', 'another', 'night', 'following', 'before', 'me', 'in', 'new', 'bedford', 'ere', 'i', 'could', 'embark', 'for', 'my', 'destined', 'port', 'it', 'became', 'a', 'matter', 'of', 'concernment', 'where', 'i', 'was', 'to', 'eat', 'and', 'sleep', 'meanwhile', 'it', 'was', 'a', 'very', 'dubious', 'looking', 'nay', 'a', 'very', 'dark', 'and', 'dismal', 'night', 'bitingly', 'cold', 'and', 'cheerless', 'i', 'knew', 'no', 'one', 'in', 'the', 'place', 'with', 'anxious', 'grapnels', 'i', 'had', 'sounded', 'my', 'pocket', 'and', 'only', 'brought', 'up', 'a', 'few', 'pieces', 'of', 'silver,--so', 'wherever', 'you', 'go', 'ishmael', 'said', 'i', 'to', 'myself', 'as', 'i', 'stood', 'in', 'the', 'middle', 'of', 'a', 'dreary', 'street', 'shouldering', 'my', 'bag', 'and', 'comparing', 'the', 'gloom', 'towards', 'the', 'north', 'with', 'the', 'darkness', 'towards', 'the', 'south', 'wherever', 'in', 'your', 'wisdom', 'you', 'may', 'conclude', 'to', 'lodge', 'for', 'the', 'night', 'my', 'dear', 'ishmael', 'be', 'sure', 'to', 'inquire', 'the', 'price', 'and', 'do', \"n't\", 'be', 'too', 'particular', 'with', 'halting', 'steps', 'i', 'paced', 'the', 'streets', 'and', 'passed', 'the', 'sign', 'of', 'the', 'crossed', 'harpoons\"--but', 'it', 'looked', 'too', 'expensive', 'and', 'jolly', 'there', 'further', 'on', 'from', 'the', 'bright', 'red', 'windows', 'of', 'the', 'sword', 'fish', 'inn', 'there', 'came', 'such', 'fervent', 'rays', 'that', 'it', 'seemed', 'to', 'have', 'melted', 'the', 'packed', 'snow', 'and', 'ice', 'from', 'before', 'the', 'house', 'for', 'everywhere', 'else', 'the', 'congealed', 'frost', 'lay', 'ten', 'inches', 'thick', 'in', 'a', 'hard', 'asphaltic', 'pavement,--rather', 'weary', 'for', 'me', 'when', 'i', 'struck', 'my', 'foot', 'against', 'the', 'flinty', 'projections', 'because', 'from', 'hard', 'remorseless', 'service', 'the', 'soles', 'of', 'my', 'boots', 'were', 'in', 'a', 'most', 'miserable', 'plight', 'too', 'expensive', 'and', 'jolly', 'again', 'thought', 'i', 'pausing', 'one', 'moment', 'to', 'watch', 'the', 'broad', 'glare', 'in', 'the', 'street', 'and', 'hear', 'the', 'sounds', 'of', 'the', 'tinkling', 'glasses', 'within', 'but', 'go', 'on', 'ishmael', 'said', 'i', 'at', 'last', 'do', \"n't\", 'you', 'hear', 'get', 'away', 'from', 'before', 'the', 'door', 'your', 'patched', 'boots', 'are', 'stopping', 'the', 'way', 'so', 'on', 'i', 'went', 'i', 'now', 'by', 'instinct', 'followed', 'the', 'streets', 'that', 'took', 'me', 'waterward', 'for', 'there', 'doubtless', 'were', 'the', 'cheapest', 'if', 'not', 'the', 'cheeriest', 'inns', 'such', 'dreary', 'streets', 'blocks', 'of', 'blackness', 'not', 'houses', 'on', 'either', 'hand', 'and', 'here', 'and', 'there', 'a', 'candle', 'like', 'a', 'candle', 'moving', 'about', 'in', 'a', 'tomb', 'at', 'this', 'hour', 'of', 'the', 'night', 'of', 'the', 'last', 'day', 'of', 'the', 'week', 'that', 'quarter', 'of', 'the', 'town', 'proved', 'all', 'but', 'deserted', 'but', 'presently', 'i', 'came', 'to', 'a', 'smoky', 'light', 'proceeding', 'from', 'a', 'low', 'wide', 'building', 'the', 'door', 'of', 'which', 'stood', 'invitingly', 'open', 'it', 'had', 'a', 'careless', 'look', 'as', 'if', 'it', 'were', 'meant', 'for', 'the', 'uses', 'of', 'the', 'public', 'so', 'entering', 'the', 'first', 'thing', 'i', 'did', 'was', 'to', 'stumble', 'over', 'an', 'ash', 'box', 'in', 'the', 'porch', 'ha', 'thought', 'i', 'ha', 'as', 'the', 'flying', 'particles', 'almost', 'choked', 'me', 'are', 'these', 'ashes', 'from', 'that', 'destroyed', 'city', 'gomorrah', 'but', 'the', 'crossed', 'harpoons', 'and', 'the', 'sword', 'fish?\"--this', 'then', 'must', 'needs', 'be', 'the', 'sign', 'of', 'the', 'trap', 'however', 'i', 'picked', 'myself', 'up', 'and', 'hearing', 'a', 'loud', 'voice', 'within', 'pushed', 'on', 'and', 'opened', 'a', 'second', 'interior', 'door', 'it', 'seemed', 'the', 'great', 'black', 'parliament', 'sitting', 'in', 'tophet', 'a', 'hundred', 'black', 'faces', 'turned', 'round', 'in', 'their', 'rows', 'to', 'peer', 'and', 'beyond', 'a', 'black', 'angel', 'of', 'doom', 'was', 'beating', 'a', 'book', 'in', 'a', 'pulpit', 'it', 'was', 'a', 'negro', 'church', 'and', 'the', 'preacher', \"'s\", 'text', 'was', 'about', 'the', 'blackness', 'of', 'darkness', 'and', 'the', 'weeping', 'and', 'wailing', 'and', 'teeth', 'gnashing', 'there', 'ha', 'ishmael', 'muttered', 'i', 'backing', 'out', 'wretched', 'entertainment', 'at', 'the', 'sign', 'of', \"'\", 'the', 'trap', \"'\", 'moving', 'on', 'i', 'at', 'last', 'came', 'to', 'a', 'dim', 'sort', 'of', 'light', 'not', 'far', 'from', 'the', 'docks', 'and', 'heard', 'a', 'forlorn', 'creaking', 'in', 'the', 'air', 'and', 'looking', 'up', 'saw', 'a', 'swinging', 'sign', 'over', 'the', 'door', 'with', 'a', 'white', 'painting', 'upon', 'it', 'faintly', 'representing', 'a', 'tall', 'straight', 'jet', 'of', 'misty', 'spray', 'and', 'these', 'words', 'underneath--\"the', 'spouter', 'inn:--peter', 'coffin', 'coffin?--spouter?--rather', 'ominous', 'in', 'that', 'particular', 'connexion', 'thought', 'i.', 'but', 'it', 'is', 'a', 'common', 'name', 'in', 'nantucket', 'they', 'say', 'and', 'i', 'suppose', 'this', 'peter', 'here', 'is', 'an', 'emigrant', 'from', 'there', 'as', 'the', 'light', 'looked', 'so', 'dim', 'and', 'the', 'place', 'for', 'the', 'time', 'looked', 'quiet', 'enough', 'and', 'the', 'dilapidated', 'little', 'wooden', 'house', 'itself', 'looked', 'as', 'if', 'it', 'might', 'have', 'been', 'carted', 'here', 'from', 'the', 'ruins', 'of', 'some', 'burnt', 'district', 'and', 'as', 'the', 'swinging', 'sign', 'had', 'a', 'poverty', 'stricken', 'sort', 'of', 'creak', 'to', 'it', 'i', 'thought', 'that', 'here', 'was', 'the', 'very', 'spot', 'for', 'cheap', 'lodgings', 'and', 'the', 'best', 'of', 'pea', 'coffee', 'it', 'was', 'a', 'queer', 'sort', 'of', 'place', 'a', 'gable', 'ended', 'old', 'house', 'one', 'side', 'palsied', 'as', 'it', 'were', 'and', 'leaning', 'over', 'sadly', 'it', 'stood', 'on', 'a', 'sharp', 'bleak', 'corner', 'where', 'that', 'tempestuous', 'wind', 'euroclydon', 'kept', 'up', 'a', 'worse', 'howling', 'than', 'ever', 'it', 'did', 'about', 'poor', 'paul', \"'s\", 'tossed', 'craft', 'euroclydon', 'nevertheless', 'is', 'a', 'mighty', 'pleasant', 'zephyr', 'to', 'any', 'one', 'in', 'doors', 'with', 'his', 'feet', 'on', 'the', 'hob', 'quietly', 'toasting', 'for', 'bed', 'in', 'judging', 'of', 'that', 'tempestuous', 'wind', 'called', 'euroclydon', 'says', 'an', 'old', 'writer', 'of', 'whose', 'works', 'i', 'possess', 'the', 'only', 'copy', 'extant--\"it', 'maketh', 'a', 'marvellous', 'difference', 'whether', 'thou', 'lookest', 'out', 'at', 'it', 'from', 'a', 'glass', 'window', 'where', 'the', 'frost', 'is', 'all', 'on', 'the', 'outside', 'or', 'whether', 'thou', 'observest', 'it', 'from', 'that', 'sashless', 'window', 'where', 'the', 'frost', 'is', 'on', 'both', 'sides', 'and', 'of', 'which', 'the', 'wight', 'death', 'is', 'the', 'only', 'glazier', 'true', 'enough', 'thought', 'i', 'as', 'this', 'passage', 'occurred', 'to', 'my', 'mind', 'old', 'black', 'letter', 'thou', 'reasonest', 'well', 'yes', 'these', 'eyes', 'are', 'windows', 'and', 'this', 'body', 'of', 'mine', 'is', 'the', 'house', 'what', 'a', 'pity', 'they', 'did', \"n't\", 'stop', 'up', 'the', 'chinks', 'and', 'the', 'crannies', 'though', 'and', 'thrust', 'in', 'a', 'little', 'lint', 'here', 'and', 'there', 'but', 'it', \"'s\", 'too', 'late', 'to', 'make', 'any', 'improvements', 'now', 'the', 'universe', 'is', 'finished', 'the', 'copestone', 'is', 'on', 'and', 'the', 'chips', 'were', 'carted', 'off', 'a', 'million', 'years', 'ago', 'poor', 'lazarus', 'there', 'chattering', 'his', 'teeth', 'against', 'the', 'curbstone', 'for', 'his', 'pillow', 'and', 'shaking', 'off', 'his', 'tatters', 'with', 'his', 'shiverings', 'he', 'might', 'plug', 'up', 'both', 'ears', 'with', 'rags', 'and', 'put', 'a', 'corn', 'cob', 'into', 'his', 'mouth', 'and', 'yet', 'that', 'would', 'not', 'keep', 'out', 'the', 'tempestuous', 'euroclydon', 'euroclydon', 'says', 'old', 'dives', 'in', 'his', 'red', 'silken', 'wrapper--(he', 'had', 'a', 'redder', 'one', 'afterwards', 'pooh', 'pooh', 'what', 'a', 'fine', 'frosty', 'night', 'how', 'orion', 'glitters', 'what', 'northern', 'lights', 'let', 'them', 'talk', 'of', 'their', 'oriental', 'summer', 'climes', 'of', 'everlasting', 'conservatories', 'give', 'me', 'the', 'privilege', 'of', 'making', 'my', 'own', 'summer', 'with', 'my', 'own', 'coals', 'but', 'what', 'thinks', 'lazarus', 'can', 'he', 'warm', 'his', 'blue', 'hands', 'by', 'holding', 'them', 'up', 'to', 'the', 'grand', 'northern', 'lights', 'would', 'not', 'lazarus', 'rather', 'be', 'in', 'sumatra', 'than', 'here', 'would', 'he', 'not', 'far', 'rather', 'lay', 'him', 'down', 'lengthwise', 'along', 'the', 'line', 'of', 'the', 'equator', 'yea', 'ye', 'gods', 'go', 'down', 'to', 'the', 'fiery', 'pit', 'itself', 'in', 'order', 'to', 'keep', 'out', 'this', 'frost', 'now', 'that', 'lazarus', 'should', 'lie', 'stranded', 'there', 'on', 'the', 'curbstone', 'before', 'the', 'door', 'of', 'dives', 'this', 'is', 'more', 'wonderful', 'than', 'that', 'an', 'iceberg', 'should', 'be', 'moored', 'to', 'one', 'of', 'the', 'moluccas', 'yet', 'dives', 'himself', 'he', 'too', 'lives', 'like', 'a', 'czar', 'in', 'an', 'ice', 'palace', 'made', 'of', 'frozen', 'sighs', 'and', 'being', 'a', 'president', 'of', 'a', 'temperance', 'society', 'he', 'only', 'drinks', 'the', 'tepid', 'tears', 'of', 'orphans', 'but', 'no', 'more', 'of', 'this', 'blubbering', 'now', 'we', 'are', 'going', 'a', 'whaling', 'and', 'there', 'is', 'plenty', 'of', 'that', 'yet', 'to', 'come', 'let', 'us', 'scrape', 'the', 'ice', 'from', 'our', 'frosted', 'feet', 'and', 'see', 'what', 'sort', 'of', 'a', 'place', 'this', 'spouter', 'may', 'be', 'entering', 'that', 'gable', 'ended', 'spouter', 'inn', 'you', 'found', 'yourself', 'in', 'a', 'wide', 'low', 'straggling', 'entry', 'with', 'old', 'fashioned', 'wainscots', 'reminding', 'one', 'of', 'the', 'bulwarks', 'of', 'some', 'condemned', 'old', 'craft', 'on', 'one', 'side', 'hung', 'a', 'very', 'large', 'oilpainting', 'so', 'thoroughly', 'besmoked', 'and', 'every', 'way', 'defaced', 'that', 'in', 'the', 'unequal', 'crosslights', 'by', 'which', 'you', 'viewed', 'it', 'it', 'was', 'only', 'by', 'diligent', 'study', 'and', 'a', 'series', 'of', 'systematic', 'visits', 'to', 'it', 'and', 'careful', 'inquiry', 'of', 'the', 'neighbors', 'that', 'you', 'could', 'any', 'way', 'arrive', 'at', 'an', 'understanding', 'of', 'its', 'purpose', 'such', 'unaccountable', 'masses', 'of', 'shades', 'and', 'shadows', 'that', 'at', 'first', 'you', 'almost', 'thought', 'some', 'ambitious', 'young', 'artist', 'in', 'the', 'time', 'of', 'the', 'new', 'england', 'hags', 'had', 'endeavored', 'to', 'delineate', 'chaos', 'bewitched', 'but', 'by', 'dint', 'of', 'much', 'and', 'earnest', 'contemplation', 'and', 'oft', 'repeated', 'ponderings', 'and', 'especially', 'by', 'throwing', 'open', 'the', 'little', 'window', 'towards', 'the', 'back', 'of', 'the', 'entry', 'you', 'at', 'last', 'come', 'to', 'the', 'conclusion', 'that', 'such', 'an', 'idea', 'however', 'wild', 'might', 'not', 'be', 'altogether', 'unwarranted', 'but', 'what', 'most', 'puzzled', 'and', 'confounded', 'you', 'was', 'a', 'long', 'limber', 'portentous', 'black', 'mass', 'of', 'something', 'hovering', 'in', 'the', 'centre', 'of', 'the', 'picture', 'over', 'three', 'blue', 'dim', 'perpendicular', 'lines', 'floating', 'in', 'a', 'nameless', 'yeast', 'a', 'boggy', 'soggy', 'squitchy', 'picture', 'truly', 'enough', 'to', 'drive', 'a', 'nervous', 'man', 'distracted', 'yet', 'was', 'there', 'a', 'sort', 'of', 'indefinite', 'half', 'attained', 'unimaginable', 'sublimity', 'about', 'it', 'that', 'fairly', 'froze', 'you', 'to', 'it', 'till', 'you', 'involuntarily', 'took', 'an', 'oath', 'with', 'yourself', 'to', 'find', 'out', 'what', 'that', 'marvellous', 'painting', 'meant', 'ever', 'and', 'anon', 'a', 'bright', 'but', 'alas', 'deceptive', 'idea', 'would', 'dart', 'you', 'through.--it', \"'s\", 'the', 'black', 'sea', 'in', 'a', 'midnight', 'gale.--it', \"'s\", 'the', 'unnatural', 'combat', 'of', 'the', 'four', 'primal', 'elements.--it', \"'s\", 'a', 'blasted', 'heath.--it', \"'s\", 'a', 'hyperborean', 'winter', 'scene.--it', \"'s\", 'the', 'breaking', 'up', 'of', 'the', 'icebound', 'stream', 'of', 'time', 'but', 'at', 'last', 'all', 'these', 'fancies', 'yielded', 'to', 'that', 'one', 'portentous', 'something', 'in', 'the', 'picture', \"'s\", 'midst', 'that', 'once', 'found', 'out', 'and', 'all', 'the', 'rest', 'were', 'plain', 'but', 'stop', 'does', 'it', 'not', 'bear', 'a', 'faint', 'resemblance', 'to', 'a', 'gigantic', 'fish', 'even', 'the', 'great', 'leviathan', 'himself', 'in', 'fact', 'the', 'artist', \"'s\", 'design', 'seemed', 'this', 'a', 'final', 'theory', 'of', 'my', 'own', 'partly', 'based', 'upon', 'the', 'aggregated', 'opinions', 'of', 'many', 'aged', 'persons', 'with', 'whom', 'i', 'conversed', 'upon', 'the', 'subject', 'the', 'picture', 'represents', 'a', 'cape', 'horner', 'in', 'a', 'great', 'hurricane', 'the', 'half', 'foundered', 'ship', 'weltering', 'there', 'with', 'its', 'three', 'dismantled', 'masts', 'alone', 'visible', 'and', 'an', 'exasperated', 'whale', 'purposing', 'to', 'spring', 'clean', 'over', 'the', 'craft', 'is', 'in', 'the', 'enormous', 'act', 'of', 'impaling', 'himself', 'upon', 'the', 'three', 'mast', 'heads', 'the', 'opposite', 'wall', 'of', 'this', 'entry', 'was', 'hung', 'all', 'over', 'with', 'a', 'heathenish', 'array', 'of', 'monstrous', 'clubs', 'and', 'spears', 'some', 'were', 'thickly', 'set', 'with', 'glittering', 'teeth', 'resembling', 'ivory', 'saws', 'others', 'were', 'tufted', 'with', 'knots', 'of', 'human', 'hair', 'and', 'one', 'was', 'sickle', 'shaped', 'with', 'a', 'vast', 'handle', 'sweeping', 'round', 'like', 'the', 'segment', 'made', 'in', 'the', 'new', 'mown', 'grass', 'by', 'a', 'long', 'armed', 'mower', 'you', 'shuddered', 'as', 'you', 'gazed', 'and', 'wondered', 'what', 'monstrous', 'cannibal', 'and', 'savage', 'could', 'ever', 'have', 'gone', 'a', 'death', 'harvesting', 'with', 'such', 'a', 'hacking', 'horrifying', 'implement', 'mixed', 'with', 'these', 'were', 'rusty', 'old', 'whaling', 'lances', 'and', 'harpoons', 'all', 'broken', 'and', 'deformed', 'some', 'were', 'storied', 'weapons', 'with', 'this', 'once', 'long', 'lance', 'now', 'wildly', 'elbowed', 'fifty', 'years', 'ago', 'did', 'nathan', 'swain', 'kill', 'fifteen', 'whales', 'between', 'a', 'sunrise', 'and', 'a', 'sunset', 'and', 'that', 'harpoon', 'so', 'like', 'a', 'corkscrew', 'now', 'was', 'flung', 'in', 'javan', 'seas', 'and', 'run', 'away', 'with', 'by', 'a', 'whale', 'years', 'afterwards', 'slain', 'off', 'the', 'cape', 'of', 'blanco', 'the', 'original', 'iron', 'entered', 'nigh', 'the', 'tail', 'and', 'like', 'a', 'restless', 'needle', 'sojourning', 'in', 'the', 'body', 'of', 'a', 'man', 'travelled', 'full', 'forty', 'feet', 'and', 'at', 'last', 'was', 'found', 'imbedded', 'in', 'the', 'hump', 'crossing', 'this', 'dusky', 'entry', 'and', 'on', 'through', 'yon', 'low', 'arched', 'way', 'cut', 'through', 'what', 'in', 'old', 'times', 'must', 'have', 'been', 'a', 'great', 'central', 'chimney', 'with', 'fireplaces', 'all', 'round', 'you', 'enter', 'the', 'public', 'room', 'a', 'still', 'duskier', 'place', 'is', 'this', 'with', 'such', 'low', 'ponderous', 'beams', 'above', 'and', 'such', 'old', 'wrinkled', 'planks', 'beneath', 'that', 'you', 'would', 'almost', 'fancy', 'you', 'trod', 'some', 'old', 'craft', \"'s\", 'cockpits', 'especially', 'of', 'such', 'a', 'howling', 'night', 'when', 'this', 'corner', 'anchored', 'old', 'ark', 'rocked', 'so', 'furiously', 'on', 'one', 'side', 'stood', 'a', 'long', 'low', 'shelf', 'like', 'table', 'covered', 'with', 'cracked', 'glass', 'cases', 'filled', 'with', 'dusty', 'rarities', 'gathered', 'from', 'this', 'wide', 'world', \"'s\", 'remotest', 'nooks', 'projecting', 'from', 'the', 'further', 'angle', 'of', 'the', 'room', 'stands', 'a', 'dark', 'looking', 'den', 'the', 'bar', 'a', 'rude', 'attempt', 'at', 'a', 'right', 'whale', \"'s\", 'head', 'be', 'that', 'how', 'it', 'may', 'there', 'stands', 'the', 'vast', 'arched', 'bone', 'of', 'the', 'whale', \"'s\", 'jaw', 'so', 'wide', 'a', 'coach', 'might', 'almost', 'drive', 'beneath', 'it', 'within', 'are', 'shabby', 'shelves', 'ranged', 'round', 'with', 'old', 'decanters', 'bottles', 'flasks', 'and', 'in', 'those', 'jaws', 'of', 'swift', 'destruction', 'like', 'another', 'cursed', 'jonah', 'by', 'which', 'name', 'indeed', 'they', 'called', 'him', 'bustles', 'a', 'little', 'withered', 'old', 'man', 'who', 'for', 'their', 'money', 'dearly', 'sells', 'the', 'sailors', 'deliriums', 'and', 'death', 'abominable', 'are', 'the', 'tumblers', 'into', 'which', 'he', 'pours', 'his', 'poison', 'though', 'true', 'cylinders', 'without', 'within', 'the', 'villanous', 'green', 'goggling', 'glasses', 'deceitfully', 'tapered', 'downwards', 'to', 'a', 'cheating', 'bottom', 'parallel', 'meridians', 'rudely', 'pecked', 'into', 'the', 'glass', 'surround', 'these', 'footpads', \"'\", 'goblets', 'fill', 'to', 'this', 'mark', 'and', 'your', 'charge', 'is', 'but', 'a', 'penny', 'to', 'this', 'a', 'penny', 'more', 'and', 'so', 'on', 'to', 'the', 'full', 'glass', 'the', 'cape', 'horn', 'measure', 'which', 'you', 'may', 'gulp', 'down', 'for', 'a', 'shilling', 'upon', 'entering', 'the', 'place', 'i', 'found', 'a', 'number', 'of', 'young', 'seamen', 'gathered', 'about', 'a', 'table', 'examining', 'by', 'a', 'dim', 'light', 'divers', 'specimens', 'of', 'skrimshander', 'i', 'sought', 'the', 'landlord', 'and', 'telling', 'him', 'i', 'desired', 'to', 'be', 'accommodated', 'with', 'a', 'room', 'received', 'for', 'answer', 'that', 'his', 'house', 'was', 'full', 'not', 'a', 'bed', 'unoccupied', 'but', 'avast', 'he', 'added', 'tapping', 'his', 'forehead', 'you', 'haint', 'no', 'objections', 'to', 'sharing', 'a', 'harpooneer', \"'s\", 'blanket', 'have', 'ye', 'i', \"s'pose\", 'you', 'are', \"goin'\", 'a', 'whalin', \"'\", 'so', 'you', \"'d\", 'better', 'get', 'used', 'to', 'that', 'sort', 'of', 'thing', 'i', 'told', 'him', 'that', 'i', 'never', 'liked', 'to', 'sleep', 'two', 'in', 'a', 'bed', 'that', 'if', 'i', 'should', 'ever', 'do', 'so', 'it', 'would', 'depend', 'upon', 'who', 'the', 'harpooneer', 'might', 'be', 'and', 'that', 'if', 'he', 'the', 'landlord', 'really', 'had', 'no', 'other', 'place', 'for', 'me', 'and', 'the', 'harpooneer', 'was', 'not', 'decidedly', 'objectionable', 'why', 'rather', 'than', 'wander', 'further', 'about', 'a', 'strange', 'town', 'on', 'so', 'bitter', 'a', 'night', 'i', 'would', 'put', 'up', 'with', 'the', 'half', 'of', 'any', 'decent', 'man', \"'s\", 'blanket', 'i', 'thought', 'so', 'all', 'right', 'take', 'a', 'seat', 'supper?--you', 'want', 'supper', \"supper'll\", 'be', 'ready', 'directly', 'i', 'sat', 'down', 'on', 'an', 'old', 'wooden', 'settle', 'carved', 'all', 'over', 'like', 'a', 'bench', 'on', 'the', 'battery', 'at', 'one', 'end', 'a', 'ruminating', 'tar', 'was', 'still', 'further', 'adorning', 'it', 'with', 'his', 'jack', 'knife', 'stooping', 'over', 'and', 'diligently', 'working', 'away', 'at', 'the', 'space', 'between', 'his', 'legs', 'he', 'was', 'trying', 'his', 'hand', 'at', 'a', 'ship', 'under', 'full', 'sail', 'but', 'he', 'did', \"n't\", 'make', 'much', 'headway', 'i', 'thought', 'at', 'last', 'some', 'four', 'or', 'five', 'of', 'us', 'were', 'summoned', 'to', 'our', 'meal', 'in', 'an', 'adjoining', 'room', 'it', 'was', 'cold', 'as', 'iceland', 'no', 'fire', 'at', 'all', 'the', 'landlord', 'said', 'he', 'could', \"n't\", 'afford', 'it', 'nothing', 'but', 'two', 'dismal', 'tallow', 'candles', 'each', 'in', 'a', 'winding', 'sheet', 'we', 'were', 'fain', 'to', 'button', 'up', 'our', 'monkey', 'jackets', 'and', 'hold', 'to', 'our', 'lips', 'cups', 'of', 'scalding', 'tea', 'with', 'our', 'half', 'frozen', 'fingers', 'but', 'the', 'fare', 'was', 'of', 'the', 'most', 'substantial', 'kind', 'not', 'only', 'meat', 'and', 'potatoes', 'but', 'dumplings', 'good', 'heavens', 'dumplings', 'for', 'supper', 'one', 'young', 'fellow', 'in', 'a', 'green', 'box', 'coat', 'addressed', 'himself', 'to', 'these', 'dumplings', 'in', 'a', 'most', 'direful', 'manner', 'my', 'boy', 'said', 'the', 'landlord', 'you', \"'ll\", 'have', 'the', 'nightmare', 'to', 'a', 'dead', 'sartainty', 'landlord', 'i', 'whispered', 'that', 'ai', 'nt', 'the', 'harpooneer', 'is', 'it', 'oh', 'no', 'said', 'he', 'looking', 'a', 'sort', 'of', 'diabolically', 'funny', 'the', 'harpooneer', 'is', 'a', 'dark', 'complexioned', 'chap', 'he', 'never', 'eats', 'dumplings', 'he', \"don't\", 'he', 'eats', 'nothing', 'but', 'steaks', 'and', 'he', 'likes', \"'em\", 'rare', 'the', 'devil', 'he', 'does', 'says', 'i.', 'where', 'is', 'that', 'harpooneer', 'is', 'he', 'here', 'he', \"'ll\", 'be', 'here', 'afore', 'long', 'was', 'the', 'answer', 'i', 'could', 'not', 'help', 'it', 'but', 'i', 'began', 'to', 'feel', 'suspicious', 'of', 'this', 'dark', 'complexioned', 'harpooneer', 'at', 'any', 'rate', 'i', 'made', 'up', 'my', 'mind', 'that', 'if', 'it', 'so', 'turned', 'out', 'that', 'we', 'should', 'sleep', 'together', 'he', 'must', 'undress', 'and', 'get', 'into', 'bed', 'before', 'i', 'did', 'supper', 'over', 'the', 'company', 'went', 'back', 'to', 'the', 'bar', 'room', 'when', 'knowing', 'not', 'what', 'else', 'to', 'do', 'with', 'myself', 'i', 'resolved', 'to', 'spend', 'the', 'rest', 'of', 'the', 'evening', 'as', 'a', 'looker', 'on', 'presently', 'a', 'rioting', 'noise', 'was', 'heard', 'without', 'starting', 'up', 'the', 'landlord', 'cried', 'that', \"'s\", 'the', 'grampus', \"'s\", 'crew', 'i', 'seed', 'her', 'reported', 'in', 'the', 'offing', 'this', 'morning', 'a', 'three', 'years', \"'\", 'voyage', 'and', 'a', 'full', 'ship', 'hurrah', 'boys', 'now', 'we', \"'ll\", 'have', 'the', 'latest', 'news', 'from', 'the', 'feegees', 'a', 'tramping', 'of', 'sea', 'boots', 'was', 'heard', 'in', 'the', 'entry', 'the', 'door', 'was', 'flung', 'open', 'and', 'in', 'rolled', 'a', 'wild', 'set', 'of', 'mariners', 'enough', 'enveloped', 'in', 'their', 'shaggy', 'watch', 'coats', 'and', 'with', 'their', 'heads', 'muffled', 'in', 'woollen', 'comforters', 'all', 'bedarned', 'and', 'ragged', 'and', 'their', 'beards', 'stiff', 'with', 'icicles', 'they', 'seemed', 'an', 'eruption', 'of', 'bears', 'from', 'labrador', 'they', 'had', 'just', 'landed', 'from', 'their', 'boat', 'and', 'this', 'was', 'the', 'first', 'house', 'they', 'entered', 'no', 'wonder', 'then', 'that', 'they', 'made', 'a', 'straight', 'wake', 'for', 'the', 'whale', \"'s\", 'mouth', 'the', 'bar', 'when', 'the', 'wrinkled', 'little', 'old', 'jonah', 'there', 'officiating', 'soon', 'poured', 'them', 'out', 'brimmers', 'all', 'round', 'one', 'complained', 'of', 'a', 'bad', 'cold', 'in', 'his', 'head', 'upon', 'which', 'jonah', 'mixed', 'him', 'a', 'pitch', 'like', 'potion', 'of', 'gin', 'and', 'molasses', 'which', 'he', 'swore', 'was', 'a', 'sovereign', 'cure', 'for', 'all', 'colds', 'and', 'catarrhs', 'whatsoever', 'never', 'mind', 'of', 'how', 'long', 'standing', 'or', 'whether', 'caught', 'off', 'the', 'coast', 'of', 'labrador', 'or', 'on', 'the', 'weather', 'side', 'of', 'an', 'ice', 'island', 'the', 'liquor', 'soon', 'mounted', 'into', 'their', 'heads', 'as', 'it', 'generally', 'does', 'even', 'with', 'the', 'arrantest', 'topers', 'newly', 'landed', 'from', 'sea', 'and', 'they', 'began', 'capering', 'about', 'most', 'obstreperously', 'i', 'observed', 'however', 'that', 'one', 'of', 'them', 'held', 'somewhat', 'aloof', 'and', 'though', 'he', 'seemed', 'desirous', 'not', 'to', 'spoil', 'the', 'hilarity', 'of', 'his', 'shipmates', 'by', 'his', 'own', 'sober', 'face', 'yet', 'upon', 'the', 'whole', 'he', 'refrained', 'from', 'making', 'as', 'much', 'noise', 'as', 'the', 'rest', 'this', 'man', 'interested', 'me', 'at', 'once', 'and', 'since', 'the', 'sea', 'gods', 'had', 'ordained', 'that', 'he', 'should', 'soon', 'become', 'my', 'shipmate', 'though', 'but', 'a', 'sleeping', 'partner', 'one', 'so', 'far', 'as', 'this', 'narrative', 'is', 'concerned', 'i', 'will', 'here', 'venture', 'upon', 'a', 'little', 'description', 'of', 'him', 'he', 'stood', 'full', 'six', 'feet', 'in', 'height', 'with', 'noble', 'shoulders', 'and', 'a', 'chest', 'like', 'a', 'coffer', 'dam', 'i', 'have', 'seldom', 'seen', 'such', 'brawn', 'in', 'a', 'man', 'his', 'face', 'was', 'deeply', 'brown', 'and', 'burnt', 'making', 'his', 'white', 'teeth', 'dazzling', 'by', 'the', 'contrast', 'while', 'in', 'the', 'deep', 'shadows', 'of', 'his', 'eyes', 'floated', 'some', 'reminiscences', 'that', 'did', 'not', 'seem', 'to', 'give', 'him', 'much', 'joy', 'his', 'voice', 'at', 'once', 'announced', 'that', 'he', 'was', 'a', 'southerner', 'and', 'from', 'his', 'fine', 'stature', 'i', 'thought', 'he', 'must', 'be', 'one', 'of', 'those', 'tall', 'mountaineers', 'from', 'the', 'alleghanian', 'ridge', 'in', 'virginia', 'when', 'the', 'revelry', 'of', 'his', 'companions', 'had', 'mounted', 'to', 'its', 'height', 'this', 'man', 'slipped', 'away', 'unobserved', 'and', 'i', 'saw', 'no', 'more', 'of', 'him', 'till', 'he', 'became', 'my', 'comrade', 'on', 'the', 'sea', 'in', 'a', 'few', 'minutes', 'however', 'he', 'was', 'missed', 'by', 'his', 'shipmates', 'and', 'being', 'it', 'seems', 'for', 'some', 'reason', 'a', 'huge', 'favourite', 'with', 'them', 'they', 'raised', 'a', 'cry', 'of', 'bulkington', 'bulkington', 'where', \"'s\", 'bulkington', 'and', 'darted', 'out', 'of', 'the', 'house', 'in', 'pursuit', 'of', 'him', 'it', 'was', 'now', 'about', 'nine', \"o'clock\", 'and', 'the', 'room', 'seeming', 'almost', 'supernaturally', 'quiet', 'after', 'these', 'orgies', 'i', 'began', 'to', 'congratulate', 'myself', 'upon', 'a', 'little', 'plan', 'that', 'had', 'occurred', 'to', 'me', 'just', 'previous', 'to', 'the', 'entrance', 'of', 'the', 'seamen', 'no', 'man', 'prefers', 'to', 'sleep', 'two', 'in', 'a', 'bed', 'in', 'fact', 'you', 'would', 'a', 'good', 'deal', 'rather', 'not', 'sleep', 'with', 'your', 'own', 'brother', 'i', 'do', \"n't\", 'know', 'how', 'it', 'is', 'but', 'people', 'like', 'to', 'be', 'private', 'when', 'they', 'are', 'sleeping', 'and', 'when', 'it', 'comes', 'to', 'sleeping', 'with', 'an', 'unknown', 'stranger', 'in', 'a', 'strange', 'inn', 'in', 'a', 'strange', 'town', 'and', 'that', 'stranger', 'a', 'harpooneer', 'then', 'your', 'objections', 'indefinitely', 'multiply', 'nor', 'was', 'there', 'any', 'earthly', 'reason', 'why', 'i', 'as', 'a', 'sailor', 'should', 'sleep', 'two', 'in', 'a', 'bed', 'more', 'than', 'anybody', 'else', 'for', 'sailors', 'no', 'more', 'sleep', 'two', 'in', 'a', 'bed', 'at', 'sea', 'than', 'bachelor', 'kings', 'do', 'ashore', 'to', 'be', 'sure', 'they', 'all', 'sleep', 'together', 'in', 'one', 'apartment', 'but', 'you', 'have', 'your', 'own', 'hammock', 'and', 'cover', 'yourself', 'with', 'your', 'own', 'blanket', 'and', 'sleep', 'in', 'your', 'own', 'skin', 'the', 'more', 'i', 'pondered', 'over', 'this', 'harpooneer', 'the', 'more', 'i', 'abominated', 'the', 'thought', 'of', 'sleeping', 'with', 'him', 'it', 'was', 'fair', 'to', 'presume', 'that', 'being', 'a', 'harpooneer', 'his', 'linen', 'or', 'woollen', 'as', 'the', 'case', 'might', 'be', 'would', 'not', 'be', 'of', 'the', 'tidiest', 'certainly', 'none', 'of', 'the', 'finest', 'i', 'began', 'to', 'twitch', 'all', 'over', 'besides', 'it', 'was', 'getting', 'late', 'and', 'my', 'decent', 'harpooneer', 'ought', 'to', 'be', 'home', 'and', 'going', 'bedwards', 'suppose', 'now', 'he', 'should', 'tumble', 'in', 'upon', 'me', 'at', 'midnight', 'how', 'could', 'i', 'tell', 'from', 'what', 'vile', 'hole', 'he', 'had', 'been', 'coming', 'landlord', 'i', \"'ve\", 'changed', 'my', 'mind', 'about', 'that', 'harpooneer.--i', 'sha', \"n't\", 'sleep', 'with', 'him', 'i', \"'ll\", 'try', 'the', 'bench', 'here', 'just', 'as', 'you', 'please', 'i', \"'m\", 'sorry', 'i', 'ca', 'nt', 'spare', 'ye', 'a', 'tablecloth', 'for', 'a', 'mattress', 'and', 'it', \"'s\", 'a', 'plaguy', 'rough', 'board', 'here\"--feeling', 'of', 'the', 'knots', 'and', 'notches', 'but', 'wait', 'a', 'bit', 'skrimshander', 'i', \"'ve\", 'got', 'a', 'carpenter', \"'s\", 'plane', 'there', 'in', 'the', 'bar', 'wait', 'i', 'say', 'and', 'i', \"'ll\", 'make', 'ye', 'snug', 'enough', 'so', 'saying', 'he', 'procured', 'the', 'plane', 'and', 'with', 'his', 'old', 'silk', 'handkerchief', 'first', 'dusting', 'the', 'bench', 'vigorously', 'set', 'to', 'planing', 'away', 'at', 'my', 'bed', 'the', 'while', 'grinning', 'like', 'an', 'ape', 'the', 'shavings', 'flew', 'right', 'and', 'left', 'till', 'at', 'last', 'the', 'plane', 'iron', 'came', 'bump', 'against', 'an', 'indestructible', 'knot', 'the', 'landlord', 'was', 'near', 'spraining', 'his', 'wrist', 'and', 'i', 'told', 'him', 'for', 'heaven', \"'s\", 'sake', 'to', 'quit', 'the', 'bed', 'was', 'soft', 'enough', 'to', 'suit', 'me', 'and', 'i', 'did', 'not', 'know', 'how', 'all', 'the', 'planing', 'in', 'the', 'world', 'could', 'make', 'eider', 'down', 'of', 'a', 'pine', 'plank', 'so', 'gathering', 'up', 'the', 'shavings', 'with', 'another', 'grin', 'and', 'throwing', 'them', 'into', 'the', 'great', 'stove', 'in', 'the', 'middle', 'of', 'the', 'room', 'he', 'went', 'about', 'his', 'business', 'and', 'left', 'me', 'in', 'a', 'brown', 'study', 'i', 'now', 'took', 'the', 'measure', 'of', 'the', 'bench', 'and', 'found', 'that', 'it', 'was', 'a', 'foot', 'too', 'short', 'but', 'that', 'could', 'be', 'mended', 'with', 'a', 'chair', 'but', 'it', 'was', 'a', 'foot', 'too', 'narrow', 'and', 'the', 'other', 'bench', 'in', 'the', 'room', 'was', 'about', 'four', 'inches', 'higher', 'than', 'the', 'planed', 'one', 'so', 'there', 'was', 'no', 'yoking', 'them', 'i', 'then', 'placed', 'the', 'first', 'bench', 'lengthwise', 'along', 'the', 'only', 'clear', 'space', 'against', 'the', 'wall', 'leaving', 'a', 'little', 'interval', 'between', 'for', 'my', 'back', 'to', 'settle', 'down', 'in', 'but', 'i', 'soon', 'found', 'that', 'there', 'came', 'such', 'a', 'draught', 'of', 'cold', 'air', 'over', 'me', 'from', 'under', 'the', 'sill', 'of', 'the', 'window', 'that', 'this', 'plan', 'would', 'never', 'do', 'at', 'all', 'especially', 'as', 'another', 'current', 'from', 'the', 'rickety', 'door', 'met', 'the', 'one', 'from', 'the', 'window', 'and', 'both', 'together', 'formed', 'a', 'series', 'of', 'small', 'whirlwinds', 'in', 'the', 'immediate', 'vicinity', 'of', 'the', 'spot', 'where', 'i', 'had', 'thought', 'to', 'spend', 'the', 'night', 'the', 'devil', 'fetch', 'that', 'harpooneer', 'thought', 'i', 'but', 'stop', 'could', \"n't\", 'i', 'steal', 'a', 'march', 'on', 'him', 'bolt', 'his', 'door', 'inside', 'and', 'jump', 'into', 'his', 'bed', 'not', 'to', 'be', 'wakened', 'by', 'the', 'most', 'violent', 'knockings', 'it', 'seemed', 'no', 'bad', 'idea', 'but', 'upon', 'second', 'thoughts', 'i', 'dismissed', 'it', 'for', 'who', 'could', 'tell', 'but', 'what', 'the', 'next', 'morning', 'so', 'soon', 'as', 'i', 'popped', 'out', 'of', 'the', 'room', 'the', 'harpooneer', 'might', 'be', 'standing', 'in', 'the', 'entry', 'all', 'ready', 'to', 'knock', 'me', 'down', 'still', 'looking', 'round', 'me', 'again', 'and', 'seeing', 'no', 'possible', 'chance', 'of', 'spending', 'a', 'sufferable', 'night', 'unless', 'in', 'some', 'other', 'person', \"'s\", 'bed', 'i', 'began', 'to', 'think', 'that', 'after', 'all', 'i', 'might', 'be', 'cherishing', 'unwarrantable', 'prejudices', 'against', 'this', 'unknown', 'harpooneer', 'thinks', 'i', 'i', \"'ll\", 'wait', 'awhile', 'he', 'must', 'be', 'dropping', 'in', 'before', 'long', 'i', \"'ll\", 'have', 'a', 'good', 'look', 'at', 'him', 'then', 'and', 'perhaps', 'we', 'may', 'become', 'jolly', 'good', 'bedfellows', 'after', 'all', 'there', \"'s\", 'no', 'telling', 'but', 'though', 'the', 'other', 'boarders', 'kept', 'coming', 'in', 'by', 'ones', 'twos', 'and', 'threes', 'and', 'going', 'to', 'bed', 'yet', 'no', 'sign', 'of', 'my', 'harpooneer', 'landlord', 'said', 'i', 'what', 'sort', 'of', 'a', 'chap', 'is', 'he', 'does', 'he', 'always', 'keep', 'such', 'late', 'hours', 'it', 'was', 'now', 'hard', 'upon', 'twelve', \"o'clock\", 'the', 'landlord', 'chuckled', 'again', 'with', 'his', 'lean', 'chuckle', 'and', 'seemed', 'to', 'be', 'mightily', 'tickled', 'at', 'something', 'beyond', 'my', 'comprehension', 'no', 'he', 'answered', 'generally', 'he', \"'s\", 'an', 'early', 'bird', 'airley', 'to', 'bed', 'and', 'airley', 'to', 'rise', 'yes', 'he', \"'s\", 'the', 'bird', 'what', 'catches', 'the', 'worm', 'but', 'to', 'night', 'he', 'went', 'out', 'a', 'peddling', 'you', 'see', 'and', 'i', 'do', \"n't\", 'see', 'what', 'on', 'airth', 'keeps', 'him', 'so', 'late', 'unless', 'may', 'be', 'he', 'ca', \"n't\", 'sell', 'his', 'head', 'ca', \"n't\", 'sell', 'his', 'head?--what', 'sort', 'of', 'a', 'bamboozingly', 'story', 'is', 'this', 'you', 'are', 'telling', 'me', 'getting', 'into', 'a', 'towering', 'rage', 'do', 'you', 'pretend', 'to', 'say', 'landlord', 'that', 'this', 'harpooneer', 'is', 'actually', 'engaged', 'this', 'blessed', 'saturday', 'night', 'or', 'rather', 'sunday', 'morning', 'in', 'peddling', 'his', 'head', 'around', 'this', 'town', 'that', \"'s\", 'precisely', 'it', 'said', 'the', 'landlord', 'and', 'i', 'told', 'him', 'he', 'could', \"n't\", 'sell', 'it', 'here', 'the', 'market', \"'s\", 'overstocked', 'with', 'what', 'shouted', 'i.', 'with', 'heads', 'to', 'be', 'sure', 'ai', \"n't\", 'there', 'too', 'many', 'heads', 'in', 'the', 'world', 'i', 'tell', 'you', 'what', 'it', 'is', 'landlord', 'said', 'i', 'quite', 'calmly', 'you', \"'d\", 'better', 'stop', 'spinning', 'that', 'yarn', 'to', 'me', \"i'm\", 'not', 'green', 'may', 'be', 'not', 'taking', 'out', 'a', 'stick', 'and', 'whittling', 'a', 'toothpick', 'but', 'i', 'rayther', 'guess', 'you', \"'ll\", 'be', 'done', 'brown', 'if', 'that', 'ere', 'harpooneer', 'hears', 'you', 'a', 'slanderin', \"'\", 'his', 'head', 'i', \"'ll\", 'break', 'it', 'for', 'him', 'said', 'i', 'now', 'flying', 'into', 'a', 'passion', 'again', 'at', 'this', 'unaccountable', 'farrago', 'of', 'the', 'landlord', \"'s\", 'it', \"'s\", 'broke', \"a'ready\", 'said', 'he', 'broke', 'said', 'i--\"broke', 'do', 'you', 'mean', 'sartain', 'and', 'that', \"'s\", 'the', 'very', 'reason', 'he', 'ca', \"n't\", 'sell', 'it', 'i', 'guess', 'landlord', 'said', 'i', 'going', 'up', 'to', 'him', 'as', 'cool', 'as', 'mt.', 'hecla', 'in', 'a', 'snow', 'storm--\"landlord', 'stop', 'whittling', 'you', 'and', 'i', 'must', 'understand', 'one', 'another', 'and', 'that', 'too', 'without', 'delay', 'i', 'come', 'to', 'your', 'house', 'and', 'want', 'a', 'bed', 'you', 'tell', 'me', 'you', 'can', 'only', 'give', 'me', 'half', 'a', 'one', 'that', 'the', 'other', 'half', 'belongs', 'to', 'a', 'certain', 'harpooneer', 'and', 'about', 'this', 'harpooneer', 'whom', 'i', 'have', 'not', 'yet', 'seen', 'you', 'persist', 'in', 'telling', 'me', 'the', 'most', 'mystifying', 'and', 'exasperating', 'stories', 'tending', 'to', 'beget', 'in', 'me', 'an', 'uncomfortable', 'feeling', 'towards', 'the', 'man', 'whom', 'you', 'design', 'for', 'my', 'bedfellow', 'a', 'sort', 'of', 'connexion', 'landlord', 'which', 'is', 'an', 'intimate', 'and', 'confidential', 'one', 'in', 'the', 'highest', 'degree', 'i', 'now', 'demand', 'of', 'you', 'to', 'speak', 'out', 'and', 'tell', 'me', 'who', 'and', 'what', 'this', 'harpooneer', 'is', 'and', 'whether', 'i', 'shall', 'be', 'in', 'all', 'respects', 'safe', 'to', 'spend', 'the', 'night', 'with', 'him', 'and', 'in', 'the', 'first', 'place', 'you', 'will', 'be', 'so', 'good', 'as', 'to', 'unsay', 'that', 'story', 'about', 'selling', 'his', 'head', 'which', 'if', 'true', 'i', 'take', 'to', 'be', 'good', 'evidence', 'that', 'this', 'harpooneer', 'is', 'stark', 'mad', 'and', 'i', \"'ve\", 'no', 'idea', 'of', 'sleeping', 'with', 'a', 'madman', 'and', 'you', 'sir', 'you', 'i', 'mean', 'landlord', 'you', 'sir', 'by', 'trying', 'to', 'induce', 'me', 'to', 'do', 'so', 'knowingly', 'would', 'thereby', 'render', 'yourself', 'liable', 'to', 'a', 'criminal', 'prosecution', 'wall', 'said', 'the', 'landlord', 'fetching', 'a', 'long', 'breath', 'that', \"'s\", 'a', 'purty', 'long', 'sarmon', 'for', 'a', 'chap', 'that', 'rips', 'a', 'little', 'now', 'and', 'then', 'but', 'be', 'easy', 'be', 'easy', 'this', 'here', 'harpooneer', 'i', 'have', 'been', 'tellin', \"'\", 'you', 'of', 'has', 'just', 'arrived', 'from', 'the', 'south', 'seas', 'where', 'he', 'bought', 'up', 'a', 'lot', 'of', \"'\", 'balmed', 'new', 'zealand', 'heads', 'great', 'curios', 'you', 'know', 'and', 'he', \"'s\", 'sold', 'all', 'on', \"'em\", 'but', 'one', 'and', 'that', 'one', 'he', \"'s\", 'trying', 'to', 'sell', 'to', 'night', 'cause', 'to', 'morrow', \"'s\", 'sunday', 'and', 'it', 'would', 'not', 'do', 'to', 'be', 'sellin', \"'\", 'human', 'heads', 'about', 'the', 'streets', 'when', 'folks', 'is', \"goin'\", 'to', 'churches', 'he', 'wanted', 'to', 'last', 'sunday', 'but', 'i', 'stopped', 'him', 'just', 'as', 'he', 'was', \"goin'\", 'out', 'of', 'the', 'door', 'with', 'four', 'heads', 'strung', 'on', 'a', 'string', 'for', 'all', 'the', 'airth', 'like', 'a', 'string', 'of', 'inions', 'this', 'account', 'cleared', 'up', 'the', 'otherwise', 'unaccountable', 'mystery', 'and', 'showed', 'that', 'the', 'landlord', 'after', 'all', 'had', 'had', 'no', 'idea', 'of', 'fooling', 'me', 'but', 'at', 'the', 'same', 'time', 'what', 'could', 'i', 'think', 'of', 'a', 'harpooneer', 'who', 'stayed', 'out', 'of', 'a', 'saturday', 'night', 'clean', 'into', 'the', 'holy', 'sabbath', 'engaged', 'in', 'such', 'a', 'cannibal', 'business', 'as', 'selling', 'the', 'heads', 'of', 'dead', 'idolators', 'depend', 'upon', 'it', 'landlord', 'that', 'harpooneer', 'is', 'a', 'dangerous', 'man', 'he', 'pays', \"reg'lar\", 'was', 'the', 'rejoinder', 'but', 'come', 'it', \"'s\", 'getting', 'dreadful', 'late', 'you', 'had', 'better', 'be', 'turning', 'flukes', 'it', \"'s\", 'a', 'nice', 'bed', 'sal', 'and', 'me', 'slept', 'in', 'that', 'ere', 'bed', 'the', 'night', 'we', 'were', 'spliced', 'there', \"'s\", 'plenty', 'of', 'room', 'for', 'two', 'to', 'kick', 'about', 'in', 'that', 'bed', 'it', \"'s\", 'an', 'almighty', 'big', 'bed', 'that', 'why', 'afore', 'we', 'give', 'it', 'up', 'sal', 'used', 'to', 'put', 'our', 'sam', 'and', 'little', 'johnny', 'in', 'the', 'foot', 'of', 'it', 'but', 'i', 'got', 'a', 'dreaming', 'and', 'sprawling', 'about', 'one', 'night', 'and', 'somehow', 'sam', 'got', 'pitched', 'on', 'the', 'floor', 'and', 'came', 'near', 'breaking', 'his', 'arm', 'arter', 'that', 'sal', 'said', 'it', 'would', \"n't\", 'do', 'come', 'along', 'here', 'i', \"'ll\", 'give', 'ye', 'a', 'glim', 'in', 'a', 'jiffy', 'and', 'so', 'saying', 'he', 'lighted', 'a', 'candle', 'and', 'held', 'it', 'towards', 'me', 'offering', 'to', 'lead', 'the', 'way', 'but', 'i', 'stood', 'irresolute', 'when', 'looking', 'at', 'a', 'clock', 'in', 'the', 'corner', 'he', 'exclaimed', 'i', 'vum', 'it', \"'s\", 'sunday', 'you', 'wo', \"n't\", 'see', 'that', 'harpooneer', 'to', 'night', 'he', \"'s\", 'come', 'to', 'anchor', 'somewhere', 'come', 'along', 'then', 'do', 'come', \"won't\", 'ye', 'come', 'i', 'considered', 'the', 'matter', 'a', 'moment', 'and', 'then', 'up', 'stairs', 'we', 'went', 'and', 'i', 'was', 'ushered', 'into', 'a', 'small', 'room', 'cold', 'as', 'a', 'clam', 'and', 'furnished', 'sure', 'enough', 'with', 'a', 'prodigious', 'bed', 'almost', 'big', 'enough', 'indeed', 'for', 'any', 'four', 'harpooneers', 'to', 'sleep', 'abreast', 'there', 'said', 'the', 'landlord', 'placing', 'the', 'candle', 'on', 'a', 'crazy', 'old', 'sea', 'chest', 'that', 'did', 'double', 'duty', 'as', 'a', 'wash', 'stand', 'and', 'centre', 'table', 'there', 'make', 'yourself', 'comfortable', 'now', 'and', 'good', 'night', 'to', 'ye', 'i', 'turned', 'round', 'from', 'eyeing', 'the', 'bed', 'but', 'he', 'had', 'disappeared', 'folding', 'back', 'the', 'counterpane', 'i', 'stooped', 'over', 'the', 'bed', 'though', 'none', 'of', 'the', 'most', 'elegant', 'it', 'yet', 'stood', 'the', 'scrutiny', 'tolerably', 'well', 'i', 'then', 'glanced', 'round', 'the', 'room', 'and', 'besides', 'the', 'bedstead', 'and', 'centre', 'table', 'could', 'see', 'no', 'other', 'furniture', 'belonging', 'to', 'the', 'place', 'but', 'a', 'rude', 'shelf', 'the', 'four', 'walls', 'and', 'a', 'papered', 'fireboard', 'representing', 'a', 'man', 'striking', 'a', 'whale', 'of', 'things', 'not', 'properly', 'belonging', 'to', 'the', 'room', 'there', 'was', 'a', 'hammock', 'lashed', 'up', 'and', 'thrown', 'upon', 'the', 'floor', 'in', 'one', 'corner', 'also', 'a', 'large', 'seaman', \"'s\", 'bag', 'containing', 'the', 'harpooneer', \"'s\", 'wardrobe', 'no', 'doubt', 'in', 'lieu', 'of', 'a', 'land', 'trunk', 'likewise', 'there', 'was', 'a', 'parcel', 'of', 'outlandish', 'bone', 'fish', 'hooks', 'on', 'the', 'shelf', 'over', 'the', 'fire', 'place', 'and', 'a', 'tall', 'harpoon', 'standing', 'at', 'the', 'head', 'of', 'the', 'bed', 'but', 'what', 'is', 'this', 'on', 'the', 'chest', 'i', 'took', 'it', 'up', 'and', 'held', 'it', 'close', 'to', 'the', 'light', 'and', 'felt', 'it', 'and', 'smelt', 'it', 'and', 'tried', 'every', 'way', 'possible', 'to', 'arrive', 'at', 'some', 'satisfactory', 'conclusion', 'concerning', 'it', 'i', 'can', 'compare', 'it', 'to', 'nothing', 'but', 'a', 'large', 'door', 'mat', 'ornamented', 'at', 'the', 'edges', 'with', 'little', 'tinkling', 'tags', 'something', 'like', 'the', 'stained', 'porcupine', 'quills', 'round', 'an', 'indian', 'moccasin', 'there', 'was', 'a', 'hole', 'or', 'slit', 'in', 'the', 'middle', 'of', 'this', 'mat', 'as', 'you', 'see', 'the', 'same', 'in', 'south', 'american', 'ponchos', 'but', 'could', 'it', 'be', 'possible', 'that', 'any', 'sober', 'harpooneer', 'would', 'get', 'into', 'a', 'door', 'mat', 'and', 'parade', 'the', 'streets', 'of', 'any', 'christian', 'town', 'in', 'that', 'sort', 'of', 'guise', 'i', 'put', 'it', 'on', 'to', 'try', 'it', 'and', 'it', 'weighed', 'me', 'down', 'like', 'a', 'hamper', 'being', 'uncommonly', 'shaggy', 'and', 'thick', 'and', 'i', 'thought', 'a', 'little', 'damp', 'as', 'though', 'this', 'mysterious', 'harpooneer', 'had', 'been', 'wearing', 'it', 'of', 'a', 'rainy', 'day', 'i', 'went', 'up', 'in', 'it', 'to', 'a', 'bit', 'of', 'glass', 'stuck', 'against', 'the', 'wall', 'and', 'i', 'never', 'saw', 'such', 'a', 'sight', 'in', 'my', 'life', 'i', 'tore', 'myself', 'out', 'of', 'it', 'in', 'such', 'a', 'hurry', 'that', 'i', 'gave', 'myself', 'a', 'kink', 'in', 'the', 'neck', 'i', 'sat', 'down', 'on', 'the', 'side', 'of', 'the', 'bed', 'and', 'commenced', 'thinking', 'about', 'this', 'head', 'peddling', 'harpooneer', 'and', 'his', 'door', 'mat', 'after', 'thinking', 'some', 'time', 'on', 'the', 'bed', 'side', 'i', 'got', 'up', 'and', 'took', 'off', 'my', 'monkey', 'jacket', 'and', 'then', 'stood', 'in', 'the', 'middle', 'of', 'the', 'room', 'thinking', 'i', 'then', 'took', 'off', 'my', 'coat', 'and', 'thought', 'a', 'little', 'more', 'in', 'my', 'shirt', 'sleeves', 'but', 'beginning', 'to', 'feel', 'very', 'cold', 'now', 'half', 'undressed', 'as', 'i', 'was', 'and', 'remembering', 'what', 'the', 'landlord', 'said', 'about', 'the', 'harpooneer', \"'s\", 'not', 'coming', 'home', 'at', 'all', 'that', 'night', 'it', 'being', 'so', 'very', 'late', 'i', 'made', 'no', 'more', 'ado', 'but', 'jumped', 'out', 'of', 'my', 'pantaloons', 'and', 'boots', 'and', 'then', 'blowing', 'out', 'the', 'light', 'tumbled', 'into', 'bed', 'and', 'commended', 'myself', 'to', 'the', 'care', 'of', 'heaven', 'whether', 'that', 'mattress', 'was', 'stuffed', 'with', 'corn', 'cobs', 'or', 'broken', 'crockery', 'there', 'is', 'no', 'telling', 'but', 'i', 'rolled', 'about', 'a', 'good', 'deal', 'and', 'could', 'not', 'sleep', 'for', 'a', 'long', 'time', 'at', 'last', 'i', 'slid', 'off', 'into', 'a', 'light', 'doze', 'and', 'had', 'pretty', 'nearly', 'made', 'a', 'good', 'offing', 'towards', 'the', 'land', 'of', 'nod', 'when', 'i', 'heard', 'a', 'heavy', 'footfall', 'in', 'the', 'passage', 'and', 'saw', 'a', 'glimmer', 'of', 'light', 'come', 'into', 'the', 'room', 'from', 'under', 'the', 'door', 'lord', 'save', 'me', 'thinks', 'i', 'that', 'must', 'be', 'the', 'harpooneer', 'the', 'infernal', 'head', 'peddler', 'but', 'i', 'lay', 'perfectly', 'still', 'and', 'resolved', 'not', 'to', 'say', 'a', 'word', 'till', 'spoken', 'to', 'holding', 'a', 'light', 'in', 'one', 'hand', 'and', 'that', 'identical', 'new', 'zealand', 'head', 'in', 'the', 'other', 'the', 'stranger', 'entered', 'the', 'room', 'and', 'without', 'looking', 'towards', 'the', 'bed', 'placed', 'his', 'candle', 'a', 'good', 'way', 'off', 'from', 'me', 'on', 'the', 'floor', 'in', 'one', 'corner', 'and', 'then', 'began', 'working', 'away', 'at', 'the', 'knotted', 'cords', 'of', 'the', 'large', 'bag', 'i', 'before', 'spoke', 'of', 'as', 'being', 'in', 'the', 'room', 'i', 'was', 'all', 'eagerness', 'to', 'see', 'his', 'face', 'but', 'he', 'kept', 'it', 'averted', 'for', 'some', 'time', 'while', 'employed', 'in', 'unlacing', 'the', 'bag', \"'s\", 'mouth', 'this', 'accomplished', 'however', 'he', 'turned', 'round', 'when', 'good', 'heavens', 'what', 'a', 'sight', 'such', 'a', 'face', 'it', 'was', 'of', 'a', 'dark', 'purplish', 'yellow', 'colour', 'here', 'and', 'there', 'stuck', 'over', 'with', 'large', 'blackish', 'looking', 'squares', 'yes', 'it', \"'s\", 'just', 'as', 'i', 'thought', 'he', \"'s\", 'a', 'terrible', 'bedfellow', 'he', \"'s\", 'been', 'in', 'a', 'fight', 'got', 'dreadfully', 'cut', 'and', 'here', 'he', 'is', 'just', 'from', 'the', 'surgeon', 'but', 'at', 'that', 'moment', 'he', 'chanced', 'to', 'turn', 'his', 'face', 'so', 'towards', 'the', 'light', 'that', 'i', 'plainly', 'saw', 'they', 'could', 'not', 'be', 'sticking', 'plasters', 'at', 'all', 'those', 'black', 'squares', 'on', 'his', 'cheeks', 'they', 'were', 'stains', 'of', 'some', 'sort', 'or', 'other', 'at', 'first', 'i', 'knew', 'not', 'what', 'to', 'make', 'of', 'this', 'but', 'soon', 'an', 'inkling', 'of', 'the', 'truth', 'occurred', 'to', 'me', 'i', 'remembered', 'a', 'story', 'of', 'a', 'white', 'man', 'a', 'whaleman', 'too', 'who', 'falling', 'among', 'the', 'cannibals', 'had', 'been', 'tattooed', 'by', 'them', 'i', 'concluded', 'that', 'this', 'harpooneer', 'in', 'the', 'course', 'of', 'his', 'distant', 'voyages', 'must', 'have', 'met', 'with', 'a', 'similar', 'adventure', 'and', 'what', 'is', 'it', 'thought', 'i', 'after', 'all', 'it', \"'s\", 'only', 'his', 'outside', 'a', 'man', 'can', 'be', 'honest', 'in', 'any', 'sort', 'of', 'skin', 'but', 'then', 'what', 'to', 'make', 'of', 'his', 'unearthly', 'complexion', 'that', 'part', 'of', 'it', 'i', 'mean', 'lying', 'round', 'about', 'and', 'completely', 'independent', 'of', 'the', 'squares', 'of', 'tattooing', 'to', 'be', 'sure', 'it', 'might', 'be', 'nothing', 'but', 'a', 'good', 'coat', 'of', 'tropical', 'tanning', 'but', 'i', 'never', 'heard', 'of', 'a', 'hot', 'sun', \"'s\", 'tanning', 'a', 'white', 'man', 'into', 'a', 'purplish', 'yellow', 'one', 'however', 'i', 'had', 'never', 'been', 'in', 'the', 'south', 'seas', 'and', 'perhaps', 'the', 'sun', 'there', 'produced', 'these', 'extraordinary', 'effects', 'upon', 'the', 'skin', 'now', 'while', 'all', 'these', 'ideas', 'were', 'passing', 'through', 'me', 'like', 'lightning', 'this', 'harpooneer', 'never', 'noticed', 'me', 'at', 'all', 'but', 'after', 'some', 'difficulty', 'having', 'opened', 'his', 'bag', 'he', 'commenced', 'fumbling', 'in', 'it', 'and', 'presently', 'pulled', 'out', 'a', 'sort', 'of', 'tomahawk', 'and', 'a', 'seal', 'skin', 'wallet', 'with', 'the', 'hair', 'on', 'placing', 'these', 'on', 'the', 'old', 'chest', 'in', 'the', 'middle', 'of', 'the', 'room', 'he', 'then', 'took', 'the', 'new', 'zealand', 'head', 'a', 'ghastly', 'thing', 'enough', 'and', 'crammed', 'it', 'down', 'into', 'the', 'bag', 'he', 'now', 'took', 'off', 'his', 'hat', 'a', 'new', 'beaver', 'hat', 'when', 'i', 'came', 'nigh', 'singing', 'out', 'with', 'fresh', 'surprise', 'there', 'was', 'no', 'hair', 'on', 'his', 'head', 'none', 'to', 'speak', 'of', 'at', 'least', 'nothing', 'but', 'a', 'small', 'scalp', 'knot', 'twisted', 'up', 'on', 'his', 'forehead', 'his', 'bald', 'purplish', 'head', 'now', 'looked', 'for', 'all', 'the', 'world', 'like', 'a', 'mildewed', 'skull', 'had', 'not', 'the', 'stranger', 'stood', 'between', 'me', 'and', 'the', 'door', 'i', 'would', 'have', 'bolted', 'out', 'of', 'it', 'quicker', 'than', 'ever', 'i', 'bolted', 'a', 'dinner', 'even', 'as', 'it', 'was', 'i', 'thought', 'something', 'of', 'slipping', 'out', 'of', 'the', 'window', 'but', 'it', 'was', 'the', 'second', 'floor', 'back', 'i', 'am', 'no', 'coward', 'but', 'what', 'to', 'make', 'of', 'this', 'head', 'peddling', 'purple', 'rascal', 'altogether', 'passed', 'my', 'comprehension', 'ignorance', 'is', 'the', 'parent', 'of', 'fear', 'and', 'being', 'completely', 'nonplussed', 'and', 'confounded', 'about', 'the', 'stranger', 'i', 'confess', 'i', 'was', 'now', 'as', 'much', 'afraid', 'of', 'him', 'as', 'if', 'it', 'was', 'the', 'devil', 'himself', 'who', 'had', 'thus', 'broken', 'into', 'my', 'room', 'at', 'the', 'dead', 'of', 'night', 'in', 'fact', 'i', 'was', 'so', 'afraid', 'of', 'him', 'that', 'i', 'was', 'not', 'game', 'enough', 'just', 'then', 'to', 'address', 'him', 'and', 'demand', 'a', 'satisfactory', 'answer', 'concerning', 'what', 'seemed', 'inexplicable', 'in', 'him', 'meanwhile', 'he', 'continued', 'the', 'business', 'of', 'undressing', 'and', 'at', 'last', 'showed', 'his', 'chest', 'and', 'arms', 'as', 'i', 'live', 'these', 'covered', 'parts', 'of', 'him', 'were', 'checkered', 'with', 'the', 'same', 'squares', 'as', 'his', 'face', 'his', 'back', 'too', 'was', 'all', 'over', 'the', 'same', 'dark', 'squares', 'he', 'seemed', 'to', 'have', 'been', 'in', 'a', 'thirty', 'years', \"'\", 'war', 'and', 'just', 'escaped', 'from', 'it', 'with', 'a', 'sticking', 'plaster', 'shirt', 'still', 'more', 'his', 'very', 'legs', 'were', 'marked', 'as', 'if', 'a', 'parcel', 'of', 'dark', 'green', 'frogs', 'were', 'running', 'up', 'the', 'trunks', 'of', 'young', 'palms', 'it', 'was', 'now', 'quite', 'plain', 'that', 'he', 'must', 'be', 'some', 'abominable', 'savage', 'or', 'other', 'shipped', 'aboard', 'of', 'a', 'whaleman', 'in', 'the', 'south', 'seas', 'and', 'so', 'landed', 'in', 'this', 'christian', 'country', 'i', 'quaked', 'to', 'think', 'of', 'it', 'a', 'peddler', 'of', 'heads', 'too', 'perhaps', 'the', 'heads', 'of', 'his', 'own', 'brothers', 'he', 'might', 'take', 'a', 'fancy', 'to', 'mine', 'heavens', 'look', 'at', 'that', 'tomahawk', 'but', 'there', 'was', 'no', 'time', 'for', 'shuddering', 'for', 'now', 'the', 'savage', 'went', 'about', 'something', 'that', 'completely', 'fascinated', 'my', 'attention', 'and', 'convinced', 'me', 'that', 'he', 'must', 'indeed', 'be', 'a', 'heathen', 'going', 'to', 'his', 'heavy', 'grego', 'or', 'wrapall', 'or', 'dreadnaught', 'which', 'he', 'had', 'previously', 'hung', 'on', 'a', 'chair', 'he', 'fumbled', 'in', 'the', 'pockets', 'and', 'produced', 'at', 'length', 'a', 'curious', 'little', 'deformed', 'image', 'with', 'a', 'hunch', 'on', 'its', 'back', 'and', 'exactly', 'the', 'colour', 'of', 'a', 'three', 'days', \"'\", 'old', 'congo', 'baby', 'remembering', 'the', 'embalmed', 'head', 'at', 'first', 'i', 'almost', 'thought', 'that', 'this', 'black', 'manikin', 'was', 'a', 'real', 'baby', 'preserved', 'in', 'some', 'similar', 'manner', 'but', 'seeing', 'that', 'it', 'was', 'not', 'at', 'all', 'limber', 'and', 'that', 'it', 'glistened', 'a', 'good', 'deal', 'like', 'polished', 'ebony', 'i', 'concluded', 'that', 'it', 'must', 'be', 'nothing', 'but', 'a', 'wooden', 'idol', 'which', 'indeed', 'it', 'proved', 'to', 'be', 'for', 'now', 'the', 'savage', 'goes', 'up', 'to', 'the', 'empty', 'fire', 'place', 'and', 'removing', 'the', 'papered', 'fire', 'board', 'sets', 'up', 'this', 'little', 'hunch', 'backed', 'image', 'like', 'a', 'tenpin', 'between', 'the', 'andirons', 'the', 'chimney', 'jambs', 'and', 'all', 'the', 'bricks', 'inside', 'were', 'very', 'sooty', 'so', 'that', 'i', 'thought', 'this', 'fire', 'place', 'made', 'a', 'very', 'appropriate', 'little', 'shrine', 'or', 'chapel', 'for', 'his', 'congo', 'idol', 'i', 'now', 'screwed', 'my', 'eyes', 'hard', 'towards', 'the', 'half', 'hidden', 'image', 'feeling', 'but', 'ill', 'at', 'ease', 'meantime', 'to', 'see', 'what', 'was', 'next', 'to', 'follow', 'first', 'he', 'takes', 'about', 'a', 'double', 'handful', 'of', 'shavings', 'out', 'of', 'his', 'grego', 'pocket', 'and', 'places', 'them', 'carefully', 'before', 'the', 'idol', 'then', 'laying', 'a', 'bit', 'of', 'ship', 'biscuit', 'on', 'top', 'and', 'applying', 'the', 'flame', 'from', 'the', 'lamp', 'he', 'kindled', 'the', 'shavings', 'into', 'a', 'sacrificial', 'blaze', 'presently', 'after', 'many', 'hasty', 'snatches', 'into', 'the', 'fire', 'and', 'still', 'hastier', 'withdrawals', 'of', 'his', 'fingers', 'whereby', 'he', 'seemed', 'to', 'be', 'scorching', 'them', 'badly', 'he', 'at', 'last', 'succeeded', 'in', 'drawing', 'out', 'the', 'biscuit', 'then', 'blowing', 'off', 'the', 'heat', 'and', 'ashes', 'a', 'little', 'he', 'made', 'a', 'polite', 'offer', 'of', 'it', 'to', 'the', 'little', 'negro', 'but', 'the', 'little', 'devil', 'did', 'not', 'seem', 'to', 'fancy', 'such', 'dry', 'sort', 'of', 'fare', 'at', 'all', 'he', 'never', 'moved', 'his', 'lips', 'all', 'these', 'strange', 'antics', 'were', 'accompanied', 'by', 'still', 'stranger', 'guttural', 'noises', 'from', 'the', 'devotee', 'who', 'seemed', 'to', 'be', 'praying', 'in', 'a', 'sing', 'song', 'or', 'else', 'singing', 'some', 'pagan', 'psalmody', 'or', 'other', 'during', 'which', 'his', 'face', 'twitched', 'about', 'in', 'the', 'most', 'unnatural', 'manner', 'at', 'last', 'extinguishing', 'the', 'fire', 'he', 'took', 'the', 'idol', 'up', 'very', 'unceremoniously', 'and', 'bagged', 'it', 'again', 'in', 'his', 'grego', 'pocket', 'as', 'carelessly', 'as', 'if', 'he', 'were', 'a', 'sportsman', 'bagging', 'a', 'dead', 'woodcock', 'all', 'these', 'queer', 'proceedings', 'increased', 'my', 'uncomfortableness', 'and', 'seeing', 'him', 'now', 'exhibiting', 'strong', 'symptoms', 'of', 'concluding', 'his', 'business', 'operations', 'and', 'jumping', 'into', 'bed', 'with', 'me', 'i', 'thought', 'it', 'was', 'high', 'time', 'now', 'or', 'never', 'before', 'the', 'light', 'was', 'put', 'out', 'to', 'break', 'the', 'spell', 'in', 'which', 'i', 'had', 'so', 'long', 'been', 'bound', 'but', 'the', 'interval', 'i', 'spent', 'in', 'deliberating', 'what', 'to', 'say', 'was', 'a', 'fatal', 'one', 'taking', 'up', 'his', 'tomahawk', 'from', 'the', 'table', 'he', 'examined', 'the', 'head', 'of', 'it', 'for', 'an', 'instant', 'and', 'then', 'holding', 'it', 'to', 'the', 'light', 'with', 'his', 'mouth', 'at', 'the', 'handle', 'he', 'puffed', 'out', 'great', 'clouds', 'of', 'tobacco', 'smoke', 'the', 'next', 'moment', 'the', 'light', 'was', 'extinguished', 'and', 'this', 'wild', 'cannibal', 'tomahawk', 'between', 'his', 'teeth', 'sprang', 'into', 'bed', 'with', 'me', 'i', 'sang', 'out', 'i', 'could', 'not', 'help', 'it', 'now', 'and', 'giving', 'a', 'sudden', 'grunt', 'of', 'astonishment', 'he', 'began', 'feeling', 'me', 'stammering', 'out', 'something', 'i', 'knew', 'not', 'what', 'i', 'rolled', 'away', 'from', 'him', 'against', 'the', 'wall', 'and', 'then', 'conjured', 'him', 'whoever', 'or', 'whatever', 'he', 'might', 'be', 'to', 'keep', 'quiet', 'and', 'let', 'me', 'get', 'up', 'and', 'light', 'the', 'lamp', 'again', 'but', 'his', 'guttural', 'responses', 'satisfied', 'me', 'at', 'once', 'that', 'he', 'but', 'ill', 'comprehended', 'my', 'meaning', 'who', 'e', 'debel', 'you?\"--he', 'at', 'last', 'said--\"you', 'no', 'speak', 'e', 'dam', 'me', 'i', 'kill', 'e', 'and', 'so', 'saying', 'the', 'lighted', 'tomahawk', 'began', 'flourishing', 'about', 'me', 'in', 'the', 'dark', 'landlord', 'for', 'god', \"'s\", 'sake', 'peter', 'coffin', 'shouted', 'i.', 'landlord', 'watch', 'coffin', 'angels', 'save', 'me', 'speak', 'e', 'tell', 'ee', 'me', 'who', 'ee', 'be', 'or', 'dam', 'me', 'i', 'kill', 'e', 'again', 'growled', 'the', 'cannibal', 'while', 'his', 'horrid', 'flourishings', 'of', 'the', 'tomahawk', 'scattered', 'the', 'hot', 'tobacco', 'ashes', 'about', 'me', 'till', 'i', 'thought', 'my', 'linen', 'would', 'get', 'on', 'fire', 'but', 'thank', 'heaven', 'at', 'that', 'moment', 'the', 'landlord', 'came', 'into', 'the', 'room', 'light', 'in', 'hand', 'and', 'leaping', 'from', 'the', 'bed', 'i', 'ran', 'up', 'to', 'him', 'do', \"n't\", 'be', 'afraid', 'now', 'said', 'he', 'grinning', 'again', 'queequeg', 'here', 'would', \"n't\", 'harm', 'a', 'hair', 'of', 'your', 'head', 'stop', 'your', 'grinning', 'shouted', 'i', 'and', 'why', 'did', \"n't\", 'you', 'tell', 'me', 'that', 'that', 'infernal', 'harpooneer', 'was', 'a', 'cannibal', 'i', 'thought', 'ye', \"know'd\", \"it;--didn't\", 'i', 'tell', 'ye', 'he', 'was', 'a', 'peddlin', \"'\", 'heads', 'around', 'town?--but', 'turn', 'flukes', 'again', 'and', 'go', 'to', 'sleep', 'queequeg', 'look', 'here', 'you', 'sabbee', 'me', 'i', 'sabbee', 'you', 'this', 'man', 'sleepe', 'you', 'you', 'sabbee', 'me', 'sabbee', 'plenty\"--grunted', 'queequeg', 'puffing', 'away', 'at', 'his', 'pipe', 'and', 'sitting', 'up', 'in', 'bed', 'you', 'gettee', 'in', 'he', 'added', 'motioning', 'to', 'me', 'with', 'his', 'tomahawk', 'and', 'throwing', 'the', 'clothes', 'to', 'one', 'side', 'he', 'really', 'did', 'this', 'in', 'not', 'only', 'a', 'civil', 'but', 'a', 'really', 'kind', 'and', 'charitable', 'way', 'i', 'stood', 'looking', 'at', 'him', 'a', 'moment', 'for', 'all', 'his', 'tattooings', 'he', 'was', 'on', 'the', 'whole', 'a', 'clean', 'comely', 'looking', 'cannibal', 'what', \"'s\", 'all', 'this', 'fuss', 'i', 'have', 'been', 'making', 'about', 'thought', 'i', 'to', 'myself', 'the', 'man', \"'s\", 'a', 'human', 'being', 'just', 'as', 'i', 'am', 'he', 'has', 'just', 'as', 'much', 'reason', 'to', 'fear', 'me', 'as', 'i', 'have', 'to', 'be', 'afraid', 'of', 'him', 'better', 'sleep', 'with', 'a', 'sober', 'cannibal', 'than', 'a', 'drunken', 'christian', 'landlord', 'said', 'i', 'tell', 'him', 'to', 'stash', 'his', 'tomahawk', 'there', 'or', 'pipe', 'or', 'whatever', 'you', 'call', 'it', 'tell', 'him', 'to', 'stop', 'smoking', 'in', 'short', 'and', 'i', 'will', 'turn', 'in', 'with', 'him', 'but', 'i', 'do', \"n't\", 'fancy', 'having', 'a', 'man', 'smoking', 'in', 'bed', 'with', 'me', 'it', \"'s\", 'dangerous', 'besides', 'i', 'ai', \"n't\", 'insured', 'this', 'being', 'told', 'to', 'queequeg', 'he', 'at', 'once', 'complied', 'and', 'again', 'politely', 'motioned', 'me', 'to', 'get', 'into', 'bed', 'rolling', 'over', 'to', 'one', 'side', 'as', 'much', 'as', 'to', 'say', 'i', 'wo', \"n't\", 'touch', 'a', 'leg', 'of', 'ye', 'good', 'night', 'landlord', 'said', 'i', 'you', 'may', 'go', 'i', 'turned', 'in', 'and', 'never', 'slept', 'better', 'in', 'my', 'life', 'upon', 'waking', 'next', 'morning', 'about', 'daylight', 'i', 'found', 'queequeg', \"'s\", 'arm', 'thrown', 'over', 'me', 'in', 'the', 'most', 'loving', 'and', 'affectionate', 'manner', 'you', 'had', 'almost', 'thought', 'i', 'had', 'been', 'his', 'wife', 'the', 'counterpane', 'was', 'of', 'patchwork', 'full', 'of', 'odd', 'little', 'parti', 'coloured', 'squares', 'and', 'triangles', 'and', 'this', 'arm', 'of', 'his', 'tattooed', 'all', 'over', 'with', 'an', 'interminable', 'cretan', 'labyrinth', 'of', 'a', 'figure', 'no', 'two', 'parts', 'of', 'which', 'were', 'of', 'one', 'precise', 'shade', 'owing', 'i', 'suppose', 'to', 'his', 'keeping', 'his', 'arm', 'at', 'sea', 'unmethodically', 'in', 'sun', 'and', 'shade', 'his', 'shirt', 'sleeves', 'irregularly', 'rolled', 'up', 'at', 'various', 'times', 'this', 'same', 'arm', 'of', 'his', 'i', 'say', 'looked', 'for', 'all', 'the', 'world', 'like', 'a', 'strip', 'of', 'that', 'same', 'patchwork', 'quilt', 'indeed', 'partly', 'lying', 'on', 'it', 'as', 'the', 'arm', 'did', 'when', 'i', 'first', 'awoke', 'i', 'could', 'hardly', 'tell', 'it', 'from', 'the', 'quilt', 'they', 'so', 'blended', 'their', 'hues', 'together', 'and', 'it', 'was', 'only', 'by', 'the', 'sense', 'of', 'weight', 'and', 'pressure', 'that', 'i', 'could', 'tell', 'that', 'queequeg', 'was', 'hugging', 'me', 'my', 'sensations', 'were', 'strange', 'let', 'me', 'try', 'to', 'explain', 'them', 'when', 'i', 'was', 'a', 'child', 'i', 'well', 'remember', 'a', 'somewhat', 'similar', 'circumstance', 'that', 'befell', 'me', 'whether', 'it', 'was', 'a', 'reality', 'or', 'a', 'dream', 'i', 'never', 'could', 'entirely', 'settle', 'the', 'circumstance', 'was', 'this', 'i', 'had', 'been', 'cutting', 'up', 'some', 'caper', 'or', 'other', 'i', 'think', 'it', 'was', 'trying', 'to', 'crawl', 'up', 'the', 'chimney', 'as', 'i', 'had', 'seen', 'a', 'little', 'sweep', 'do', 'a', 'few', 'days', 'previous', 'and', 'my', 'stepmother', 'who', 'somehow', 'or', 'other', 'was', 'all', 'the', 'time', 'whipping', 'me', 'or', 'sending', 'me', 'to', 'bed', 'supperless,--my', 'mother', 'dragged', 'me', 'by', 'the', 'legs', 'out', 'of', 'the', 'chimney', 'and', 'packed', 'me', 'off', 'to', 'bed', 'though', 'it', 'was', 'only', 'two', \"o'clock\", 'in', 'the', 'afternoon', 'of', 'the', '21st', 'june', 'the', 'longest', 'day', 'in', 'the', 'year', 'in', 'our', 'hemisphere', 'i', 'felt', 'dreadfully', 'but', 'there', 'was', 'no', 'help', 'for', 'it', 'so', 'up', 'stairs', 'i', 'went', 'to', 'my', 'little', 'room', 'in', 'the', 'third', 'floor', 'undressed', 'myself', 'as', 'slowly', 'as', 'possible', 'so', 'as', 'to', 'kill', 'time', 'and', 'with', 'a', 'bitter', 'sigh', 'got', 'between', 'the', 'sheets', 'i', 'lay', 'there', 'dismally', 'calculating', 'that', 'sixteen', 'entire', 'hours', 'must', 'elapse', 'before', 'i', 'could', 'hope', 'for', 'a', 'resurrection', 'sixteen', 'hours', 'in', 'bed', 'the', 'small', 'of', 'my', 'back', 'ached', 'to', 'think', 'of', 'it', 'and', 'it', 'was', 'so', 'light', 'too', 'the', 'sun', 'shining', 'in', 'at', 'the', 'window', 'and', 'a', 'great', 'rattling', 'of', 'coaches', 'in', 'the', 'streets', 'and', 'the', 'sound', 'of', 'gay', 'voices', 'all', 'over', 'the', 'house', 'i', 'felt', 'worse', 'and', 'worse', 'at', 'last', 'i', 'got', 'up', 'dressed', 'and', 'softly', 'going', 'down', 'in', 'my', 'stockinged', 'feet', 'sought', 'out', 'my', 'stepmother', 'and', 'suddenly', 'threw', 'myself', 'at', 'her', 'feet', 'beseeching', 'her', 'as', 'a', 'particular', 'favour', 'to', 'give', 'me', 'a', 'good', 'slippering', 'for', 'my', 'misbehaviour', 'anything', 'indeed', 'but', 'condemning', 'me', 'to', 'lie', 'abed', 'such', 'an', 'unendurable', 'length', 'of', 'time', 'but', 'she', 'was', 'the', 'best', 'and', 'most', 'conscientious', 'of', 'stepmothers', 'and', 'back', 'i', 'had', 'to', 'go', 'to', 'my', 'room', 'for', 'several', 'hours', 'i', 'lay', 'there', 'broad', 'awake', 'feeling', 'a', 'great', 'deal', 'worse', 'than', 'i', 'have', 'ever', 'done', 'since', 'even', 'from', 'the', 'greatest', 'subsequent', 'misfortunes', 'at', 'last', 'i', 'must', 'have', 'fallen', 'into', 'a', 'troubled', 'nightmare', 'of', 'a', 'doze', 'and', 'slowly', 'waking', 'from', 'it', 'half', 'steeped', 'in', 'dreams', 'i', 'opened', 'my', 'eyes', 'and', 'the', 'before', 'sun', 'lit', 'room', 'was', 'now', 'wrapped', 'in', 'outer', 'darkness', 'instantly', 'i', 'felt', 'a', 'shock', 'running', 'through', 'all', 'my', 'frame', 'nothing', 'was', 'to', 'be', 'seen', 'and', 'nothing', 'was', 'to', 'be', 'heard', 'but', 'a', 'supernatural', 'hand', 'seemed', 'placed', 'in', 'mine', 'my', 'arm', 'hung', 'over', 'the', 'counterpane', 'and', 'the', 'nameless', 'unimaginable', 'silent', 'form', 'or', 'phantom', 'to', 'which', 'the', 'hand', 'belonged', 'seemed', 'closely', 'seated', 'by', 'my', 'bed', 'side', 'for', 'what', 'seemed', 'ages', 'piled', 'on', 'ages', 'i', 'lay', 'there', 'frozen', 'with', 'the', 'most', 'awful', 'fears', 'not', 'daring', 'to', 'drag', 'away', 'my', 'hand', 'yet', 'ever', 'thinking', 'that', 'if', 'i', 'could', 'but', 'stir', 'it', 'one', 'single', 'inch', 'the', 'horrid', 'spell', 'would', 'be', 'broken', 'i', 'knew', 'not', 'how', 'this', 'consciousness', 'at', 'last', 'glided', 'away', 'from', 'me', 'but', 'waking', 'in', 'the', 'morning', 'i', 'shudderingly', 'remembered', 'it', 'all', 'and', 'for', 'days', 'and', 'weeks', 'and', 'months', 'afterwards', 'i', 'lost', 'myself', 'in', 'confounding', 'attempts', 'to', 'explain', 'the', 'mystery', 'nay', 'to', 'this', 'very', 'hour', 'i', 'often', 'puzzle', 'myself', 'with', 'it', 'now', 'take', 'away', 'the', 'awful', 'fear', 'and', 'my', 'sensations', 'at', 'feeling', 'the', 'supernatural', 'hand', 'in', 'mine', 'were', 'very', 'similar', 'in', 'their', 'strangeness', 'to', 'those', 'which', 'i', 'experienced', 'on', 'waking', 'up', 'and', 'seeing', 'queequeg', \"'s\", 'pagan', 'arm', 'thrown', 'round', 'me', 'but', 'at', 'length', 'all', 'the', 'past', 'night', \"'s\", 'events', 'soberly', 'recurred', 'one', 'by', 'one', 'in', 'fixed', 'reality', 'and', 'then', 'i', 'lay', 'only', 'alive', 'to', 'the', 'comical', 'predicament', 'for', 'though', 'i', 'tried', 'to', 'move', 'his', 'arm', 'unlock', 'his', 'bridegroom', 'clasp', 'yet', 'sleeping', 'as', 'he', 'was', 'he', 'still', 'hugged', 'me', 'tightly', 'as', 'though', 'naught', 'but', 'death', 'should', 'part', 'us', 'twain', 'i', 'now', 'strove', 'to', 'rouse', 'him--\"queequeg!\"--but', 'his', 'only', 'answer', 'was', 'a', 'snore', 'i', 'then', 'rolled', 'over', 'my', 'neck', 'feeling', 'as', 'if', 'it', 'were', 'in', 'a', 'horse', 'collar', 'and', 'suddenly', 'felt', 'a', 'slight', 'scratch', 'throwing', 'aside', 'the', 'counterpane', 'there', 'lay', 'the', 'tomahawk', 'sleeping', 'by', 'the', 'savage', \"'s\", 'side', 'as', 'if', 'it', 'were', 'a', 'hatchet', 'faced', 'baby', 'a', 'pretty', 'pickle', 'truly', 'thought', 'i', 'abed', 'here', 'in', 'a', 'strange', 'house', 'in', 'the', 'broad', 'day', 'with', 'a', 'cannibal', 'and', 'a', 'tomahawk', 'queequeg!--in', 'the', 'name', 'of', 'goodness', 'queequeg', 'wake', 'at', 'length', 'by', 'dint', 'of', 'much', 'wriggling', 'and', 'loud', 'and', 'incessant', 'expostulations', 'upon', 'the', 'unbecomingness', 'of', 'his', 'hugging', 'a', 'fellow', 'male', 'in', 'that', 'matrimonial', 'sort', 'of', 'style', 'i', 'succeeded', 'in', 'extracting', 'a', 'grunt', 'and', 'presently', 'he', 'drew', 'back', 'his', 'arm', 'shook', 'himself', 'all', 'over', 'like', 'a', 'newfoundland', 'dog', 'just', 'from', 'the', 'water', 'and', 'sat', 'up', 'in', 'bed', 'stiff', 'as', 'a', 'pike', 'staff', 'looking', 'at', 'me', 'and', 'rubbing', 'his', 'eyes', 'as', 'if', 'he', 'did', 'not', 'altogether', 'remember', 'how', 'i', 'came', 'to', 'be', 'there', 'though', 'a', 'dim', 'consciousness', 'of', 'knowing', 'something', 'about', 'me', 'seemed', 'slowly', 'dawning', 'over', 'him', 'meanwhile', 'i', 'lay', 'quietly', 'eyeing', 'him', 'having', 'no', 'serious', 'misgivings', 'now', 'and', 'bent', 'upon', 'narrowly', 'observing', 'so', 'curious', 'a', 'creature', 'when', 'at', 'last', 'his', 'mind', 'seemed', 'made', 'up', 'touching', 'the', 'character', 'of', 'his', 'bedfellow', 'and', 'he', 'became', 'as', 'it', 'were', 'reconciled', 'to', 'the', 'fact', 'he', 'jumped', 'out', 'upon', 'the', 'floor', 'and', 'by', 'certain', 'signs', 'and', 'sounds', 'gave', 'me', 'to', 'understand', 'that', 'if', 'it', 'pleased', 'me', 'he', 'would', 'dress', 'first', 'and', 'then', 'leave', 'me', 'to', 'dress', 'afterwards', 'leaving', 'the', 'whole', 'apartment', 'to', 'myself', 'thinks', 'i', 'queequeg', 'under', 'the', 'circumstances', 'this', 'is', 'a', 'very', 'civilized', 'overture', 'but', 'the', 'truth', 'is', 'these', 'savages', 'have', 'an', 'innate', 'sense', 'of', 'delicacy', 'say', 'what', 'you', 'will', 'it', 'is', 'marvellous', 'how', 'essentially', 'polite', 'they', 'are', 'i', 'pay', 'this', 'particular', 'compliment', 'to', 'queequeg', 'because', 'he', 'treated', 'me', 'with', 'so', 'much', 'civility', 'and', 'consideration', 'while', 'i', 'was', 'guilty', 'of', 'great', 'rudeness', 'staring', 'at', 'him', 'from', 'the', 'bed', 'and', 'watching', 'all', 'his', 'toilette', 'motions', 'for', 'the', 'time', 'my', 'curiosity', 'getting', 'the', 'better', 'of', 'my', 'breeding', 'nevertheless', 'a', 'man', 'like', 'queequeg', 'you', 'do', \"n't\", 'see', 'every', 'day', 'he', 'and', 'his', 'ways', 'were', 'well', 'worth', 'unusual', 'regarding', 'he', 'commenced', 'dressing', 'at', 'top', 'by', 'donning', 'his', 'beaver', 'hat', 'a', 'very', 'tall', 'one', 'by', 'the', 'by', 'and', 'then', 'still', 'minus', 'his', 'trowsers', 'he', 'hunted', 'up', 'his', 'boots', 'what', 'under', 'the', 'heavens', 'he', 'did', 'it', 'for', 'i', 'can', 'not', 'tell', 'but', 'his', 'next', 'movement', 'was', 'to', 'crush', 'himself', 'boots', 'in', 'hand', 'and', 'hat', 'on', 'under', 'the', 'bed', 'when', 'from', 'sundry', 'violent', 'gaspings', 'and', 'strainings', 'i', 'inferred', 'he', 'was', 'hard', 'at', 'work', 'booting', 'himself', 'though', 'by', 'no', 'law', 'of', 'propriety', 'that', 'i', 'ever', 'heard', 'of', 'is', 'any', 'man', 'required', 'to', 'be', 'private', 'when', 'putting', 'on', 'his', 'boots', 'but', 'queequeg', 'do', 'you', 'see', 'was', 'a', 'creature', 'in', 'the', 'transition', 'stage', 'neither', 'caterpillar', 'nor', 'butterfly', 'he', 'was', 'just', 'enough', 'civilized', 'to', 'show', 'off', 'his', 'outlandishness', 'in', 'the', 'strangest', 'possible', 'manners', 'his', 'education', 'was', 'not', 'yet', 'completed', 'he', 'was', 'an', 'undergraduate', 'if', 'he', 'had', 'not', 'been', 'a', 'small', 'degree', 'civilized', 'he', 'very', 'probably', 'would', 'not', 'have', 'troubled', 'himself', 'with', 'boots', 'at', 'all', 'but', 'then', 'if', 'he', 'had', 'not', 'been', 'still', 'a', 'savage', 'he', 'never', 'would', 'have', 'dreamt', 'of', 'getting', 'under', 'the', 'bed', 'to', 'put', 'them', 'on', 'at', 'last', 'he', 'emerged', 'with', 'his', 'hat', 'very', 'much', 'dented', 'and', 'crushed', 'down', 'over', 'his', 'eyes', 'and', 'began', 'creaking', 'and', 'limping', 'about', 'the', 'room', 'as', 'if', 'not', 'being', 'much', 'accustomed', 'to', 'boots', 'his', 'pair', 'of', 'damp', 'wrinkled', 'cowhide', 'ones', 'probably', 'not', 'made', 'to', 'order', 'either', 'rather', 'pinched', 'and', 'tormented', 'him', 'at', 'the', 'first', 'go', 'off', 'of', 'a', 'bitter', 'cold', 'morning', 'seeing', 'now', 'that', 'there', 'were', 'no', 'curtains', 'to', 'the', 'window', 'and', 'that', 'the', 'street', 'being', 'very', 'narrow', 'the', 'house', 'opposite', 'commanded', 'a', 'plain', 'view', 'into', 'the', 'room', 'and', 'observing', 'more', 'and', 'more', 'the', 'indecorous', 'figure', 'that', 'queequeg', 'made', 'staving', 'about', 'with', 'little', 'else', 'but', 'his', 'hat', 'and', 'boots', 'on', 'i', 'begged', 'him', 'as', 'well', 'as', 'i', 'could', 'to', 'accelerate', 'his', 'toilet', 'somewhat', 'and', 'particularly', 'to', 'get', 'into', 'his', 'pantaloons', 'as', 'soon', 'as', 'possible', 'he', 'complied', 'and', 'then', 'proceeded', 'to', 'wash', 'himself', 'at', 'that', 'time', 'in', 'the', 'morning', 'any', 'christian', 'would', 'have', 'washed', 'his', 'face', 'but', 'queequeg', 'to', 'my', 'amazement', 'contented', 'himself', 'with', 'restricting', 'his', 'ablutions', 'to', 'his', 'chest', 'arms', 'and', 'hands', 'he', 'then', 'donned', 'his', 'waistcoat', 'and', 'taking', 'up', 'a', 'piece', 'of', 'hard', 'soap', 'on', 'the', 'wash', 'stand', 'centre', 'table', 'dipped', 'it', 'into', 'water', 'and', 'commenced', 'lathering', 'his', 'face', 'i', 'was', 'watching', 'to', 'see', 'where', 'he', 'kept', 'his', 'razor', 'when', 'lo', 'and', 'behold', 'he', 'takes', 'the', 'harpoon', 'from', 'the', 'bed', 'corner', 'slips', 'out', 'the', 'long', 'wooden', 'stock', 'unsheathes', 'the', 'head', 'whets', 'it', 'a', 'little', 'on', 'his', 'boot', 'and', 'striding', 'up', 'to', 'the', 'bit', 'of', 'mirror', 'against', 'the', 'wall', 'begins', 'a', 'vigorous', 'scraping', 'or', 'rather', 'harpooning', 'of', 'his', 'cheeks', 'thinks', 'i', 'queequeg', 'this', 'is', 'using', 'rogers', \"'s\", 'best', 'cutlery', 'with', 'a', 'vengeance', 'afterwards', 'i', 'wondered', 'the', 'less', 'at', 'this', 'operation', 'when', 'i', 'came', 'to', 'know', 'of', 'what', 'fine', 'steel', 'the', 'head', 'of', 'a', 'harpoon', 'is', 'made', 'and', 'how', 'exceedingly', 'sharp', 'the', 'long', 'straight', 'edges', 'are', 'always', 'kept', 'the', 'rest', 'of', 'his', 'toilet', 'was', 'soon', 'achieved', 'and', 'he', 'proudly', 'marched', 'out', 'of', 'the', 'room', 'wrapped', 'up', 'in', 'his', 'great', 'pilot', 'monkey', 'jacket', 'and', 'sporting', 'his', 'harpoon', 'like', 'a', 'marshal', \"'s\", 'baton'] "
          ]
        }
      ]
    },
    {
      "cell_type": "code",
      "source": [
        "len(tokens)"
      ],
      "metadata": {
        "colab": {
          "base_uri": "https://localhost:8080/"
        },
        "id": "Btm1ddN_nhK4",
        "outputId": "ead14d26-37e1-4619-f186-385b741588e5"
      },
      "execution_count": 11,
      "outputs": [
        {
          "output_type": "execute_result",
          "data": {
            "text/plain": [
              "11338"
            ]
          },
          "metadata": {},
          "execution_count": 11
        }
      ]
    },
    {
      "cell_type": "code",
      "source": [
        "# Pass in 25 words, and have the NN predict the 26th word\n",
        "\n",
        "train_len = 25 + 1\n",
        "\n",
        "text_sequences = []\n",
        "\n",
        "for i in range(train_len, len(tokens)):\n",
        "  seq = tokens[i-train_len : i]\n",
        "  text_sequences.append(seq)\n"
      ],
      "metadata": {
        "id": "at56OfQlnlPe"
      },
      "execution_count": 12,
      "outputs": []
    },
    {
      "cell_type": "code",
      "source": [
        "type(text_sequences)"
      ],
      "metadata": {
        "colab": {
          "base_uri": "https://localhost:8080/"
        },
        "id": "-s_LVXmgoqja",
        "outputId": "309598da-9d25-46ca-c239-48ab76ca3e79"
      },
      "execution_count": 13,
      "outputs": [
        {
          "output_type": "execute_result",
          "data": {
            "text/plain": [
              "list"
            ]
          },
          "metadata": {},
          "execution_count": 13
        }
      ]
    },
    {
      "cell_type": "code",
      "source": [
        "text_sequences[0]"
      ],
      "metadata": {
        "colab": {
          "base_uri": "https://localhost:8080/"
        },
        "id": "lt0R3kTtouMO",
        "outputId": "896a5945-74b5-4222-80f4-ee4c00c95147"
      },
      "execution_count": 14,
      "outputs": [
        {
          "output_type": "execute_result",
          "data": {
            "text/plain": [
              "['call',\n",
              " 'me',\n",
              " 'ishmael',\n",
              " 'some',\n",
              " 'years',\n",
              " 'ago',\n",
              " 'never',\n",
              " 'mind',\n",
              " 'how',\n",
              " 'long',\n",
              " 'precisely',\n",
              " 'having',\n",
              " 'little',\n",
              " 'or',\n",
              " 'no',\n",
              " 'money',\n",
              " 'in',\n",
              " 'my',\n",
              " 'purse',\n",
              " 'and',\n",
              " 'nothing',\n",
              " 'particular',\n",
              " 'to',\n",
              " 'interest',\n",
              " 'me',\n",
              " 'on']"
            ]
          },
          "metadata": {},
          "execution_count": 14
        }
      ]
    },
    {
      "cell_type": "code",
      "source": [
        "' '.join(text_sequences[0])"
      ],
      "metadata": {
        "colab": {
          "base_uri": "https://localhost:8080/",
          "height": 53
        },
        "id": "NkfisJawovw_",
        "outputId": "8afdb5d0-1bf8-4f0f-976e-b0325b526c78"
      },
      "execution_count": 15,
      "outputs": [
        {
          "output_type": "execute_result",
          "data": {
            "application/vnd.google.colaboratory.intrinsic+json": {
              "type": "string"
            },
            "text/plain": [
              "'call me ishmael some years ago never mind how long precisely having little or no money in my purse and nothing particular to interest me on'"
            ]
          },
          "metadata": {},
          "execution_count": 15
        }
      ]
    },
    {
      "cell_type": "code",
      "source": [
        "' '.join(text_sequences[1])"
      ],
      "metadata": {
        "colab": {
          "base_uri": "https://localhost:8080/",
          "height": 53
        },
        "id": "S2xBweABpBm9",
        "outputId": "96f81d3c-7173-4f40-9617-bd1ccb34a20f"
      },
      "execution_count": 16,
      "outputs": [
        {
          "output_type": "execute_result",
          "data": {
            "application/vnd.google.colaboratory.intrinsic+json": {
              "type": "string"
            },
            "text/plain": [
              "'me ishmael some years ago never mind how long precisely having little or no money in my purse and nothing particular to interest me on shore'"
            ]
          },
          "metadata": {},
          "execution_count": 16
        }
      ]
    },
    {
      "cell_type": "code",
      "source": [
        "' '.join(text_sequences[2])"
      ],
      "metadata": {
        "colab": {
          "base_uri": "https://localhost:8080/",
          "height": 53
        },
        "id": "2y3T6suUpF7t",
        "outputId": "c1369348-793a-4abc-fd7e-1bffd532c49f"
      },
      "execution_count": 17,
      "outputs": [
        {
          "output_type": "execute_result",
          "data": {
            "application/vnd.google.colaboratory.intrinsic+json": {
              "type": "string"
            },
            "text/plain": [
              "'ishmael some years ago never mind how long precisely having little or no money in my purse and nothing particular to interest me on shore i'"
            ]
          },
          "metadata": {},
          "execution_count": 17
        }
      ]
    },
    {
      "cell_type": "code",
      "source": [
        "from keras_preprocessing.text import Tokenizer\n",
        "\n",
        "tokenizer = Tokenizer()\n",
        "tokenizer.fit_on_texts(text_sequences)"
      ],
      "metadata": {
        "id": "V820e5RMpIji"
      },
      "execution_count": 18,
      "outputs": []
    },
    {
      "cell_type": "code",
      "source": [
        "sequences = tokenizer.texts_to_sequences(text_sequences)"
      ],
      "metadata": {
        "id": "Vcey4QPnp5Tf"
      },
      "execution_count": 19,
      "outputs": []
    },
    {
      "cell_type": "code",
      "source": [
        "print(sequences[0], end = ' ')"
      ],
      "metadata": {
        "colab": {
          "base_uri": "https://localhost:8080/"
        },
        "id": "uVgwwPdMqAOz",
        "outputId": "d490b43c-9aa5-4174-98e3-86b7f7f3b5a5"
      },
      "execution_count": 20,
      "outputs": [
        {
          "output_type": "stream",
          "name": "stdout",
          "text": [
            "[956, 14, 263, 51, 261, 408, 87, 219, 129, 111, 954, 260, 50, 43, 38, 315, 7, 23, 546, 3, 150, 259, 6, 2712, 14, 24] "
          ]
        }
      ]
    },
    {
      "cell_type": "code",
      "source": [
        "print(tokenizer.index_word, end = ' ')"
      ],
      "metadata": {
        "colab": {
          "base_uri": "https://localhost:8080/"
        },
        "id": "-TxNNmr_qCUd",
        "outputId": "98129aaa-a571-45a1-c92d-90b04cd54597"
      },
      "execution_count": 21,
      "outputs": [
        {
          "output_type": "stream",
          "name": "stdout",
          "text": [
            "{1: 'the', 2: 'a', 3: 'and', 4: 'of', 5: 'i', 6: 'to', 7: 'in', 8: 'it', 9: 'that', 10: 'he', 11: 'his', 12: 'was', 13: 'but', 14: 'me', 15: 'with', 16: 'as', 17: 'at', 18: 'this', 19: 'you', 20: 'is', 21: 'all', 22: 'for', 23: 'my', 24: 'on', 25: 'be', 26: \"'s\", 27: 'not', 28: 'from', 29: 'there', 30: 'one', 31: 'up', 32: 'what', 33: 'him', 34: 'so', 35: 'bed', 36: 'now', 37: 'about', 38: 'no', 39: 'into', 40: 'by', 41: 'were', 42: 'out', 43: 'or', 44: 'harpooneer', 45: 'had', 46: 'then', 47: 'have', 48: 'an', 49: 'upon', 50: 'little', 51: 'some', 52: 'old', 53: 'like', 54: 'if', 55: 'they', 56: 'would', 57: 'do', 58: 'over', 59: 'landlord', 60: 'thought', 61: 'room', 62: 'when', 63: 'could', 64: \"n't\", 65: 'night', 66: 'here', 67: 'head', 68: 'such', 69: 'which', 70: 'man', 71: 'did', 72: 'sea', 73: 'time', 74: 'other', 75: 'very', 76: 'go', 77: 'these', 78: 'more', 79: 'though', 80: 'first', 81: 'sort', 82: 'said', 83: 'last', 84: 'down', 85: 'most', 86: 'been', 87: 'never', 88: 'your', 89: 'them', 90: 'must', 91: 'tell', 92: 'much', 93: 'good', 94: 'see', 95: 'off', 96: 'myself', 97: 'are', 98: 'yet', 99: 'sleep', 100: 'who', 101: 'seemed', 102: 'light', 103: 'way', 104: 'their', 105: 'just', 106: 'being', 107: 'than', 108: 'place', 109: 'queequeg', 110: 'great', 111: 'long', 112: 'before', 113: 'get', 114: 'round', 115: 'where', 116: 'still', 117: 'any', 118: 'too', 119: 'only', 120: 'door', 121: 'can', 122: 'himself', 123: 'heads', 124: 'come', 125: 'ever', 126: 'two', 127: 'enough', 128: 'made', 129: 'how', 130: 'hand', 131: 'same', 132: 'looking', 133: 'something', 134: 'may', 135: \"'\", 136: 'almost', 137: 'say', 138: 'should', 139: 'side', 140: 'why', 141: 'own', 142: 'we', 143: 'new', 144: 'again', 145: 'came', 146: 'arm', 147: 'house', 148: 'away', 149: 'might', 150: 'nothing', 151: 'take', 152: 'towards', 153: 'will', 154: 'under', 155: 'going', 156: 'make', 157: 'whale', 158: 'stood', 159: 'boots', 160: 'ye', 161: 'back', 162: \"'ll\", 163: 'tomahawk', 164: 'part', 165: 'world', 166: 'soon', 167: 'water', 168: 'against', 169: 'those', 170: 'between', 171: 'after', 172: 'whaling', 173: 'lay', 174: 'took', 175: 'half', 176: 'began', 177: 'face', 178: 'streets', 179: 'land', 180: 'better', 181: 'once', 182: 'voyage', 183: 'give', 184: 'rather', 185: 'well', 186: 'however', 187: 'else', 188: 'heard', 189: 'put', 190: 'stop', 191: 'dark', 192: 'went', 193: 'black', 194: 'window', 195: 'cannibal', 196: 'fire', 197: 'every', 198: 'ship', 199: 'stand', 200: 'strange', 201: 'without', 202: 'feet', 203: 'whether', 204: 'because', 205: 'eyes', 206: 'think', 207: 'thinks', 208: 'idea', 209: 'bag', 210: 'nantucket', 211: 'late', 212: 'cold', 213: 'our', 214: 'found', 215: 'full', 216: 'morning', 217: 'sleeping', 218: 'got', 219: 'mind', 220: 'her', 221: 'right', 222: 'its', 223: 'look', 224: 'town', 225: 'south', 226: 'does', 227: 'let', 228: 'set', 229: 'yourself', 230: 'image', 231: 'saw', 232: 'am', 233: 'besides', 234: 'sailor', 235: 'seas', 236: 'rolled', 237: 'till', 238: 'day', 239: 'sign', 240: 'looked', 241: 'hard', 242: 'moment', 243: 'corner', 244: 'entry', 245: 'four', 246: 'wall', 247: 'savage', 248: 'table', 249: 'indeed', 250: 'bench', 251: 'chest', 252: 'while', 253: 'stranger', 254: 'possible', 255: 'feeling', 256: 'floor', 257: 'squares', 258: 'hat', 259: 'particular', 260: 'having', 261: 'years', 262: 'harpoon', 263: 'ishmael', 264: 'whenever', 265: 'mouth', 266: 'high', 267: 'knew', 268: 'men', 269: 'hours', 270: 'green', 271: 'bit', 272: 'within', 273: 'picture', 274: 'told', 275: 'story', 276: 'mean', 277: 'speak', 278: 'order', 279: 'making', 280: 'even', 281: 'perhaps', 282: 'things', 283: 'answer', 284: 'parts', 285: 'wild', 286: 'reason', 287: 'young', 288: 'craft', 289: 'business', 290: 'dead', 291: 'another', 292: 'middle', 293: 'sure', 294: 'candle', 295: 'presently', 296: 'low', 297: 'turned', 298: 'teeth', 299: 'dim', 300: 'euroclydon', 301: 'kept', 302: 'glass', 303: 'afterwards', 304: 'large', 305: 'three', 306: 'telling', 307: 'getting', 308: 'small', 309: 'next', 310: 'seeing', 311: 'sell', 312: 'felt', 313: 'sun', 314: 'e', 315: 'money', 316: 'sail', 317: 'coffin', 318: 'especially', 319: 'street', 320: 'city', 321: 'few', 322: 'previous', 323: 'sight', 324: 'days', 325: 'straight', 326: 'nigh', 327: 'legs', 328: 'try', 329: 'yes', 330: 'unless', 331: 'poor', 332: 'coat', 333: 'passenger', 334: 'taking', 335: 'true', 336: 'thing', 337: 'ai', 338: 'always', 339: 'us', 340: 'really', 341: 'marvellous', 342: 'heaven', 343: 'air', 344: 'far', 345: 'second', 346: 'many', 347: 'has', 348: 'unaccountable', 349: 'grand', 350: 'jolly', 351: 'open', 352: 'shirt', 353: 'cape', 354: 'bedford', 355: 'fine', 356: 'further', 357: 'ice', 358: 'frost', 359: 'foot', 360: 'wide', 361: 'white', 362: 'tall', 363: 'i.', 364: 'wooden', 365: 'worse', 366: 'death', 367: 'mine', 368: 'lazarus', 369: 'keep', 370: 'along', 371: 'hung', 372: 'throwing', 373: 'centre', 374: 'rest', 375: 'fact', 376: 'hair', 377: 'broken', 378: 'kill', 379: 'through', 380: 'chimney', 381: 'fancy', 382: 'bar', 383: 'trying', 384: 'dumplings', 385: 'heavens', 386: 'manner', 387: 'devil', 388: 'together', 389: 'seen', 390: 'deal', 391: 'know', 392: 'skin', 393: 'ca', 394: 'shavings', 395: 'peddling', 396: 'sunday', 397: 'counterpane', 398: 'mat', 399: 'christian', 400: 'commenced', 401: 'thinking', 402: 'similar', 403: 'afraid', 404: 'length', 405: 'idol', 406: 'sabbee', 407: 'waking', 408: 'ago', 409: 'find', 410: 'damp', 411: 'soul', 412: 'strong', 413: 'account', 414: 'sword', 415: 'quietly', 416: 'degree', 417: 'left', 418: 'around', 419: 'fixed', 420: 'ships', 421: 'miles', 422: 'country', 423: 'stream', 424: 'lead', 425: 'american', 426: 'artist', 427: 'each', 428: 'goes', 429: 'deep', 430: 'distant', 431: 'winds', 432: 'blue', 433: 'among', 434: 'suddenly', 435: 'feel', 436: 'meaning', 437: 'phantom', 438: 'life', 439: 'passengers', 440: 'nor', 441: 'kind', 442: 'quite', 443: 'care', 444: 'board', 445: 'somehow', 446: 'broiled', 447: 'mast', 448: 'sense', 449: 'knowing', 450: 'either', 451: 'passed', 452: 'hands', 453: 'paying', 454: 'pay', 455: 'penny', 456: 'sailors', 457: 'exactly', 458: 'short', 459: 'easy', 460: 'portentous', 461: 'island', 462: 'nameless', 463: 'sounds', 464: 'since', 465: 'snow', 466: 'saturday', 467: 'matter', 468: 'red', 469: 'partly', 470: 'ere', 471: 'became', 472: 'meanwhile', 473: 'pocket', 474: 'darkness', 475: 'fish', 476: 'inn', 477: 'watch', 478: 'broad', 479: 'entering', 480: 'ha', 481: 'ashes', 482: 'opened', 483: 'spouter', 484: 'name', 485: 'suppose', 486: 'quiet', 487: 'best', 488: 'tempestuous', 489: 'says', 490: 'thou', 491: 'both', 492: 'occurred', 493: 'dives', 494: 'holding', 495: 'frozen', 496: 'altogether', 497: 'plain', 498: 'whom', 499: 'clean', 500: 'human', 501: 'entered', 502: 'wrinkled', 503: 'shelf', 504: 'jonah', 505: 'blanket', 506: \"goin'\", 507: 'bitter', 508: 'supper', 509: 'sat', 510: 'settle', 511: 'chap', 512: 'help', 513: 'spend', 514: 'landed', 515: 'standing', 516: 'held', 517: 'somewhat', 518: 'sober', 519: 'whole', 520: 'dam', 521: 'brown', 522: 'bulkington', 523: \"o'clock\", 524: 'none', 525: 'coming', 526: \"'ve\", 527: 'wait', 528: 'plane', 529: 'saying', 530: 'grinning', 531: 'placed', 532: 'shouted', 533: 'bedfellow', 534: 'zealand', 535: 'sal', 536: 'wash', 537: 'thrown', 538: 'purplish', 539: 'turn', 540: 'completely', 541: 'fear', 542: 'grego', 543: 'baby', 544: 'slowly', 545: 'civilized', 546: 'purse', 547: 'monkey', 548: 'involuntarily', 549: 'pausing', 550: 'warehouses', 551: 'requires', 552: 'people', 553: 'nearly', 554: 'ocean', 555: 'indian', 556: 'waterward', 557: 'battery', 558: 'noble', 559: 'washed', 560: 'crowds', 561: 'sabbath', 562: 'afternoon', 563: 'thence', 564: 'silent', 565: 'thousands', 566: 'reveries', 567: 'leaning', 568: 'seated', 569: 'bulwarks', 570: 'aloft', 571: 'week', 572: 'plaster', 573: 'gone', 574: 'bound', 575: 'content', 576: 'yonder', 577: 'falling', 578: 'north', 579: 'please', 580: 'ten', 581: 'leaves', 582: 'magic', 583: 'plunged', 584: 'metaphysical', 585: 'chief', 586: 'trunk', 587: 'meadow', 588: 'smoke', 589: 'reaching', 590: 'hill', 591: 'thus', 592: 'pine', 593: 'sighs', 594: 'shepherd', 595: 'june', 596: 'scores', 597: 'thousand', 598: 'sadly', 599: 'robust', 600: 'healthy', 601: 'boy', 602: 'crazy', 603: 'hold', 604: 'holy', 605: 'brother', 606: 'ourselves', 607: 'begin', 608: 'grow', 609: 'inferred', 610: 'needs', 611: \"don't\", 612: 'themselves', 613: 'commodore', 614: 'captain', 615: 'cook', 616: 'glory', 617: 'whatsoever', 618: 'confess', 619: 'officer', 620: 'respectfully', 621: 'horse', 622: 'huge', 623: 'houses', 624: 'forecastle', 625: 'jump', 626: 'spar', 627: 'particularly', 628: 'putting', 629: 'tar', 630: 'schoolmaster', 631: 'boys', 632: 'transition', 633: 'grin', 634: 'bear', 635: 'hunks', 636: 'sweep', 637: 'weighed', 638: 'anything', 639: 'less', 640: 'thump', 641: 'point', 642: 'view', 643: 'single', 644: 'difference', 645: 'act', 646: 'uncomfortable', 647: 'compare', 648: 'earthly', 649: 'enter', 650: 'deck', 651: 'quarter', 652: 'leaders', 653: 'smelt', 654: 'fates', 655: 'doubtless', 656: 'formed', 657: 'run', 658: 'stage', 659: 'shabby', 660: 'others', 661: 'circumstances', 662: 'motives', 663: 'various', 664: 'mysterious', 665: 'curiosity', 666: 'tormented', 667: 'everlasting', 668: 'wonder', 669: 'purpose', 670: 'floated', 671: 'stuffed', 672: 'horn', 673: 'arrived', 674: 'offer', 675: 'following', 676: 'embark', 677: 'pleased', 678: 'original', 679: 'stranded', 680: 'leviathan', 681: 'whales', 682: 'nay', 683: 'dismal', 684: 'wherever', 685: 'dreary', 686: 'crossed', 687: 'expensive', 688: 'bright', 689: 'windows', 690: 'packed', 691: 'inches', 692: 'thick', 693: 'hear', 694: 'tinkling', 695: 'glasses', 696: 'blackness', 697: 'moving', 698: 'hour', 699: 'proved', 700: 'meant', 701: 'public', 702: 'box', 703: 'flying', 704: 'harpoons', 705: 'trap', 706: 'loud', 707: 'voice', 708: 'sitting', 709: 'beyond', 710: 'negro', 711: 'creaking', 712: 'swinging', 713: 'painting', 714: 'representing', 715: 'connexion', 716: 'peter', 717: 'itself', 718: 'carted', 719: 'burnt', 720: 'spot', 721: 'queer', 722: 'gable', 723: 'ended', 724: 'sharp', 725: 'wind', 726: 'howling', 727: 'nevertheless', 728: 'called', 729: 'outside', 730: 'passage', 731: 'body', 732: 'curbstone', 733: 'corn', 734: 'pooh', 735: 'northern', 736: 'lights', 737: 'summer', 738: 'lengthwise', 739: 'gods', 740: 'lie', 741: 'plenty', 742: 'study', 743: 'series', 744: 'arrive', 745: 'shadows', 746: 'dint', 747: 'conclusion', 748: 'confounded', 749: 'limber', 750: 'truly', 751: 'drive', 752: 'unimaginable', 753: 'midnight', 754: 'unnatural', 755: 'breaking', 756: 'design', 757: 'opposite', 758: 'monstrous', 759: 'knots', 760: 'vast', 761: 'handle', 762: 'wondered', 763: 'mixed', 764: 'deformed', 765: 'flung', 766: 'iron', 767: 'arched', 768: 'cut', 769: 'times', 770: 'beneath', 771: 'covered', 772: 'gathered', 773: 'stands', 774: 'rude', 775: 'bone', 776: 'abominable', 777: 'measure', 778: 'seamen', 779: 'skrimshander', 780: 'sought', 781: 'added', 782: 'forehead', 783: 'objections', 784: \"'d\", 785: 'used', 786: 'depend', 787: 'decent', 788: 'want', 789: 'ready', 790: 'working', 791: 'space', 792: 'lips', 793: 'fingers', 794: 'fare', 795: 'fellow', 796: 'nightmare', 797: 'nt', 798: 'complexioned', 799: 'eats', 800: \"'em\", 801: 'afore', 802: 'resolved', 803: 'noise', 804: 'offing', 805: 'shaggy', 806: 'woollen', 807: 'stiff', 808: 'labrador', 809: 'wake', 810: 'bad', 811: 'mounted', 812: 'generally', 813: 'shipmates', 814: 'become', 815: 'height', 816: 'seem', 817: 'plan', 818: 'private', 819: 'unknown', 820: 'apartment', 821: 'hammock', 822: 'linen', 823: 'home', 824: 'hole', 825: 'mattress', 826: 'planing', 827: 'knot', 828: 'near', 829: 'sake', 830: 'chair', 831: 'narrow', 832: 'leaving', 833: 'interval', 834: 'met', 835: 'inside', 836: 'violent', 837: 'ones', 838: 'comprehension', 839: 'bird', 840: 'airley', 841: 'airth', 842: 'engaged', 843: 'whittling', 844: 'guess', 845: 'done', 846: 'break', 847: 'broke', 848: 'understand', 849: 'certain', 850: 'demand', 851: 'selling', 852: 'sir', 853: 'string', 854: 'mystery', 855: 'showed', 856: 'dangerous', 857: 'flukes', 858: 'slept', 859: 'big', 860: 'sam', 861: 'lighted', 862: 'wo', 863: 'stairs', 864: 'placing', 865: 'double', 866: 'eyeing', 867: 'belonging', 868: 'papered', 869: 'parcel', 870: 'tried', 871: 'satisfactory', 872: 'concerning', 873: 'edges', 874: 'stuck', 875: 'gave', 876: 'neck', 877: 'sleeves', 878: 'undressed', 879: 'remembering', 880: 'jumped', 881: 'pantaloons', 882: 'blowing', 883: 'doze', 884: 'pretty', 885: 'heavy', 886: 'save', 887: 'infernal', 888: 'peddler', 889: 'yellow', 890: 'colour', 891: 'dreadfully', 892: 'sticking', 893: 'cheeks', 894: 'truth', 895: 'remembered', 896: 'whaleman', 897: 'tattooed', 898: 'concluded', 899: 'lying', 900: 'tanning', 901: 'hot', 902: 'produced', 903: 'beaver', 904: 'singing', 905: 'bolted', 906: 'arms', 907: 'running', 908: 'curious', 909: 'hunch', 910: 'congo', 911: 'ill', 912: 'takes', 913: 'biscuit', 914: 'top', 915: 'lamp', 916: 'succeeded', 917: 'polite', 918: 'guttural', 919: 'pagan', 920: 'spell', 921: 'tobacco', 922: 'grunt', 923: 'whatever', 924: 'ee', 925: 'horrid', 926: 'pipe', 927: 'smoking', 928: 'complied', 929: 'patchwork', 930: 'figure', 931: 'shade', 932: 'quilt', 933: 'hugging', 934: 'sensations', 935: 'explain', 936: 'remember', 937: 'circumstance', 938: 'reality', 939: 'stepmother', 940: 'sixteen', 941: 'abed', 942: 'troubled', 943: 'supernatural', 944: 'ages', 945: 'awful', 946: 'consciousness', 947: 'observing', 948: 'creature', 949: 'dress', 950: 'watching', 951: 'probably', 952: 'toilet', 953: 'wrapped', 954: 'precisely', 955: 'jacket', 956: 'call', 957: 'shore', 958: 'watery', 959: 'driving', 960: 'spleen', 961: 'regulating', 962: 'circulation', 963: 'growing', 964: 'grim', 965: 'drizzly', 966: 'november', 967: 'bringing', 968: 'rear', 969: 'funeral', 970: 'meet', 971: 'hypos', 972: 'upper', 973: 'moral', 974: 'principle', 975: 'prevent', 976: 'deliberately', 977: 'stepping', 978: 'methodically', 979: 'knocking', 980: 'hats', 981: 'substitute', 982: 'pistol', 983: 'ball', 984: 'philosophical', 985: 'flourish', 986: 'cato', 987: 'throws', 988: 'surprising', 989: 'cherish', 990: 'feelings', 991: 'insular', 992: 'manhattoes', 993: 'belted', 994: 'wharves', 995: 'isles', 996: 'coral', 997: 'reefs', 998: 'commerce', 999: 'surrounds', 1000: 'surf', 1001: 'extreme', 1002: 'downtown', 1003: 'mole', 1004: 'waves', 1005: 'cooled', 1006: 'breezes', 1007: 'gazers', 1008: 'circumambulate', 1009: 'dreamy', 1010: 'corlears', 1011: 'hook', 1012: 'coenties', 1013: 'slip', 1014: 'whitehall', 1015: 'northward', 1016: 'see?--posted', 1017: 'sentinels', 1018: 'mortal', 1019: 'spiles', 1020: 'pier', 1021: 'china', 1022: 'rigging', 1023: 'striving', 1024: 'seaward', 1025: 'peep', 1026: 'landsmen', 1027: 'pent', 1028: 'lath', 1029: 'tied', 1030: 'counters', 1031: 'nailed', 1032: 'benches', 1033: 'clinched', 1034: 'desks', 1035: 'fields', 1036: 'pacing', 1037: 'seemingly', 1038: 'dive', 1039: 'extremest', 1040: 'limit', 1041: 'loitering', 1042: 'shady', 1043: 'lee', 1044: 'suffice', 1045: 'possibly', 1046: 'leagues', 1047: 'inlanders', 1048: 'lanes', 1049: 'alleys', 1050: 'avenues', 1051: 'east', 1052: 'west', 1053: 'unite', 1054: 'magnetic', 1055: 'virtue', 1056: 'needles', 1057: 'compasses', 1058: 'attract', 1059: 'thither', 1060: 'lakes', 1061: 'path', 1062: 'carries', 1063: 'dale', 1064: 'pool', 1065: 'absent', 1066: 'minded', 1067: 'deepest', 1068: 'infallibly', 1069: 'region', 1070: 'athirst', 1071: 'desert', 1072: 'experiment', 1073: 'caravan', 1074: 'happen', 1075: 'supplied', 1076: 'professor', 1077: 'knows', 1078: 'meditation', 1079: 'wedded', 1080: 'desires', 1081: 'paint', 1082: 'dreamiest', 1083: 'shadiest', 1084: 'quietest', 1085: 'enchanting', 1086: 'romantic', 1087: 'landscape', 1088: 'valley', 1089: 'saco', 1090: 'element', 1091: 'employs', 1092: 'trees', 1093: 'hollow', 1094: 'hermit', 1095: 'crucifix', 1096: 'sleeps', 1097: 'cattle', 1098: 'cottage', 1099: 'sleepy', 1100: 'woodlands', 1101: 'mazy', 1102: 'overlapping', 1103: 'spurs', 1104: 'mountains', 1105: 'bathed', 1106: 'lies', 1107: 'tranced', 1108: 'tree', 1109: 'shakes', 1110: 'vain', 1111: 'eye', 1112: 'visit', 1113: 'prairies', 1114: 'wade', 1115: 'knee', 1116: 'tiger', 1117: 'lilies', 1118: 'charm', 1119: 'wanting?--water', 1120: 'drop', 1121: 'niagara', 1122: 'cataract', 1123: 'sand', 1124: 'travel', 1125: 'poet', 1126: 'tennessee', 1127: 'receiving', 1128: 'handfuls', 1129: 'silver', 1130: 'deliberate', 1131: 'buy', 1132: 'needed', 1133: 'invest', 1134: 'pedestrian', 1135: 'trip', 1136: 'rockaway', 1137: 'beach', 1138: 'mystical', 1139: 'vibration', 1140: 'persians', 1141: 'greeks', 1142: 'separate', 1143: 'deity', 1144: 'jove', 1145: 'surely', 1146: 'deeper', 1147: 'narcissus', 1148: 'grasp', 1149: 'tormenting', 1150: 'mild', 1151: 'fountain', 1152: 'drowned', 1153: 'rivers', 1154: 'oceans', 1155: 'ungraspable', 1156: 'key', 1157: 'habit', 1158: 'hazy', 1159: 'conscious', 1160: 'lungs', 1161: 'rag', 1162: 'sick', 1163: 'quarrelsome', 1164: 'nights', 1165: 'enjoy', 1166: 'general', 1167: 'thing;--no', 1168: 'salt', 1169: 'abandon', 1170: 'distinction', 1171: 'offices', 1172: 'abominate', 1173: 'honourable', 1174: 'respectable', 1175: 'toils', 1176: 'trials', 1177: 'tribulations', 1178: 'barques', 1179: 'brigs', 1180: 'schooners', 1181: 'cook,--though', 1182: 'considerable', 1183: 'fancied', 1184: 'broiling', 1185: 'fowls;--though', 1186: 'judiciously', 1187: 'buttered', 1188: 'judgmatically', 1189: 'salted', 1190: 'peppered', 1191: 'reverentially', 1192: 'fowl', 1193: 'idolatrous', 1194: 'dotings', 1195: 'egyptians', 1196: 'ibis', 1197: 'roasted', 1198: 'river', 1199: 'mummies', 1200: 'creatures', 1201: 'bake', 1202: 'pyramids', 1203: 'simple', 1204: 'plumb', 1205: 'royal', 1206: 'grasshopper', 1207: 'unpleasant', 1208: 'touches', 1209: 'honour', 1210: 'established', 1211: 'family', 1212: 'van', 1213: 'rensselaers', 1214: 'randolphs', 1215: 'hardicanutes', 1216: 'pot', 1217: 'lording', 1218: 'tallest', 1219: 'awe', 1220: 'keen', 1221: 'assure', 1222: 'decoction', 1223: 'seneca', 1224: 'stoics', 1225: 'enable', 1226: 'wears', 1227: 'orders', 1228: 'broom', 1229: 'decks', 1230: 'indignity', 1231: 'amount', 1232: 'scales', 1233: 'testament', 1234: 'archangel', 1235: 'gabriel', 1236: 'promptly', 1237: 'obey', 1238: 'instance', 1239: 'slave', 1240: 'captains', 1241: 'punch', 1242: 'satisfaction', 1243: 'everybody', 1244: 'served', 1245: 'physical', 1246: 'universal', 1247: 'rub', 1248: 'shoulder', 1249: 'blades', 1250: 'trouble', 1251: 'whereas', 1252: 'contrary', 1253: 'paid', 1254: 'infliction', 1255: 'orchard', 1256: 'thieves', 1257: 'entailed', 1258: 'paid,--what', 1259: 'urbane', 1260: 'activity', 1261: 'receives', 1262: 'considering', 1263: 'earnestly', 1264: 'believe', 1265: 'root', 1266: 'ills', 1267: 'monied', 1268: 'ah', 1269: 'cheerfully', 1270: 'consign', 1271: 'perdition', 1272: 'finally', 1273: 'wholesome', 1274: 'exercise', 1275: 'pure', 1276: 'fore', 1277: 'castle', 1278: 'prevalent', 1279: 'astern', 1280: 'violate', 1281: 'pythagorean', 1282: 'maxim', 1283: 'gets', 1284: 'atmosphere', 1285: 'breathes', 1286: 'commonalty', 1287: 'suspect', 1288: 'wherefore', 1289: 'repeatedly', 1290: 'merchant', 1291: 'invisible', 1292: 'police', 1293: 'constant', 1294: 'surveillance', 1295: 'secretly', 1296: 'dogs', 1297: 'influences', 1298: 'programme', 1299: 'providence', 1300: 'drawn', 1301: 'brief', 1302: 'interlude', 1303: 'solo', 1304: 'extensive', 1305: 'performances', 1306: 'bill', 1307: 'contested', 1308: 'election', 1309: 'presidency', 1310: 'united', 1311: 'states', 1312: 'bloody', 1313: 'battle', 1314: 'affghanistan', 1315: 'managers', 1316: 'magnificent', 1317: 'tragedies', 1318: 'genteel', 1319: 'comedies', 1320: 'farces', 1321: 'recall', 1322: 'springs', 1323: 'cunningly', 1324: 'presented', 1325: 'disguises', 1326: 'induced', 1327: 'performing', 1328: 'cajoling', 1329: 'delusion', 1330: 'choice', 1331: 'resulting', 1332: 'unbiased', 1333: 'freewill', 1334: 'discriminating', 1335: 'judgment', 1336: 'overwhelming', 1337: 'monster', 1338: 'roused', 1339: 'bulk', 1340: 'undeliverable', 1341: 'perils', 1342: 'attending', 1343: 'marvels', 1344: 'patagonian', 1345: 'sights', 1346: 'helped', 1347: 'sway', 1348: 'wish', 1349: 'inducements', 1350: 'itch', 1351: 'remote', 1352: 'love', 1353: 'forbidden', 1354: 'barbarous', 1355: 'coasts', 1356: 'ignoring', 1357: 'quick', 1358: 'perceive', 1359: 'horror', 1360: 'social', 1361: 'friendly', 1362: 'terms', 1363: 'inmates', 1364: 'lodges', 1365: 'welcome', 1366: 'flood', 1367: 'gates', 1368: 'swung', 1369: 'conceits', 1370: 'swayed', 1371: 'inmost', 1372: 'endless', 1373: 'processions', 1374: 'mid', 1375: 'hooded', 1376: 'carpet', 1377: 'tucked', 1378: 'started', 1379: 'pacific', 1380: 'quitting', 1381: 'manhatto', 1382: 'duly', 1383: 'december', 1384: 'disappointed', 1385: 'learning', 1386: 'packet', 1387: 'already', 1388: 'sailed', 1389: 'monday', 1390: 'candidates', 1391: 'pains', 1392: 'penalties', 1393: 'related', 1394: 'doing', 1395: 'boisterous', 1396: 'everything', 1397: 'connected', 1398: 'famous', 1399: 'amazingly', 1400: 'gradually', 1401: 'monopolising', 1402: 'behind', 1403: 'tyre', 1404: 'carthage;--the', 1405: 'aboriginal', 1406: 'whalemen', 1407: 'sally', 1408: 'canoes', 1409: 'chase', 1410: 'adventurous', 1411: 'sloop', 1412: 'forth', 1413: 'laden', 1414: 'imported', 1415: 'cobblestones', 1416: 'throw', 1417: 'discover', 1418: 'risk', 1419: 'bowsprit', 1420: 'destined', 1421: 'port', 1422: 'concernment', 1423: 'eat', 1424: 'dubious', 1425: 'bitingly', 1426: 'cheerless', 1427: 'anxious', 1428: 'grapnels', 1429: 'sounded', 1430: 'brought', 1431: 'pieces', 1432: 'silver,--so', 1433: 'shouldering', 1434: 'comparing', 1435: 'gloom', 1436: 'wisdom', 1437: 'conclude', 1438: 'lodge', 1439: 'dear', 1440: 'inquire', 1441: 'price', 1442: 'halting', 1443: 'steps', 1444: 'paced', 1445: 'harpoons\"--but', 1446: 'fervent', 1447: 'rays', 1448: 'melted', 1449: 'everywhere', 1450: 'congealed', 1451: 'asphaltic', 1452: 'pavement,--rather', 1453: 'weary', 1454: 'struck', 1455: 'flinty', 1456: 'projections', 1457: 'remorseless', 1458: 'service', 1459: 'soles', 1460: 'miserable', 1461: 'plight', 1462: 'glare', 1463: 'patched', 1464: 'stopping', 1465: 'instinct', 1466: 'followed', 1467: 'cheapest', 1468: 'cheeriest', 1469: 'inns', 1470: 'blocks', 1471: 'tomb', 1472: 'deserted', 1473: 'smoky', 1474: 'proceeding', 1475: 'building', 1476: 'invitingly', 1477: 'careless', 1478: 'uses', 1479: 'stumble', 1480: 'ash', 1481: 'porch', 1482: 'particles', 1483: 'choked', 1484: 'destroyed', 1485: 'gomorrah', 1486: 'fish?\"--this', 1487: 'picked', 1488: 'hearing', 1489: 'pushed', 1490: 'interior', 1491: 'parliament', 1492: 'tophet', 1493: 'hundred', 1494: 'faces', 1495: 'rows', 1496: 'peer', 1497: 'angel', 1498: 'doom', 1499: 'beating', 1500: 'book', 1501: 'pulpit', 1502: 'church', 1503: 'preacher', 1504: 'text', 1505: 'weeping', 1506: 'wailing', 1507: 'gnashing', 1508: 'muttered', 1509: 'backing', 1510: 'wretched', 1511: 'entertainment', 1512: 'docks', 1513: 'forlorn', 1514: 'faintly', 1515: 'jet', 1516: 'misty', 1517: 'spray', 1518: 'words', 1519: 'underneath--\"the', 1520: 'inn:--peter', 1521: 'coffin?--spouter?--rather', 1522: 'ominous', 1523: 'common', 1524: 'emigrant', 1525: 'dilapidated', 1526: 'ruins', 1527: 'district', 1528: 'poverty', 1529: 'stricken', 1530: 'creak', 1531: 'cheap', 1532: 'lodgings', 1533: 'pea', 1534: 'coffee', 1535: 'palsied', 1536: 'bleak', 1537: 'paul', 1538: 'tossed', 1539: 'mighty', 1540: 'pleasant', 1541: 'zephyr', 1542: 'doors', 1543: 'hob', 1544: 'toasting', 1545: 'judging', 1546: 'writer', 1547: 'whose', 1548: 'works', 1549: 'possess', 1550: 'copy', 1551: 'extant--\"it', 1552: 'maketh', 1553: 'lookest', 1554: 'observest', 1555: 'sashless', 1556: 'sides', 1557: 'wight', 1558: 'glazier', 1559: 'letter', 1560: 'reasonest', 1561: 'pity', 1562: 'chinks', 1563: 'crannies', 1564: 'thrust', 1565: 'lint', 1566: 'improvements', 1567: 'universe', 1568: 'finished', 1569: 'copestone', 1570: 'chips', 1571: 'million', 1572: 'chattering', 1573: 'pillow', 1574: 'shaking', 1575: 'tatters', 1576: 'shiverings', 1577: 'plug', 1578: 'ears', 1579: 'rags', 1580: 'cob', 1581: 'silken', 1582: 'wrapper--(he', 1583: 'redder', 1584: 'frosty', 1585: 'orion', 1586: 'glitters', 1587: 'talk', 1588: 'oriental', 1589: 'climes', 1590: 'conservatories', 1591: 'privilege', 1592: 'coals', 1593: 'warm', 1594: 'sumatra', 1595: 'line', 1596: 'equator', 1597: 'yea', 1598: 'fiery', 1599: 'pit', 1600: 'wonderful', 1601: 'iceberg', 1602: 'moored', 1603: 'moluccas', 1604: 'lives', 1605: 'czar', 1606: 'palace', 1607: 'president', 1608: 'temperance', 1609: 'society', 1610: 'drinks', 1611: 'tepid', 1612: 'tears', 1613: 'orphans', 1614: 'blubbering', 1615: 'scrape', 1616: 'frosted', 1617: 'straggling', 1618: 'fashioned', 1619: 'wainscots', 1620: 'reminding', 1621: 'condemned', 1622: 'oilpainting', 1623: 'thoroughly', 1624: 'besmoked', 1625: 'defaced', 1626: 'unequal', 1627: 'crosslights', 1628: 'viewed', 1629: 'diligent', 1630: 'systematic', 1631: 'visits', 1632: 'careful', 1633: 'inquiry', 1634: 'neighbors', 1635: 'understanding', 1636: 'masses', 1637: 'shades', 1638: 'ambitious', 1639: 'england', 1640: 'hags', 1641: 'endeavored', 1642: 'delineate', 1643: 'chaos', 1644: 'bewitched', 1645: 'earnest', 1646: 'contemplation', 1647: 'oft', 1648: 'repeated', 1649: 'ponderings', 1650: 'unwarranted', 1651: 'puzzled', 1652: 'mass', 1653: 'hovering', 1654: 'perpendicular', 1655: 'lines', 1656: 'floating', 1657: 'yeast', 1658: 'boggy', 1659: 'soggy', 1660: 'squitchy', 1661: 'nervous', 1662: 'distracted', 1663: 'indefinite', 1664: 'attained', 1665: 'sublimity', 1666: 'fairly', 1667: 'froze', 1668: 'oath', 1669: 'anon', 1670: 'alas', 1671: 'deceptive', 1672: 'dart', 1673: 'through.--it', 1674: 'gale.--it', 1675: 'combat', 1676: 'primal', 1677: 'elements.--it', 1678: 'blasted', 1679: 'heath.--it', 1680: 'hyperborean', 1681: 'winter', 1682: 'scene.--it', 1683: 'icebound', 1684: 'fancies', 1685: 'yielded', 1686: 'midst', 1687: 'faint', 1688: 'resemblance', 1689: 'gigantic', 1690: 'final', 1691: 'theory', 1692: 'based', 1693: 'aggregated', 1694: 'opinions', 1695: 'aged', 1696: 'persons', 1697: 'conversed', 1698: 'subject', 1699: 'represents', 1700: 'horner', 1701: 'hurricane', 1702: 'foundered', 1703: 'weltering', 1704: 'dismantled', 1705: 'masts', 1706: 'alone', 1707: 'visible', 1708: 'exasperated', 1709: 'purposing', 1710: 'spring', 1711: 'enormous', 1712: 'impaling', 1713: 'heathenish', 1714: 'array', 1715: 'clubs', 1716: 'spears', 1717: 'thickly', 1718: 'glittering', 1719: 'resembling', 1720: 'ivory', 1721: 'saws', 1722: 'tufted', 1723: 'sickle', 1724: 'shaped', 1725: 'sweeping', 1726: 'segment', 1727: 'mown', 1728: 'grass', 1729: 'armed', 1730: 'mower', 1731: 'shuddered', 1732: 'gazed', 1733: 'harvesting', 1734: 'hacking', 1735: 'horrifying', 1736: 'implement', 1737: 'rusty', 1738: 'lances', 1739: 'storied', 1740: 'weapons', 1741: 'lance', 1742: 'wildly', 1743: 'elbowed', 1744: 'fifty', 1745: 'nathan', 1746: 'swain', 1747: 'fifteen', 1748: 'sunrise', 1749: 'sunset', 1750: 'corkscrew', 1751: 'javan', 1752: 'slain', 1753: 'blanco', 1754: 'tail', 1755: 'restless', 1756: 'needle', 1757: 'sojourning', 1758: 'travelled', 1759: 'forty', 1760: 'imbedded', 1761: 'hump', 1762: 'crossing', 1763: 'dusky', 1764: 'yon', 1765: 'central', 1766: 'fireplaces', 1767: 'duskier', 1768: 'ponderous', 1769: 'beams', 1770: 'above', 1771: 'planks', 1772: 'trod', 1773: 'cockpits', 1774: 'anchored', 1775: 'ark', 1776: 'rocked', 1777: 'furiously', 1778: 'cracked', 1779: 'cases', 1780: 'filled', 1781: 'dusty', 1782: 'rarities', 1783: 'remotest', 1784: 'nooks', 1785: 'projecting', 1786: 'angle', 1787: 'den', 1788: 'attempt', 1789: 'jaw', 1790: 'coach', 1791: 'shelves', 1792: 'ranged', 1793: 'decanters', 1794: 'bottles', 1795: 'flasks', 1796: 'jaws', 1797: 'swift', 1798: 'destruction', 1799: 'cursed', 1800: 'bustles', 1801: 'withered', 1802: 'dearly', 1803: 'sells', 1804: 'deliriums', 1805: 'tumblers', 1806: 'pours', 1807: 'poison', 1808: 'cylinders', 1809: 'villanous', 1810: 'goggling', 1811: 'deceitfully', 1812: 'tapered', 1813: 'downwards', 1814: 'cheating', 1815: 'bottom', 1816: 'parallel', 1817: 'meridians', 1818: 'rudely', 1819: 'pecked', 1820: 'surround', 1821: 'footpads', 1822: 'goblets', 1823: 'fill', 1824: 'mark', 1825: 'charge', 1826: 'gulp', 1827: 'shilling', 1828: 'number', 1829: 'examining', 1830: 'divers', 1831: 'specimens', 1832: 'desired', 1833: 'accommodated', 1834: 'received', 1835: 'unoccupied', 1836: 'avast', 1837: 'tapping', 1838: 'haint', 1839: 'sharing', 1840: \"s'pose\", 1841: 'whalin', 1842: 'liked', 1843: 'decidedly', 1844: 'objectionable', 1845: 'wander', 1846: 'seat', 1847: 'supper?--you', 1848: \"supper'll\", 1849: 'directly', 1850: 'carved', 1851: 'end', 1852: 'ruminating', 1853: 'adorning', 1854: 'jack', 1855: 'knife', 1856: 'stooping', 1857: 'diligently', 1858: 'headway', 1859: 'five', 1860: 'summoned', 1861: 'meal', 1862: 'adjoining', 1863: 'iceland', 1864: 'afford', 1865: 'tallow', 1866: 'candles', 1867: 'winding', 1868: 'sheet', 1869: 'fain', 1870: 'button', 1871: 'jackets', 1872: 'cups', 1873: 'scalding', 1874: 'tea', 1875: 'substantial', 1876: 'meat', 1877: 'potatoes', 1878: 'addressed', 1879: 'direful', 1880: 'sartainty', 1881: 'whispered', 1882: 'oh', 1883: 'diabolically', 1884: 'funny', 1885: 'steaks', 1886: 'likes', 1887: 'rare', 1888: 'suspicious', 1889: 'rate', 1890: 'undress', 1891: 'company', 1892: 'evening', 1893: 'looker', 1894: 'rioting', 1895: 'starting', 1896: 'cried', 1897: 'grampus', 1898: 'crew', 1899: 'seed', 1900: 'reported', 1901: 'hurrah', 1902: 'latest', 1903: 'news', 1904: 'feegees', 1905: 'tramping', 1906: 'mariners', 1907: 'enveloped', 1908: 'coats', 1909: 'muffled', 1910: 'comforters', 1911: 'bedarned', 1912: 'ragged', 1913: 'beards', 1914: 'icicles', 1915: 'eruption', 1916: 'bears', 1917: 'boat', 1918: 'officiating', 1919: 'poured', 1920: 'brimmers', 1921: 'complained', 1922: 'pitch', 1923: 'potion', 1924: 'gin', 1925: 'molasses', 1926: 'swore', 1927: 'sovereign', 1928: 'cure', 1929: 'colds', 1930: 'catarrhs', 1931: 'caught', 1932: 'coast', 1933: 'weather', 1934: 'liquor', 1935: 'arrantest', 1936: 'topers', 1937: 'newly', 1938: 'capering', 1939: 'obstreperously', 1940: 'observed', 1941: 'aloof', 1942: 'desirous', 1943: 'spoil', 1944: 'hilarity', 1945: 'refrained', 1946: 'interested', 1947: 'ordained', 1948: 'shipmate', 1949: 'partner', 1950: 'narrative', 1951: 'concerned', 1952: 'venture', 1953: 'description', 1954: 'six', 1955: 'shoulders', 1956: 'coffer', 1957: 'seldom', 1958: 'brawn', 1959: 'deeply', 1960: 'dazzling', 1961: 'contrast', 1962: 'reminiscences', 1963: 'joy', 1964: 'announced', 1965: 'southerner', 1966: 'stature', 1967: 'mountaineers', 1968: 'alleghanian', 1969: 'ridge', 1970: 'virginia', 1971: 'revelry', 1972: 'companions', 1973: 'slipped', 1974: 'unobserved', 1975: 'comrade', 1976: 'minutes', 1977: 'missed', 1978: 'seems', 1979: 'favourite', 1980: 'raised', 1981: 'cry', 1982: 'darted', 1983: 'pursuit', 1984: 'nine', 1985: 'seeming', 1986: 'supernaturally', 1987: 'orgies', 1988: 'congratulate', 1989: 'entrance', 1990: 'prefers', 1991: 'comes', 1992: 'indefinitely', 1993: 'multiply', 1994: 'anybody', 1995: 'bachelor', 1996: 'kings', 1997: 'ashore', 1998: 'cover', 1999: 'pondered', 2000: 'abominated', 2001: 'fair', 2002: 'presume', 2003: 'case', 2004: 'tidiest', 2005: 'certainly', 2006: 'finest', 2007: 'twitch', 2008: 'ought', 2009: 'bedwards', 2010: 'tumble', 2011: 'vile', 2012: 'changed', 2013: 'harpooneer.--i', 2014: 'sha', 2015: \"'m\", 2016: 'sorry', 2017: 'spare', 2018: 'tablecloth', 2019: 'plaguy', 2020: 'rough', 2021: 'here\"--feeling', 2022: 'notches', 2023: 'carpenter', 2024: 'snug', 2025: 'procured', 2026: 'silk', 2027: 'handkerchief', 2028: 'dusting', 2029: 'vigorously', 2030: 'ape', 2031: 'flew', 2032: 'bump', 2033: 'indestructible', 2034: 'spraining', 2035: 'wrist', 2036: 'quit', 2037: 'soft', 2038: 'suit', 2039: 'eider', 2040: 'plank', 2041: 'gathering', 2042: 'stove', 2043: 'mended', 2044: 'higher', 2045: 'planed', 2046: 'yoking', 2047: 'clear', 2048: 'draught', 2049: 'sill', 2050: 'current', 2051: 'rickety', 2052: 'whirlwinds', 2053: 'immediate', 2054: 'vicinity', 2055: 'fetch', 2056: 'steal', 2057: 'march', 2058: 'bolt', 2059: 'wakened', 2060: 'knockings', 2061: 'thoughts', 2062: 'dismissed', 2063: 'popped', 2064: 'knock', 2065: 'chance', 2066: 'spending', 2067: 'sufferable', 2068: 'person', 2069: 'cherishing', 2070: 'unwarrantable', 2071: 'prejudices', 2072: 'awhile', 2073: 'dropping', 2074: 'bedfellows', 2075: 'boarders', 2076: 'twos', 2077: 'threes', 2078: 'twelve', 2079: 'chuckled', 2080: 'lean', 2081: 'chuckle', 2082: 'mightily', 2083: 'tickled', 2084: 'answered', 2085: 'early', 2086: 'rise', 2087: 'catches', 2088: 'worm', 2089: 'keeps', 2090: 'head?--what', 2091: 'bamboozingly', 2092: 'towering', 2093: 'rage', 2094: 'pretend', 2095: 'actually', 2096: 'blessed', 2097: 'market', 2098: 'overstocked', 2099: 'calmly', 2100: 'spinning', 2101: 'yarn', 2102: \"i'm\", 2103: 'stick', 2104: 'toothpick', 2105: 'rayther', 2106: 'hears', 2107: 'slanderin', 2108: 'passion', 2109: 'farrago', 2110: \"a'ready\", 2111: 'i--\"broke', 2112: 'sartain', 2113: 'cool', 2114: 'mt.', 2115: 'hecla', 2116: 'storm--\"landlord', 2117: 'delay', 2118: 'belongs', 2119: 'persist', 2120: 'mystifying', 2121: 'exasperating', 2122: 'stories', 2123: 'tending', 2124: 'beget', 2125: 'intimate', 2126: 'confidential', 2127: 'highest', 2128: 'shall', 2129: 'respects', 2130: 'safe', 2131: 'unsay', 2132: 'evidence', 2133: 'stark', 2134: 'mad', 2135: 'madman', 2136: 'induce', 2137: 'knowingly', 2138: 'thereby', 2139: 'render', 2140: 'liable', 2141: 'criminal', 2142: 'prosecution', 2143: 'fetching', 2144: 'breath', 2145: 'purty', 2146: 'sarmon', 2147: 'rips', 2148: 'tellin', 2149: 'bought', 2150: 'lot', 2151: 'balmed', 2152: 'curios', 2153: 'sold', 2154: 'cause', 2155: 'morrow', 2156: 'sellin', 2157: 'folks', 2158: 'churches', 2159: 'wanted', 2160: 'stopped', 2161: 'strung', 2162: 'inions', 2163: 'cleared', 2164: 'otherwise', 2165: 'fooling', 2166: 'stayed', 2167: 'idolators', 2168: 'pays', 2169: \"reg'lar\", 2170: 'rejoinder', 2171: 'dreadful', 2172: 'turning', 2173: 'nice', 2174: 'spliced', 2175: 'kick', 2176: 'almighty', 2177: 'johnny', 2178: 'dreaming', 2179: 'sprawling', 2180: 'pitched', 2181: 'arter', 2182: 'glim', 2183: 'jiffy', 2184: 'offering', 2185: 'irresolute', 2186: 'clock', 2187: 'exclaimed', 2188: 'vum', 2189: 'anchor', 2190: 'somewhere', 2191: \"won't\", 2192: 'considered', 2193: 'ushered', 2194: 'clam', 2195: 'furnished', 2196: 'prodigious', 2197: 'harpooneers', 2198: 'abreast', 2199: 'duty', 2200: 'comfortable', 2201: 'disappeared', 2202: 'folding', 2203: 'stooped', 2204: 'elegant', 2205: 'scrutiny', 2206: 'tolerably', 2207: 'glanced', 2208: 'bedstead', 2209: 'furniture', 2210: 'walls', 2211: 'fireboard', 2212: 'striking', 2213: 'properly', 2214: 'lashed', 2215: 'also', 2216: 'seaman', 2217: 'containing', 2218: 'wardrobe', 2219: 'doubt', 2220: 'lieu', 2221: 'likewise', 2222: 'outlandish', 2223: 'hooks', 2224: 'close', 2225: 'ornamented', 2226: 'tags', 2227: 'stained', 2228: 'porcupine', 2229: 'quills', 2230: 'moccasin', 2231: 'slit', 2232: 'ponchos', 2233: 'parade', 2234: 'guise', 2235: 'hamper', 2236: 'uncommonly', 2237: 'wearing', 2238: 'rainy', 2239: 'tore', 2240: 'hurry', 2241: 'kink', 2242: 'beginning', 2243: 'ado', 2244: 'tumbled', 2245: 'commended', 2246: 'cobs', 2247: 'crockery', 2248: 'slid', 2249: 'nod', 2250: 'footfall', 2251: 'glimmer', 2252: 'lord', 2253: 'perfectly', 2254: 'word', 2255: 'spoken', 2256: 'identical', 2257: 'knotted', 2258: 'cords', 2259: 'spoke', 2260: 'eagerness', 2261: 'averted', 2262: 'employed', 2263: 'unlacing', 2264: 'accomplished', 2265: 'blackish', 2266: 'terrible', 2267: 'fight', 2268: 'surgeon', 2269: 'chanced', 2270: 'plainly', 2271: 'plasters', 2272: 'stains', 2273: 'inkling', 2274: 'cannibals', 2275: 'course', 2276: 'voyages', 2277: 'adventure', 2278: 'honest', 2279: 'unearthly', 2280: 'complexion', 2281: 'independent', 2282: 'tattooing', 2283: 'tropical', 2284: 'extraordinary', 2285: 'effects', 2286: 'ideas', 2287: 'passing', 2288: 'lightning', 2289: 'noticed', 2290: 'difficulty', 2291: 'fumbling', 2292: 'pulled', 2293: 'seal', 2294: 'wallet', 2295: 'ghastly', 2296: 'crammed', 2297: 'fresh', 2298: 'surprise', 2299: 'least', 2300: 'scalp', 2301: 'twisted', 2302: 'bald', 2303: 'mildewed', 2304: 'skull', 2305: 'quicker', 2306: 'dinner', 2307: 'slipping', 2308: 'coward', 2309: 'purple', 2310: 'rascal', 2311: 'ignorance', 2312: 'parent', 2313: 'nonplussed', 2314: 'game', 2315: 'address', 2316: 'inexplicable', 2317: 'continued', 2318: 'undressing', 2319: 'live', 2320: 'checkered', 2321: 'thirty', 2322: 'war', 2323: 'escaped', 2324: 'marked', 2325: 'frogs', 2326: 'trunks', 2327: 'palms', 2328: 'shipped', 2329: 'aboard', 2330: 'quaked', 2331: 'brothers', 2332: 'shuddering', 2333: 'fascinated', 2334: 'attention', 2335: 'convinced', 2336: 'heathen', 2337: 'wrapall', 2338: 'dreadnaught', 2339: 'previously', 2340: 'fumbled', 2341: 'pockets', 2342: 'embalmed', 2343: 'manikin', 2344: 'real', 2345: 'preserved', 2346: 'glistened', 2347: 'polished', 2348: 'ebony', 2349: 'empty', 2350: 'removing', 2351: 'sets', 2352: 'backed', 2353: 'tenpin', 2354: 'andirons', 2355: 'jambs', 2356: 'bricks', 2357: 'sooty', 2358: 'appropriate', 2359: 'shrine', 2360: 'chapel', 2361: 'screwed', 2362: 'hidden', 2363: 'ease', 2364: 'meantime', 2365: 'follow', 2366: 'handful', 2367: 'places', 2368: 'carefully', 2369: 'laying', 2370: 'applying', 2371: 'flame', 2372: 'kindled', 2373: 'sacrificial', 2374: 'blaze', 2375: 'hasty', 2376: 'snatches', 2377: 'hastier', 2378: 'withdrawals', 2379: 'whereby', 2380: 'scorching', 2381: 'badly', 2382: 'drawing', 2383: 'heat', 2384: 'dry', 2385: 'moved', 2386: 'antics', 2387: 'accompanied', 2388: 'noises', 2389: 'devotee', 2390: 'praying', 2391: 'sing', 2392: 'song', 2393: 'psalmody', 2394: 'during', 2395: 'twitched', 2396: 'extinguishing', 2397: 'unceremoniously', 2398: 'bagged', 2399: 'carelessly', 2400: 'sportsman', 2401: 'bagging', 2402: 'woodcock', 2403: 'proceedings', 2404: 'increased', 2405: 'uncomfortableness', 2406: 'exhibiting', 2407: 'symptoms', 2408: 'concluding', 2409: 'operations', 2410: 'jumping', 2411: 'spent', 2412: 'deliberating', 2413: 'fatal', 2414: 'examined', 2415: 'instant', 2416: 'puffed', 2417: 'clouds', 2418: 'extinguished', 2419: 'sprang', 2420: 'sang', 2421: 'giving', 2422: 'sudden', 2423: 'astonishment', 2424: 'stammering', 2425: 'conjured', 2426: 'whoever', 2427: 'responses', 2428: 'satisfied', 2429: 'comprehended', 2430: 'debel', 2431: 'you?\"--he', 2432: 'said--\"you', 2433: 'flourishing', 2434: 'god', 2435: 'angels', 2436: 'growled', 2437: 'flourishings', 2438: 'scattered', 2439: 'thank', 2440: 'leaping', 2441: 'ran', 2442: 'harm', 2443: \"know'd\", 2444: \"it;--didn't\", 2445: 'peddlin', 2446: 'town?--but', 2447: 'sleepe', 2448: 'plenty\"--grunted', 2449: 'puffing', 2450: 'gettee', 2451: 'motioning', 2452: 'clothes', 2453: 'civil', 2454: 'charitable', 2455: 'tattooings', 2456: 'comely', 2457: 'fuss', 2458: 'drunken', 2459: 'stash', 2460: 'insured', 2461: 'politely', 2462: 'motioned', 2463: 'rolling', 2464: 'touch', 2465: 'leg', 2466: 'daylight', 2467: 'loving', 2468: 'affectionate', 2469: 'wife', 2470: 'odd', 2471: 'parti', 2472: 'coloured', 2473: 'triangles', 2474: 'interminable', 2475: 'cretan', 2476: 'labyrinth', 2477: 'precise', 2478: 'owing', 2479: 'keeping', 2480: 'unmethodically', 2481: 'irregularly', 2482: 'strip', 2483: 'awoke', 2484: 'hardly', 2485: 'blended', 2486: 'hues', 2487: 'weight', 2488: 'pressure', 2489: 'child', 2490: 'befell', 2491: 'dream', 2492: 'entirely', 2493: 'cutting', 2494: 'caper', 2495: 'crawl', 2496: 'whipping', 2497: 'sending', 2498: 'supperless,--my', 2499: 'mother', 2500: 'dragged', 2501: '21st', 2502: 'longest', 2503: 'year', 2504: 'hemisphere', 2505: 'third', 2506: 'sigh', 2507: 'sheets', 2508: 'dismally', 2509: 'calculating', 2510: 'entire', 2511: 'elapse', 2512: 'hope', 2513: 'resurrection', 2514: 'ached', 2515: 'shining', 2516: 'rattling', 2517: 'coaches', 2518: 'sound', 2519: 'gay', 2520: 'voices', 2521: 'dressed', 2522: 'softly', 2523: 'stockinged', 2524: 'threw', 2525: 'beseeching', 2526: 'favour', 2527: 'slippering', 2528: 'misbehaviour', 2529: 'condemning', 2530: 'unendurable', 2531: 'she', 2532: 'conscientious', 2533: 'stepmothers', 2534: 'several', 2535: 'awake', 2536: 'greatest', 2537: 'subsequent', 2538: 'misfortunes', 2539: 'fallen', 2540: 'steeped', 2541: 'dreams', 2542: 'lit', 2543: 'outer', 2544: 'instantly', 2545: 'shock', 2546: 'frame', 2547: 'form', 2548: 'belonged', 2549: 'closely', 2550: 'piled', 2551: 'fears', 2552: 'daring', 2553: 'drag', 2554: 'stir', 2555: 'inch', 2556: 'glided', 2557: 'shudderingly', 2558: 'weeks', 2559: 'months', 2560: 'lost', 2561: 'confounding', 2562: 'attempts', 2563: 'often', 2564: 'puzzle', 2565: 'strangeness', 2566: 'experienced', 2567: 'past', 2568: 'events', 2569: 'soberly', 2570: 'recurred', 2571: 'alive', 2572: 'comical', 2573: 'predicament', 2574: 'move', 2575: 'unlock', 2576: 'bridegroom', 2577: 'clasp', 2578: 'hugged', 2579: 'tightly', 2580: 'naught', 2581: 'twain', 2582: 'strove', 2583: 'rouse', 2584: 'him--\"queequeg!\"--but', 2585: 'snore', 2586: 'collar', 2587: 'slight', 2588: 'scratch', 2589: 'aside', 2590: 'hatchet', 2591: 'faced', 2592: 'pickle', 2593: 'queequeg!--in', 2594: 'goodness', 2595: 'wriggling', 2596: 'incessant', 2597: 'expostulations', 2598: 'unbecomingness', 2599: 'male', 2600: 'matrimonial', 2601: 'style', 2602: 'extracting', 2603: 'drew', 2604: 'shook', 2605: 'newfoundland', 2606: 'dog', 2607: 'pike', 2608: 'staff', 2609: 'rubbing', 2610: 'dawning', 2611: 'serious', 2612: 'misgivings', 2613: 'bent', 2614: 'narrowly', 2615: 'touching', 2616: 'character', 2617: 'reconciled', 2618: 'signs', 2619: 'leave', 2620: 'overture', 2621: 'savages', 2622: 'innate', 2623: 'delicacy', 2624: 'essentially', 2625: 'compliment', 2626: 'treated', 2627: 'civility', 2628: 'consideration', 2629: 'guilty', 2630: 'rudeness', 2631: 'staring', 2632: 'toilette', 2633: 'motions', 2634: 'breeding', 2635: 'ways', 2636: 'worth', 2637: 'unusual', 2638: 'regarding', 2639: 'dressing', 2640: 'donning', 2641: 'minus', 2642: 'trowsers', 2643: 'hunted', 2644: 'movement', 2645: 'crush', 2646: 'sundry', 2647: 'gaspings', 2648: 'strainings', 2649: 'work', 2650: 'booting', 2651: 'law', 2652: 'propriety', 2653: 'required', 2654: 'neither', 2655: 'caterpillar', 2656: 'butterfly', 2657: 'show', 2658: 'outlandishness', 2659: 'strangest', 2660: 'manners', 2661: 'education', 2662: 'completed', 2663: 'undergraduate', 2664: 'dreamt', 2665: 'emerged', 2666: 'dented', 2667: 'crushed', 2668: 'limping', 2669: 'accustomed', 2670: 'pair', 2671: 'cowhide', 2672: 'pinched', 2673: 'curtains', 2674: 'commanded', 2675: 'indecorous', 2676: 'staving', 2677: 'begged', 2678: 'accelerate', 2679: 'proceeded', 2680: 'amazement', 2681: 'contented', 2682: 'restricting', 2683: 'ablutions', 2684: 'donned', 2685: 'waistcoat', 2686: 'piece', 2687: 'soap', 2688: 'dipped', 2689: 'lathering', 2690: 'razor', 2691: 'lo', 2692: 'behold', 2693: 'slips', 2694: 'stock', 2695: 'unsheathes', 2696: 'whets', 2697: 'boot', 2698: 'striding', 2699: 'mirror', 2700: 'begins', 2701: 'vigorous', 2702: 'scraping', 2703: 'harpooning', 2704: 'using', 2705: 'rogers', 2706: 'cutlery', 2707: 'vengeance', 2708: 'operation', 2709: 'steel', 2710: 'exceedingly', 2711: 'achieved', 2712: 'interest', 2713: 'proudly', 2714: 'marched', 2715: 'pilot', 2716: 'sporting', 2717: 'marshal'} "
          ]
        }
      ]
    },
    {
      "cell_type": "code",
      "source": [
        "for i in sequences[0]:\n",
        "  print(f\"{i} : {tokenizer.index_word[i]}\", end = ' ')"
      ],
      "metadata": {
        "colab": {
          "base_uri": "https://localhost:8080/"
        },
        "id": "0ghE1j9LqKw5",
        "outputId": "872b645c-2e34-42d8-89fb-5c45f7060245"
      },
      "execution_count": 22,
      "outputs": [
        {
          "output_type": "stream",
          "name": "stdout",
          "text": [
            "956 : call 14 : me 263 : ishmael 51 : some 261 : years 408 : ago 87 : never 219 : mind 129 : how 111 : long 954 : precisely 260 : having 50 : little 43 : or 38 : no 315 : money 7 : in 23 : my 546 : purse 3 : and 150 : nothing 259 : particular 6 : to 2712 : interest 14 : me 24 : on "
          ]
        }
      ]
    },
    {
      "cell_type": "code",
      "source": [
        "print(tokenizer.word_counts, end = ' ')"
      ],
      "metadata": {
        "colab": {
          "base_uri": "https://localhost:8080/"
        },
        "id": "VccaF7eTqexO",
        "outputId": "1ea0baa9-4071-42e6-c771-69260aeef83e"
      },
      "execution_count": 23,
      "outputs": [
        {
          "output_type": "stream",
          "name": "stdout",
          "text": [
            "OrderedDict([('call', 27), ('me', 2471), ('ishmael', 133), ('some', 758), ('years', 135), ('ago', 84), ('never', 449), ('mind', 164), ('how', 321), ('long', 374), ('precisely', 37), ('having', 142), ('little', 767), ('or', 950), ('no', 1003), ('money', 120), ('in', 5647), ('my', 1786), ('purse', 71), ('and', 9646), ('nothing', 281), ('particular', 152), ('to', 6497), ('interest', 24), ('on', 1716), ('shore', 26), ('i', 7150), ('thought', 676), ('would', 702), ('sail', 104), ('about', 1014), ('a', 10377), ('see', 416), ('the', 15540), ('watery', 26), ('part', 234), ('of', 8287), ('world', 234), ('it', 4238), ('is', 1950), ('way', 390), ('have', 806), ('driving', 26), ('off', 416), ('spleen', 26), ('regulating', 26), ('circulation', 26), ('whenever', 130), ('find', 78), ('myself', 416), ('growing', 26), ('grim', 26), ('mouth', 130), ('damp', 78), ('drizzly', 26), ('november', 26), ('soul', 78), ('involuntarily', 52), ('pausing', 52), ('before', 364), ('coffin', 104), ('warehouses', 52), ('bringing', 26), ('up', 1237), ('rear', 26), ('every', 182), ('funeral', 26), ('meet', 26), ('especially', 104), ('hypos', 26), ('get', 364), ('such', 572), ('an', 806), ('upper', 26), ('hand', 312), ('that', 3770), ('requires', 52), ('strong', 78), ('moral', 26), ('principle', 26), ('prevent', 26), ('from', 1508), ('deliberately', 26), ('stepping', 26), ('into', 988), ('street', 104), ('methodically', 26), ('knocking', 26), ('people', 52), (\"'s\", 1691), ('hats', 26), ('then', 832), ('account', 78), ('high', 130), ('time', 520), ('sea', 546), ('as', 2366), ('soon', 234), ('can', 338), ('this', 2158), ('substitute', 26), ('for', 1820), ('pistol', 26), ('ball', 26), ('with', 2392), ('philosophical', 26), ('flourish', 26), ('cato', 26), ('throws', 26), ('himself', 338), ('upon', 780), ('his', 3139), ('sword', 78), ('quietly', 78), ('take', 260), ('ship', 182), ('there', 1456), ('surprising', 26), ('if', 728), ('they', 728), ('but', 2652), ('knew', 130), ('almost', 286), ('all', 1872), ('men', 130), ('their', 390), ('degree', 78), ('other', 494), ('cherish', 26), ('very', 494), ('nearly', 52), ('same', 312), ('feelings', 26), ('towards', 260), ('ocean', 52), ('now', 1040), ('your', 442), ('insular', 26), ('city', 104), ('manhattoes', 26), ('belted', 26), ('round', 364), ('by', 962), ('wharves', 26), ('indian', 52), ('isles', 26), ('coral', 26), ('reefs', 26), ('commerce', 26), ('surrounds', 26), ('her', 156), ('surf', 26), ('right', 156), ('left', 78), ('streets', 208), ('you', 2158), ('waterward', 52), ('its', 156), ('extreme', 26), ('downtown', 26), ('battery', 52), ('where', 364), ('noble', 52), ('mole', 26), ('washed', 52), ('waves', 26), ('cooled', 26), ('breezes', 26), ('which', 572), ('few', 104), ('hours', 130), ('previous', 104), ('were', 962), ('out', 956), ('sight', 104), ('land', 208), ('look', 156), ('at', 2184), ('crowds', 52), ('water', 234), ('gazers', 26), ('circumambulate', 26), ('dreamy', 26), ('sabbath', 52), ('afternoon', 52), ('go', 494), ('corlears', 26), ('hook', 26), ('coenties', 26), ('slip', 26), ('thence', 52), ('whitehall', 26), ('northward', 26), ('what', 1118), ('do', 702), ('see?--posted', 26), ('like', 732), ('silent', 52), ('sentinels', 26), ('around', 78), ('town', 156), ('stand', 182), ('thousands', 52), ('mortal', 26), ('fixed', 78), ('reveries', 52), ('leaning', 52), ('against', 234), ('spiles', 26), ('seated', 52), ('pier', 26), ('heads', 338), ('looking', 312), ('over', 702), ('bulwarks', 52), ('ships', 78), ('china', 26), ('aloft', 52), ('rigging', 26), ('striving', 26), ('still', 364), ('better', 208), ('seaward', 26), ('peep', 26), ('these', 494), ('are', 416), ('landsmen', 26), ('week', 52), ('days', 104), ('pent', 26), ('lath', 26), ('plaster', 52), ('tied', 26), ('counters', 26), ('nailed', 26), ('benches', 26), ('clinched', 26), ('desks', 26), ('green', 130), ('fields', 26), ('gone', 52), ('here', 598), ('come', 338), ('more', 494), ('pacing', 26), ('straight', 104), ('seemingly', 26), ('bound', 52), ('dive', 26), ('strange', 182), ('will', 260), ('content', 52), ('them', 442), ('extremest', 26), ('limit', 26), ('loitering', 26), ('under', 260), ('shady', 26), ('lee', 26), ('yonder', 52), ('not', 1534), ('suffice', 26), ('must', 442), ('just', 390), ('nigh', 104), ('possibly', 26), ('without', 182), ('falling', 52), ('miles', 78), ('leagues', 26), ('inlanders', 26), ('lanes', 26), ('alleys', 26), ('avenues', 26), ('north', 52), ('east', 26), ('south', 156), ('west', 26), ('yet', 416), ('unite', 26), ('tell', 442), ('does', 156), ('magnetic', 26), ('virtue', 26), ('needles', 26), ('compasses', 26), ('those', 234), ('attract', 26), ('thither', 26), ('once', 208), ('say', 286), ('country', 78), ('lakes', 26), ('any', 364), ('path', 26), ('please', 52), ('ten', 52), ('one', 1300), ('carries', 26), ('down', 468), ('dale', 26), ('leaves', 52), ('pool', 26), ('stream', 78), ('magic', 52), ('let', 156), ('most', 468), ('absent', 26), ('minded', 26), ('be', 1716), ('plunged', 52), ('deepest', 26), ('man', 572), ('legs', 104), ('set', 156), ('feet', 182), ('going', 260), ('he', 3247), ('infallibly', 26), ('lead', 78), ('region', 26), ('should', 286), ('ever', 338), ('athirst', 26), ('great', 376), ('american', 78), ('desert', 26), ('try', 104), ('experiment', 26), ('caravan', 26), ('happen', 26), ('supplied', 26), ('metaphysical', 52), ('professor', 26), ('yes', 104), ('knows', 26), ('meditation', 26), ('wedded', 26), ('artist', 78), ('desires', 26), ('paint', 26), ('dreamiest', 26), ('shadiest', 26), ('quietest', 26), ('enchanting', 26), ('bit', 130), ('romantic', 26), ('landscape', 26), ('valley', 26), ('saco', 26), ('chief', 52), ('element', 26), ('employs', 26), ('trees', 26), ('each', 78), ('hollow', 26), ('trunk', 52), ('hermit', 26), ('crucifix', 26), ('within', 130), ('sleeps', 26), ('meadow', 52), ('sleep', 416), ('cattle', 26), ('cottage', 26), ('goes', 78), ('sleepy', 26), ('smoke', 52), ('deep', 78), ('distant', 78), ('woodlands', 26), ('winds', 78), ('mazy', 26), ('reaching', 52), ('overlapping', 26), ('spurs', 26), ('mountains', 26), ('bathed', 26), ('hill', 52), ('side', 286), ('blue', 78), ('though', 494), ('picture', 130), ('lies', 26), ('thus', 52), ('tranced', 26), ('pine', 52), ('tree', 26), ('shakes', 26), ('sighs', 52), ('shepherd', 52), ('head', 598), ('vain', 26), ('unless', 104), ('eye', 26), ('him', 1092), ('visit', 26), ('prairies', 26), ('june', 52), ('when', 650), ('scores', 52), ('wade', 26), ('knee', 26), ('among', 78), ('tiger', 26), ('lilies', 26), ('charm', 26), ('wanting?--water', 26), ('drop', 26), ('niagara', 26), ('cataract', 26), ('sand', 26), ('travel', 26), ('thousand', 52), ('why', 286), ('did', 572), ('poor', 104), ('poet', 26), ('tennessee', 26), ('suddenly', 78), ('receiving', 26), ('two', 338), ('handfuls', 26), ('silver', 26), ('deliberate', 26), ('whether', 182), ('buy', 26), ('coat', 104), ('sadly', 52), ('needed', 26), ('invest', 26), ('pedestrian', 26), ('trip', 26), ('rockaway', 26), ('beach', 26), ('robust', 52), ('healthy', 52), ('boy', 52), ('crazy', 52), ('first', 494), ('voyage', 208), ('passenger', 104), ('yourself', 156), ('feel', 78), ('mystical', 26), ('vibration', 26), ('told', 130), ('old', 754), ('persians', 26), ('hold', 52), ('holy', 52), ('greeks', 26), ('give', 208), ('separate', 26), ('deity', 26), ('own', 286), ('brother', 52), ('jove', 26), ('surely', 26), ('meaning', 78), ('deeper', 26), ('story', 130), ('narcissus', 26), ('who', 416), ('because', 182), ('could', 650), ('grasp', 26), ('tormenting', 26), ('mild', 26), ('image', 156), ('saw', 156), ('fountain', 26), ('was', 2886), ('drowned', 26), ('we', 286), ('ourselves', 52), ('rivers', 26), ('oceans', 26), ('ungraspable', 26), ('phantom', 78), ('life', 78), ('key', 26), ('am', 156), ('habit', 26), ('begin', 52), ('grow', 52), ('hazy', 26), ('eyes', 182), ('conscious', 26), ('lungs', 26), ('mean', 130), ('inferred', 52), ('needs', 52), ('rag', 26), ('something', 312), ('besides', 156), ('passengers', 78), ('sick', 26), ('quarrelsome', 26), (\"don't\", 52), ('nights', 26), ('enjoy', 26), ('themselves', 52), ('much', 442), ('general', 26), ('thing;--no', 26), ('nor', 78), ('salt', 26), ('commodore', 52), ('captain', 52), ('cook', 52), ('abandon', 26), ('glory', 52), ('distinction', 26), ('offices', 26), ('abominate', 26), ('honourable', 26), ('respectable', 26), ('toils', 26), ('trials', 26), ('tribulations', 26), ('kind', 78), ('whatsoever', 52), ('quite', 78), ('care', 78), ('taking', 104), ('barques', 26), ('brigs', 26), ('schooners', 26), ('cook,--though', 26), ('confess', 52), ('considerable', 26), ('being', 390), ('sort', 494), ('officer', 52), ('board', 78), ('somehow', 78), ('fancied', 26), ('broiling', 26), ('fowls;--though', 26), ('broiled', 78), ('judiciously', 26), ('buttered', 26), ('judgmatically', 26), ('salted', 26), ('peppered', 26), ('speak', 130), ('respectfully', 52), ('reverentially', 26), ('fowl', 26), ('than', 390), ('idolatrous', 26), ('dotings', 26), ('egyptians', 26), ('ibis', 26), ('roasted', 26), ('river', 26), ('horse', 52), ('mummies', 26), ('creatures', 26), ('huge', 52), ('bake', 26), ('houses', 52), ('pyramids', 26), ('simple', 26), ('sailor', 156), ('mast', 78), ('plumb', 26), ('forecastle', 52), ('royal', 26), ('true', 104), ('rather', 208), ('order', 130), ('make', 260), ('jump', 52), ('spar', 52), ('grasshopper', 26), ('may', 312), ('thing', 104), ('unpleasant', 26), ('enough', 338), ('touches', 26), ('sense', 78), ('honour', 26), ('particularly', 52), ('established', 26), ('family', 26), ('van', 26), ('rensselaers', 26), ('randolphs', 26), ('hardicanutes', 26), ('putting', 52), ('tar', 52), ('pot', 26), ('been', 468), ('lording', 26), ('schoolmaster', 52), ('making', 130), ('tallest', 26), ('boys', 52), ('awe', 26), ('transition', 52), ('keen', 26), ('assure', 26), ('decoction', 26), ('seneca', 26), ('stoics', 26), ('enable', 26), ('grin', 52), ('bear', 52), ('even', 130), ('wears', 26), ('hunks', 52), ('orders', 26), ('broom', 26), ('sweep', 52), ('decks', 26), ('indignity', 26), ('amount', 26), ('weighed', 52), ('scales', 26), ('new', 286), ('testament', 26), ('think', 182), ('archangel', 26), ('gabriel', 26), ('thinks', 182), ('anything', 52), ('less', 52), ('promptly', 26), ('obey', 26), ('instance', 26), ('ai', 104), (\"n't\", 624), ('slave', 26), ('well', 208), ('however', 208), ('captains', 26), ('thump', 52), ('punch', 26), ('satisfaction', 26), ('knowing', 78), ('everybody', 26), ('else', 208), ('served', 26), ('either', 78), ('physical', 26), ('point', 52), ('view', 52), ('so', 1066), ('universal', 26), ('passed', 78), ('hands', 78), ('rub', 26), ('shoulder', 26), ('blades', 26), ('again', 286), ('always', 104), ('paying', 78), ('trouble', 26), ('whereas', 26), ('pay', 78), ('single', 52), ('penny', 78), ('heard', 208), ('contrary', 26), ('difference', 52), ('between', 234), ('paid', 26), ('act', 52), ('perhaps', 130), ('uncomfortable', 52), ('infliction', 26), ('orchard', 26), ('thieves', 26), ('entailed', 26), ('us', 104), ('paid,--what', 26), ('compare', 52), ('urbane', 26), ('activity', 26), ('receives', 26), ('really', 104), ('marvellous', 104), ('considering', 26), ('earnestly', 26), ('believe', 26), ('root', 26), ('earthly', 52), ('ills', 26), ('monied', 26), ('enter', 52), ('heaven', 104), ('ah', 26), ('cheerfully', 26), ('consign', 26), ('perdition', 26), ('finally', 26), ('wholesome', 26), ('exercise', 26), ('pure', 26), ('air', 104), ('fore', 26), ('castle', 26), ('deck', 52), ('far', 104), ('prevalent', 26), ('astern', 26), ('violate', 26), ('pythagorean', 26), ('maxim', 26), ('quarter', 52), ('gets', 26), ('atmosphere', 26), ('second', 104), ('sailors', 78), ('breathes', 26), ('commonalty', 26), ('leaders', 52), ('many', 104), ('things', 130), ('suspect', 26), ('wherefore', 26), ('after', 234), ('repeatedly', 26), ('smelt', 52), ('merchant', 26), ('whaling', 234), ('invisible', 26), ('police', 26), ('fates', 52), ('has', 104), ('constant', 26), ('surveillance', 26), ('secretly', 26), ('dogs', 26), ('influences', 26), ('unaccountable', 104), ('answer', 130), ('doubtless', 52), ('formed', 52), ('grand', 104), ('programme', 26), ('providence', 26), ('drawn', 26), ('came', 286), ('brief', 26), ('interlude', 26), ('solo', 26), ('extensive', 26), ('performances', 26), ('bill', 26), ('run', 52), ('contested', 26), ('election', 26), ('presidency', 26), ('united', 26), ('states', 26), ('bloody', 26), ('battle', 26), ('affghanistan', 26), ('exactly', 78), ('stage', 52), ('managers', 26), ('put', 208), ('shabby', 52), ('others', 52), ('magnificent', 26), ('parts', 130), ('tragedies', 26), ('short', 78), ('easy', 78), ('genteel', 26), ('comedies', 26), ('jolly', 104), ('farces', 26), ('recall', 26), ('circumstances', 52), ('springs', 26), ('motives', 52), ('cunningly', 26), ('presented', 26), ('various', 52), ('disguises', 26), ('induced', 26), ('performing', 26), ('cajoling', 26), ('delusion', 26), ('choice', 26), ('resulting', 26), ('unbiased', 26), ('freewill', 26), ('discriminating', 26), ('judgment', 26), ('overwhelming', 26), ('idea', 182), ('whale', 260), ('portentous', 78), ('mysterious', 52), ('monster', 26), ('roused', 26), ('curiosity', 52), ('wild', 130), ('seas', 156), ('rolled', 156), ('island', 78), ('bulk', 26), ('undeliverable', 26), ('nameless', 78), ('perils', 26), ('attending', 26), ('marvels', 26), ('patagonian', 26), ('sights', 26), ('sounds', 78), ('helped', 26), ('sway', 26), ('wish', 26), ('inducements', 26), ('tormented', 52), ('everlasting', 52), ('itch', 26), ('remote', 26), ('love', 26), ('forbidden', 26), ('barbarous', 26), ('coasts', 26), ('ignoring', 26), ('good', 442), ('quick', 26), ('perceive', 26), ('horror', 26), ('social', 26), ('since', 78), ('friendly', 26), ('terms', 26), ('inmates', 26), ('place', 390), ('lodges', 26), ('reason', 130), ('welcome', 26), ('flood', 26), ('gates', 26), ('wonder', 52), ('swung', 26), ('open', 104), ('conceits', 26), ('swayed', 26), ('purpose', 52), ('floated', 52), ('inmost', 26), ('endless', 26), ('processions', 26), ('mid', 26), ('hooded', 26), ('snow', 78), ('stuffed', 52), ('shirt', 104), ('carpet', 26), ('bag', 182), ('tucked', 26), ('arm', 286), ('started', 26), ('cape', 104), ('horn', 52), ('pacific', 26), ('quitting', 26), ('manhatto', 26), ('duly', 26), ('arrived', 52), ('bedford', 104), ('saturday', 78), ('night', 624), ('december', 26), ('disappointed', 26), ('learning', 26), ('packet', 26), ('nantucket', 182), ('had', 858), ('already', 26), ('sailed', 26), ('offer', 52), ('till', 156), ('following', 52), ('monday', 26), ('young', 130), ('candidates', 26), ('pains', 26), ('penalties', 26), ('stop', 208), ('embark', 52), ('related', 26), ('doing', 26), ('made', 338), ('craft', 130), ('fine', 104), ('boisterous', 26), ('everything', 26), ('connected', 26), ('famous', 26), ('amazingly', 26), ('pleased', 52), ('late', 182), ('gradually', 26), ('monopolising', 26), ('business', 130), ('matter', 78), ('behind', 26), ('original', 52), ('tyre', 26), ('carthage;--the', 26), ('dead', 130), ('stranded', 52), ('aboriginal', 26), ('whalemen', 26), ('red', 78), ('sally', 26), ('canoes', 26), ('chase', 26), ('leviathan', 52), ('too', 364), ('adventurous', 26), ('sloop', 26), ('forth', 26), ('partly', 78), ('laden', 26), ('imported', 26), ('cobblestones', 26), ('throw', 26), ('whales', 52), ('discover', 26), ('risk', 26), ('harpoon', 135), ('bowsprit', 26), ('day', 156), ('another', 130), ('ere', 78), ('destined', 26), ('port', 26), ('became', 78), ('concernment', 26), ('eat', 26), ('meanwhile', 78), ('dubious', 26), ('nay', 52), ('dark', 208), ('dismal', 52), ('bitingly', 26), ('cold', 182), ('cheerless', 26), ('anxious', 26), ('grapnels', 26), ('sounded', 26), ('pocket', 78), ('only', 364), ('brought', 26), ('pieces', 26), ('silver,--so', 26), ('wherever', 52), ('said', 494), ('stood', 260), ('middle', 130), ('dreary', 52), ('shouldering', 26), ('comparing', 26), ('gloom', 26), ('darkness', 78), ('wisdom', 26), ('conclude', 26), ('lodge', 26), ('dear', 26), ('sure', 130), ('inquire', 26), ('price', 26), ('halting', 26), ('steps', 26), ('paced', 26), ('sign', 156), ('crossed', 52), ('harpoons\"--but', 26), ('looked', 156), ('expensive', 52), ('further', 104), ('bright', 52), ('windows', 52), ('fish', 78), ('inn', 78), ('fervent', 26), ('rays', 26), ('seemed', 416), ('melted', 26), ('packed', 52), ('ice', 104), ('house', 286), ('everywhere', 26), ('congealed', 26), ('frost', 104), ('lay', 234), ('inches', 52), ('thick', 52), ('hard', 156), ('asphaltic', 26), ('pavement,--rather', 26), ('weary', 26), ('struck', 26), ('foot', 104), ('flinty', 26), ('projections', 26), ('remorseless', 26), ('service', 26), ('soles', 26), ('boots', 260), ('miserable', 26), ('plight', 26), ('moment', 156), ('watch', 78), ('broad', 78), ('glare', 26), ('hear', 52), ('tinkling', 52), ('glasses', 52), ('last', 494), ('away', 286), ('door', 364), ('patched', 26), ('stopping', 26), ('went', 208), ('instinct', 26), ('followed', 26), ('took', 234), ('cheapest', 26), ('cheeriest', 26), ('inns', 26), ('blocks', 26), ('blackness', 52), ('candle', 130), ('moving', 52), ('tomb', 26), ('hour', 52), ('proved', 52), ('deserted', 26), ('presently', 130), ('smoky', 26), ('light', 416), ('proceeding', 26), ('low', 130), ('wide', 104), ('building', 26), ('invitingly', 26), ('careless', 26), ('meant', 52), ('uses', 26), ('public', 52), ('entering', 78), ('stumble', 26), ('ash', 26), ('box', 52), ('porch', 26), ('ha', 78), ('flying', 52), ('particles', 26), ('choked', 26), ('ashes', 78), ('destroyed', 26), ('gomorrah', 26), ('harpoons', 52), ('fish?\"--this', 26), ('trap', 52), ('picked', 26), ('hearing', 26), ('loud', 52), ('voice', 52), ('pushed', 26), ('opened', 78), ('interior', 26), ('black', 208), ('parliament', 26), ('sitting', 52), ('tophet', 26), ('hundred', 26), ('faces', 26), ('turned', 130), ('rows', 26), ('peer', 26), ('beyond', 52), ('angel', 26), ('doom', 26), ('beating', 26), ('book', 26), ('pulpit', 26), ('negro', 52), ('church', 26), ('preacher', 26), ('text', 26), ('weeping', 26), ('wailing', 26), ('teeth', 130), ('gnashing', 26), ('muttered', 26), ('backing', 26), ('wretched', 26), ('entertainment', 26), (\"'\", 312), ('dim', 130), ('docks', 26), ('forlorn', 26), ('creaking', 52), ('swinging', 52), ('white', 104), ('painting', 52), ('faintly', 26), ('representing', 52), ('tall', 104), ('jet', 26), ('misty', 26), ('spray', 26), ('words', 26), ('underneath--\"the', 26), ('spouter', 78), ('inn:--peter', 26), ('coffin?--spouter?--rather', 26), ('ominous', 26), ('connexion', 52), ('i.', 104), ('common', 26), ('name', 78), ('suppose', 78), ('peter', 52), ('emigrant', 26), ('quiet', 78), ('dilapidated', 26), ('wooden', 104), ('itself', 52), ('might', 286), ('carted', 52), ('ruins', 26), ('burnt', 52), ('district', 26), ('poverty', 26), ('stricken', 26), ('creak', 26), ('spot', 52), ('cheap', 26), ('lodgings', 26), ('best', 78), ('pea', 26), ('coffee', 26), ('queer', 52), ('gable', 52), ('ended', 52), ('palsied', 26), ('sharp', 52), ('bleak', 26), ('corner', 156), ('tempestuous', 78), ('wind', 52), ('euroclydon', 130), ('kept', 130), ('worse', 104), ('howling', 52), ('paul', 26), ('tossed', 26), ('nevertheless', 52), ('mighty', 26), ('pleasant', 26), ('zephyr', 26), ('doors', 26), ('hob', 26), ('toasting', 26), ('bed', 1066), ('judging', 26), ('called', 52), ('says', 78), ('writer', 26), ('whose', 26), ('works', 26), ('possess', 26), ('copy', 26), ('extant--\"it', 26), ('maketh', 26), ('thou', 78), ('lookest', 26), ('glass', 130), ('window', 208), ('outside', 52), ('observest', 26), ('sashless', 26), ('both', 78), ('sides', 26), ('wight', 26), ('death', 104), ('glazier', 26), ('passage', 52), ('occurred', 78), ('letter', 26), ('reasonest', 26), ('body', 52), ('mine', 104), ('pity', 26), ('chinks', 26), ('crannies', 26), ('thrust', 26), ('lint', 26), ('improvements', 26), ('universe', 26), ('finished', 26), ('copestone', 26), ('chips', 26), ('million', 26), ('lazarus', 104), ('chattering', 26), ('curbstone', 52), ('pillow', 26), ('shaking', 26), ('tatters', 26), ('shiverings', 26), ('plug', 26), ('ears', 26), ('rags', 26), ('corn', 52), ('cob', 26), ('keep', 104), ('dives', 78), ('silken', 26), ('wrapper--(he', 26), ('redder', 26), ('afterwards', 130), ('pooh', 52), ('frosty', 26), ('orion', 26), ('glitters', 26), ('northern', 52), ('lights', 52), ('talk', 26), ('oriental', 26), ('summer', 52), ('climes', 26), ('conservatories', 26), ('privilege', 26), ('coals', 26), ('warm', 26), ('holding', 78), ('sumatra', 26), ('lengthwise', 52), ('along', 104), ('line', 26), ('equator', 26), ('yea', 26), ('ye', 260), ('gods', 52), ('fiery', 26), ('pit', 26), ('lie', 52), ('wonderful', 26), ('iceberg', 26), ('moored', 26), ('moluccas', 26), ('lives', 26), ('czar', 26), ('palace', 26), ('frozen', 78), ('president', 26), ('temperance', 26), ('society', 26), ('drinks', 26), ('tepid', 26), ('tears', 26), ('orphans', 26), ('blubbering', 26), ('plenty', 52), ('scrape', 26), ('our', 182), ('frosted', 26), ('found', 182), ('straggling', 26), ('entry', 156), ('fashioned', 26), ('wainscots', 26), ('reminding', 26), ('condemned', 26), ('hung', 104), ('large', 130), ('oilpainting', 26), ('thoroughly', 26), ('besmoked', 26), ('defaced', 26), ('unequal', 26), ('crosslights', 26), ('viewed', 26), ('diligent', 26), ('study', 52), ('series', 52), ('systematic', 26), ('visits', 26), ('careful', 26), ('inquiry', 26), ('neighbors', 26), ('arrive', 52), ('understanding', 26), ('masses', 26), ('shades', 26), ('shadows', 52), ('ambitious', 26), ('england', 26), ('hags', 26), ('endeavored', 26), ('delineate', 26), ('chaos', 26), ('bewitched', 26), ('dint', 52), ('earnest', 26), ('contemplation', 26), ('oft', 26), ('repeated', 26), ('ponderings', 26), ('throwing', 104), ('back', 260), ('conclusion', 52), ('altogether', 78), ('unwarranted', 26), ('puzzled', 26), ('confounded', 52), ('limber', 52), ('mass', 26), ('hovering', 26), ('centre', 104), ('three', 130), ('perpendicular', 26), ('lines', 26), ('floating', 26), ('yeast', 26), ('boggy', 26), ('soggy', 26), ('squitchy', 26), ('truly', 52), ('drive', 52), ('nervous', 26), ('distracted', 26), ('indefinite', 26), ('half', 234), ('attained', 26), ('unimaginable', 52), ('sublimity', 26), ('fairly', 26), ('froze', 26), ('oath', 26), ('anon', 26), ('alas', 26), ('deceptive', 26), ('dart', 26), ('through.--it', 26), ('midnight', 52), ('gale.--it', 26), ('unnatural', 52), ('combat', 26), ('four', 156), ('primal', 26), ('elements.--it', 26), ('blasted', 26), ('heath.--it', 26), ('hyperborean', 26), ('winter', 26), ('scene.--it', 26), ('breaking', 52), ('icebound', 26), ('fancies', 26), ('yielded', 26), ('midst', 26), ('rest', 104), ('plain', 78), ('faint', 26), ('resemblance', 26), ('gigantic', 26), ('fact', 104), ('design', 52), ('final', 26), ('theory', 26), ('based', 26), ('aggregated', 26), ('opinions', 26), ('aged', 26), ('persons', 26), ('whom', 78), ('conversed', 26), ('subject', 26), ('represents', 26), ('horner', 26), ('hurricane', 26), ('foundered', 26), ('weltering', 26), ('dismantled', 26), ('masts', 26), ('alone', 26), ('visible', 26), ('exasperated', 26), ('purposing', 26), ('spring', 26), ('clean', 78), ('enormous', 26), ('impaling', 26), ('opposite', 52), ('wall', 156), ('heathenish', 26), ('array', 26), ('monstrous', 52), ('clubs', 26), ('spears', 26), ('thickly', 26), ('glittering', 26), ('resembling', 26), ('ivory', 26), ('saws', 26), ('tufted', 26), ('knots', 52), ('human', 78), ('hair', 104), ('sickle', 26), ('shaped', 26), ('vast', 52), ('handle', 52), ('sweeping', 26), ('segment', 26), ('mown', 26), ('grass', 26), ('armed', 26), ('mower', 26), ('shuddered', 26), ('gazed', 26), ('wondered', 52), ('cannibal', 208), ('savage', 156), ('harvesting', 26), ('hacking', 26), ('horrifying', 26), ('implement', 26), ('mixed', 52), ('rusty', 26), ('lances', 26), ('broken', 104), ('deformed', 52), ('storied', 26), ('weapons', 26), ('lance', 26), ('wildly', 26), ('elbowed', 26), ('fifty', 26), ('nathan', 26), ('swain', 26), ('kill', 104), ('fifteen', 26), ('sunrise', 26), ('sunset', 26), ('corkscrew', 26), ('flung', 52), ('javan', 26), ('slain', 26), ('blanco', 26), ('iron', 52), ('entered', 78), ('tail', 26), ('restless', 26), ('needle', 26), ('sojourning', 26), ('travelled', 26), ('full', 182), ('forty', 26), ('imbedded', 26), ('hump', 26), ('crossing', 26), ('dusky', 26), ('through', 104), ('yon', 26), ('arched', 52), ('cut', 52), ('times', 52), ('central', 26), ('chimney', 104), ('fireplaces', 26), ('room', 667), ('duskier', 26), ('ponderous', 26), ('beams', 26), ('above', 26), ('wrinkled', 78), ('planks', 26), ('beneath', 52), ('fancy', 104), ('trod', 26), ('cockpits', 26), ('anchored', 26), ('ark', 26), ('rocked', 26), ('furiously', 26), ('shelf', 78), ('table', 156), ('covered', 52), ('cracked', 26), ('cases', 26), ('filled', 26), ('dusty', 26), ('rarities', 26), ('gathered', 52), ('remotest', 26), ('nooks', 26), ('projecting', 26), ('angle', 26), ('stands', 52), ('den', 26), ('bar', 104), ('rude', 52), ('attempt', 26), ('bone', 52), ('jaw', 26), ('coach', 26), ('shelves', 26), ('ranged', 26), ('decanters', 26), ('bottles', 26), ('flasks', 26), ('jaws', 26), ('swift', 26), ('destruction', 26), ('cursed', 26), ('jonah', 78), ('indeed', 156), ('bustles', 26), ('withered', 26), ('dearly', 26), ('sells', 26), ('deliriums', 26), ('abominable', 52), ('tumblers', 26), ('pours', 26), ('poison', 26), ('cylinders', 26), ('villanous', 26), ('goggling', 26), ('deceitfully', 26), ('tapered', 26), ('downwards', 26), ('cheating', 26), ('bottom', 26), ('parallel', 26), ('meridians', 26), ('rudely', 26), ('pecked', 26), ('surround', 26), ('footpads', 26), ('goblets', 26), ('fill', 26), ('mark', 26), ('charge', 26), ('measure', 52), ('gulp', 26), ('shilling', 26), ('number', 26), ('seamen', 52), ('examining', 26), ('divers', 26), ('specimens', 26), ('skrimshander', 52), ('sought', 52), ('landlord', 702), ('telling', 130), ('desired', 26), ('accommodated', 26), ('received', 26), ('unoccupied', 26), ('avast', 26), ('added', 52), ('tapping', 26), ('forehead', 52), ('haint', 26), ('objections', 52), ('sharing', 26), ('harpooneer', 884), ('blanket', 78), (\"s'pose\", 26), (\"goin'\", 78), ('whalin', 26), (\"'d\", 52), ('used', 52), ('liked', 26), ('depend', 52), ('decidedly', 26), ('objectionable', 26), ('wander', 26), ('bitter', 78), ('decent', 52), ('seat', 26), ('supper?--you', 26), ('want', 52), ('supper', 78), (\"supper'll\", 26), ('ready', 52), ('directly', 26), ('sat', 78), ('settle', 78), ('carved', 26), ('bench', 156), ('end', 26), ('ruminating', 26), ('adorning', 26), ('jack', 26), ('knife', 26), ('stooping', 26), ('diligently', 26), ('working', 52), ('space', 52), ('trying', 104), ('headway', 26), ('five', 26), ('summoned', 26), ('meal', 26), ('adjoining', 26), ('iceland', 26), ('fire', 208), ('afford', 26), ('tallow', 26), ('candles', 26), ('winding', 26), ('sheet', 26), ('fain', 26), ('button', 26), ('monkey', 62), ('jackets', 26), ('lips', 52), ('cups', 26), ('scalding', 26), ('tea', 26), ('fingers', 52), ('fare', 52), ('substantial', 26), ('meat', 26), ('potatoes', 26), ('dumplings', 104), ('heavens', 104), ('fellow', 52), ('addressed', 26), ('direful', 26), ('manner', 104), (\"'ll\", 260), ('nightmare', 52), ('sartainty', 26), ('whispered', 26), ('nt', 52), ('oh', 26), ('diabolically', 26), ('funny', 26), ('complexioned', 52), ('chap', 78), ('eats', 52), ('steaks', 26), ('likes', 26), (\"'em\", 52), ('rare', 26), ('devil', 104), ('afore', 52), ('help', 78), ('began', 234), ('suspicious', 26), ('rate', 26), ('together', 104), ('undress', 26), ('company', 26), ('resolved', 52), ('spend', 78), ('evening', 26), ('looker', 26), ('rioting', 26), ('noise', 52), ('starting', 26), ('cried', 26), ('grampus', 26), ('crew', 26), ('seed', 26), ('reported', 26), ('offing', 52), ('morning', 182), ('hurrah', 26), ('latest', 26), ('news', 26), ('feegees', 26), ('tramping', 26), ('mariners', 26), ('enveloped', 26), ('shaggy', 52), ('coats', 26), ('muffled', 26), ('woollen', 52), ('comforters', 26), ('bedarned', 26), ('ragged', 26), ('beards', 26), ('stiff', 52), ('icicles', 26), ('eruption', 26), ('bears', 26), ('labrador', 52), ('landed', 78), ('boat', 26), ('wake', 52), ('officiating', 26), ('poured', 26), ('brimmers', 26), ('complained', 26), ('bad', 52), ('pitch', 26), ('potion', 26), ('gin', 26), ('molasses', 26), ('swore', 26), ('sovereign', 26), ('cure', 26), ('colds', 26), ('catarrhs', 26), ('standing', 78), ('caught', 26), ('coast', 26), ('weather', 26), ('liquor', 26), ('mounted', 52), ('generally', 52), ('arrantest', 26), ('topers', 26), ('newly', 26), ('capering', 26), ('obstreperously', 26), ('observed', 26), ('held', 78), ('somewhat', 78), ('aloof', 26), ('desirous', 26), ('spoil', 26), ('hilarity', 26), ('shipmates', 52), ('sober', 78), ('face', 234), ('whole', 78), ('refrained', 26), ('interested', 26), ('ordained', 26), ('become', 52), ('shipmate', 26), ('sleeping', 182), ('partner', 26), ('narrative', 26), ('concerned', 26), ('venture', 26), ('description', 26), ('six', 26), ('height', 52), ('shoulders', 26), ('chest', 156), ('coffer', 26), ('dam', 78), ('seldom', 26), ('seen', 104), ('brawn', 26), ('deeply', 26), ('brown', 78), ('dazzling', 26), ('contrast', 26), ('while', 156), ('reminiscences', 26), ('seem', 52), ('joy', 26), ('announced', 26), ('southerner', 26), ('stature', 26), ('mountaineers', 26), ('alleghanian', 26), ('ridge', 26), ('virginia', 26), ('revelry', 26), ('companions', 26), ('slipped', 26), ('unobserved', 26), ('comrade', 26), ('minutes', 26), ('missed', 26), ('seems', 26), ('favourite', 26), ('raised', 26), ('cry', 26), ('bulkington', 78), ('darted', 26), ('pursuit', 26), ('nine', 26), (\"o'clock\", 78), ('seeming', 26), ('supernaturally', 26), ('orgies', 26), ('congratulate', 26), ('plan', 52), ('entrance', 26), ('prefers', 26), ('deal', 104), ('know', 104), ('private', 52), ('comes', 26), ('unknown', 52), ('stranger', 156), ('indefinitely', 26), ('multiply', 26), ('anybody', 26), ('bachelor', 26), ('kings', 26), ('ashore', 26), ('apartment', 52), ('hammock', 52), ('cover', 26), ('skin', 104), ('pondered', 26), ('abominated', 26), ('fair', 26), ('presume', 26), ('linen', 52), ('case', 26), ('tidiest', 26), ('certainly', 26), ('none', 78), ('finest', 26), ('twitch', 26), ('getting', 130), ('ought', 26), ('home', 52), ('bedwards', 26), ('tumble', 26), ('vile', 26), ('hole', 52), ('coming', 78), (\"'ve\", 78), ('changed', 26), ('harpooneer.--i', 26), ('sha', 26), (\"'m\", 26), ('sorry', 26), ('ca', 104), ('spare', 26), ('tablecloth', 26), ('mattress', 52), ('plaguy', 26), ('rough', 26), ('here\"--feeling', 26), ('notches', 26), ('wait', 78), ('got', 182), ('carpenter', 26), ('plane', 78), ('snug', 26), ('saying', 78), ('procured', 26), ('silk', 26), ('handkerchief', 26), ('dusting', 26), ('vigorously', 26), ('planing', 52), ('grinning', 78), ('ape', 26), ('shavings', 104), ('flew', 26), ('bump', 26), ('indestructible', 26), ('knot', 52), ('near', 52), ('spraining', 26), ('wrist', 26), ('sake', 52), ('quit', 26), ('soft', 26), ('suit', 26), ('eider', 26), ('plank', 26), ('gathering', 26), ('stove', 26), ('mended', 26), ('chair', 52), ('narrow', 52), ('higher', 26), ('planed', 26), ('yoking', 26), ('placed', 78), ('clear', 26), ('leaving', 52), ('interval', 52), ('draught', 26), ('sill', 26), ('current', 26), ('rickety', 26), ('met', 52), ('small', 130), ('whirlwinds', 26), ('immediate', 26), ('vicinity', 26), ('fetch', 26), ('steal', 26), ('march', 26), ('bolt', 26), ('inside', 52), ('wakened', 26), ('violent', 52), ('knockings', 26), ('thoughts', 26), ('dismissed', 26), ('next', 130), ('popped', 26), ('knock', 26), ('seeing', 130), ('possible', 156), ('chance', 26), ('spending', 26), ('sufferable', 26), ('person', 26), ('cherishing', 26), ('unwarrantable', 26), ('prejudices', 26), ('awhile', 26), ('dropping', 26), ('bedfellows', 26), ('boarders', 26), ('ones', 52), ('twos', 26), ('threes', 26), ('twelve', 26), ('chuckled', 26), ('lean', 26), ('chuckle', 26), ('mightily', 26), ('tickled', 26), ('comprehension', 52), ('answered', 26), ('early', 26), ('bird', 52), ('airley', 52), ('rise', 26), ('catches', 26), ('worm', 26), ('peddling', 104), ('airth', 52), ('keeps', 26), ('sell', 130), ('head?--what', 26), ('bamboozingly', 26), ('towering', 26), ('rage', 26), ('pretend', 26), ('actually', 26), ('engaged', 52), ('blessed', 26), ('sunday', 104), ('market', 26), ('overstocked', 26), ('shouted', 78), ('calmly', 26), ('spinning', 26), ('yarn', 26), (\"i'm\", 26), ('stick', 26), ('whittling', 52), ('toothpick', 26), ('rayther', 26), ('guess', 52), ('done', 52), ('hears', 26), ('slanderin', 26), ('break', 52), ('passion', 26), ('farrago', 26), ('broke', 52), (\"a'ready\", 26), ('i--\"broke', 26), ('sartain', 26), ('cool', 26), ('mt.', 26), ('hecla', 26), ('storm--\"landlord', 26), ('understand', 52), ('delay', 26), ('belongs', 26), ('certain', 52), ('persist', 26), ('mystifying', 26), ('exasperating', 26), ('stories', 26), ('tending', 26), ('beget', 26), ('feeling', 156), ('bedfellow', 78), ('intimate', 26), ('confidential', 26), ('highest', 26), ('demand', 52), ('shall', 26), ('respects', 26), ('safe', 26), ('unsay', 26), ('selling', 52), ('evidence', 26), ('stark', 26), ('mad', 26), ('madman', 26), ('sir', 52), ('induce', 26), ('knowingly', 26), ('thereby', 26), ('render', 26), ('liable', 26), ('criminal', 26), ('prosecution', 26), ('fetching', 26), ('breath', 26), ('purty', 26), ('sarmon', 26), ('rips', 26), ('tellin', 26), ('bought', 26), ('lot', 26), ('balmed', 26), ('zealand', 78), ('curios', 26), ('sold', 26), ('cause', 26), ('morrow', 26), ('sellin', 26), ('folks', 26), ('churches', 26), ('wanted', 26), ('stopped', 26), ('strung', 26), ('string', 52), ('inions', 26), ('cleared', 26), ('otherwise', 26), ('mystery', 52), ('showed', 52), ('fooling', 26), ('stayed', 26), ('idolators', 26), ('dangerous', 52), ('pays', 26), (\"reg'lar\", 26), ('rejoinder', 26), ('dreadful', 26), ('turning', 26), ('flukes', 52), ('nice', 26), ('sal', 78), ('slept', 52), ('spliced', 26), ('kick', 26), ('almighty', 26), ('big', 52), ('sam', 52), ('johnny', 26), ('dreaming', 26), ('sprawling', 26), ('pitched', 26), ('floor', 156), ('arter', 26), ('glim', 26), ('jiffy', 26), ('lighted', 52), ('offering', 26), ('irresolute', 26), ('clock', 26), ('exclaimed', 26), ('vum', 26), ('wo', 52), ('anchor', 26), ('somewhere', 26), (\"won't\", 26), ('considered', 26), ('stairs', 52), ('ushered', 26), ('clam', 26), ('furnished', 26), ('prodigious', 26), ('harpooneers', 26), ('abreast', 26), ('placing', 52), ('double', 52), ('duty', 26), ('wash', 78), ('comfortable', 26), ('eyeing', 52), ('disappeared', 26), ('folding', 26), ('counterpane', 104), ('stooped', 26), ('elegant', 26), ('scrutiny', 26), ('tolerably', 26), ('glanced', 26), ('bedstead', 26), ('furniture', 26), ('belonging', 52), ('walls', 26), ('papered', 52), ('fireboard', 26), ('striking', 26), ('properly', 26), ('lashed', 26), ('thrown', 78), ('also', 26), ('seaman', 26), ('containing', 26), ('wardrobe', 26), ('doubt', 26), ('lieu', 26), ('likewise', 26), ('parcel', 52), ('outlandish', 26), ('hooks', 26), ('close', 26), ('felt', 130), ('tried', 52), ('satisfactory', 52), ('concerning', 52), ('mat', 104), ('ornamented', 26), ('edges', 52), ('tags', 26), ('stained', 26), ('porcupine', 26), ('quills', 26), ('moccasin', 26), ('slit', 26), ('ponchos', 26), ('parade', 26), ('christian', 104), ('guise', 26), ('hamper', 26), ('uncommonly', 26), ('wearing', 26), ('rainy', 26), ('stuck', 52), ('tore', 26), ('hurry', 26), ('gave', 52), ('kink', 26), ('neck', 52), ('commenced', 104), ('thinking', 104), ('jacket', 35), ('sleeves', 52), ('beginning', 26), ('undressed', 52), ('remembering', 52), ('ado', 26), ('jumped', 52), ('pantaloons', 52), ('blowing', 52), ('tumbled', 26), ('commended', 26), ('cobs', 26), ('crockery', 26), ('slid', 26), ('doze', 52), ('pretty', 52), ('nod', 26), ('heavy', 52), ('footfall', 26), ('glimmer', 26), ('lord', 26), ('save', 52), ('infernal', 52), ('peddler', 52), ('perfectly', 26), ('word', 26), ('spoken', 26), ('identical', 26), ('knotted', 26), ('cords', 26), ('spoke', 26), ('eagerness', 26), ('averted', 26), ('employed', 26), ('unlacing', 26), ('accomplished', 26), ('purplish', 78), ('yellow', 52), ('colour', 52), ('blackish', 26), ('squares', 156), ('terrible', 26), ('fight', 26), ('dreadfully', 52), ('surgeon', 26), ('chanced', 26), ('turn', 78), ('plainly', 26), ('sticking', 52), ('plasters', 26), ('cheeks', 52), ('stains', 26), ('inkling', 26), ('truth', 52), ('remembered', 52), ('whaleman', 52), ('cannibals', 26), ('tattooed', 52), ('concluded', 52), ('course', 26), ('voyages', 26), ('similar', 104), ('adventure', 26), ('honest', 26), ('unearthly', 26), ('complexion', 26), ('lying', 52), ('completely', 78), ('independent', 26), ('tattooing', 26), ('tropical', 26), ('tanning', 52), ('hot', 52), ('sun', 130), ('produced', 52), ('extraordinary', 26), ('effects', 26), ('ideas', 26), ('passing', 26), ('lightning', 26), ('noticed', 26), ('difficulty', 26), ('fumbling', 26), ('pulled', 26), ('tomahawk', 260), ('seal', 26), ('wallet', 26), ('ghastly', 26), ('crammed', 26), ('hat', 156), ('beaver', 52), ('singing', 52), ('fresh', 26), ('surprise', 26), ('least', 26), ('scalp', 26), ('twisted', 26), ('bald', 26), ('mildewed', 26), ('skull', 26), ('bolted', 52), ('quicker', 26), ('dinner', 26), ('slipping', 26), ('coward', 26), ('purple', 26), ('rascal', 26), ('ignorance', 26), ('parent', 26), ('fear', 78), ('nonplussed', 26), ('afraid', 104), ('game', 26), ('address', 26), ('inexplicable', 26), ('continued', 26), ('undressing', 26), ('arms', 52), ('live', 26), ('checkered', 26), ('thirty', 26), ('war', 26), ('escaped', 26), ('marked', 26), ('frogs', 26), ('running', 52), ('trunks', 26), ('palms', 26), ('shipped', 26), ('aboard', 26), ('quaked', 26), ('brothers', 26), ('shuddering', 26), ('fascinated', 26), ('attention', 26), ('convinced', 26), ('heathen', 26), ('grego', 78), ('wrapall', 26), ('dreadnaught', 26), ('previously', 26), ('fumbled', 26), ('pockets', 26), ('length', 104), ('curious', 52), ('hunch', 52), ('congo', 52), ('baby', 78), ('embalmed', 26), ('manikin', 26), ('real', 26), ('preserved', 26), ('glistened', 26), ('polished', 26), ('ebony', 26), ('idol', 104), ('empty', 26), ('removing', 26), ('sets', 26), ('backed', 26), ('tenpin', 26), ('andirons', 26), ('jambs', 26), ('bricks', 26), ('sooty', 26), ('appropriate', 26), ('shrine', 26), ('chapel', 26), ('screwed', 26), ('hidden', 26), ('ill', 52), ('ease', 26), ('meantime', 26), ('follow', 26), ('takes', 52), ('handful', 26), ('places', 26), ('carefully', 26), ('laying', 26), ('biscuit', 52), ('top', 52), ('applying', 26), ('flame', 26), ('lamp', 52), ('kindled', 26), ('sacrificial', 26), ('blaze', 26), ('hasty', 26), ('snatches', 26), ('hastier', 26), ('withdrawals', 26), ('whereby', 26), ('scorching', 26), ('badly', 26), ('succeeded', 52), ('drawing', 26), ('heat', 26), ('polite', 52), ('dry', 26), ('moved', 26), ('antics', 26), ('accompanied', 26), ('guttural', 52), ('noises', 26), ('devotee', 26), ('praying', 26), ('sing', 26), ('song', 26), ('pagan', 52), ('psalmody', 26), ('during', 26), ('twitched', 26), ('extinguishing', 26), ('unceremoniously', 26), ('bagged', 26), ('carelessly', 26), ('sportsman', 26), ('bagging', 26), ('woodcock', 26), ('proceedings', 26), ('increased', 26), ('uncomfortableness', 26), ('exhibiting', 26), ('symptoms', 26), ('concluding', 26), ('operations', 26), ('jumping', 26), ('spell', 52), ('spent', 26), ('deliberating', 26), ('fatal', 26), ('examined', 26), ('instant', 26), ('puffed', 26), ('clouds', 26), ('tobacco', 52), ('extinguished', 26), ('sprang', 26), ('sang', 26), ('giving', 26), ('sudden', 26), ('grunt', 52), ('astonishment', 26), ('stammering', 26), ('conjured', 26), ('whoever', 26), ('whatever', 52), ('responses', 26), ('satisfied', 26), ('comprehended', 26), ('e', 130), ('debel', 26), ('you?\"--he', 26), ('said--\"you', 26), ('flourishing', 26), ('god', 26), ('angels', 26), ('ee', 52), ('growled', 26), ('horrid', 52), ('flourishings', 26), ('scattered', 26), ('thank', 26), ('leaping', 26), ('ran', 26), ('queequeg', 390), ('harm', 26), (\"know'd\", 26), (\"it;--didn't\", 26), ('peddlin', 26), ('town?--but', 26), ('sabbee', 104), ('sleepe', 26), ('plenty\"--grunted', 26), ('puffing', 26), ('pipe', 52), ('gettee', 26), ('motioning', 26), ('clothes', 26), ('civil', 26), ('charitable', 26), ('tattooings', 26), ('comely', 26), ('fuss', 26), ('drunken', 26), ('stash', 26), ('smoking', 52), ('insured', 26), ('complied', 52), ('politely', 26), ('motioned', 26), ('rolling', 26), ('touch', 26), ('leg', 26), ('waking', 104), ('daylight', 26), ('loving', 26), ('affectionate', 26), ('wife', 26), ('patchwork', 52), ('odd', 26), ('parti', 26), ('coloured', 26), ('triangles', 26), ('interminable', 26), ('cretan', 26), ('labyrinth', 26), ('figure', 52), ('precise', 26), ('shade', 52), ('owing', 26), ('keeping', 26), ('unmethodically', 26), ('irregularly', 26), ('strip', 26), ('quilt', 52), ('awoke', 26), ('hardly', 26), ('blended', 26), ('hues', 26), ('weight', 26), ('pressure', 26), ('hugging', 52), ('sensations', 52), ('explain', 52), ('child', 26), ('remember', 52), ('circumstance', 52), ('befell', 26), ('reality', 52), ('dream', 26), ('entirely', 26), ('cutting', 26), ('caper', 26), ('crawl', 26), ('stepmother', 52), ('whipping', 26), ('sending', 26), ('supperless,--my', 26), ('mother', 26), ('dragged', 26), ('21st', 26), ('longest', 26), ('year', 26), ('hemisphere', 26), ('third', 26), ('slowly', 78), ('sigh', 26), ('sheets', 26), ('dismally', 26), ('calculating', 26), ('sixteen', 52), ('entire', 26), ('elapse', 26), ('hope', 26), ('resurrection', 26), ('ached', 26), ('shining', 26), ('rattling', 26), ('coaches', 26), ('sound', 26), ('gay', 26), ('voices', 26), ('dressed', 26), ('softly', 26), ('stockinged', 26), ('threw', 26), ('beseeching', 26), ('favour', 26), ('slippering', 26), ('misbehaviour', 26), ('condemning', 26), ('abed', 52), ('unendurable', 26), ('she', 26), ('conscientious', 26), ('stepmothers', 26), ('several', 26), ('awake', 26), ('greatest', 26), ('subsequent', 26), ('misfortunes', 26), ('fallen', 26), ('troubled', 52), ('steeped', 26), ('dreams', 26), ('lit', 26), ('wrapped', 42), ('outer', 26), ('instantly', 26), ('shock', 26), ('frame', 26), ('supernatural', 52), ('form', 26), ('belonged', 26), ('closely', 26), ('ages', 52), ('piled', 26), ('awful', 52), ('fears', 26), ('daring', 26), ('drag', 26), ('stir', 26), ('inch', 26), ('consciousness', 52), ('glided', 26), ('shudderingly', 26), ('weeks', 26), ('months', 26), ('lost', 26), ('confounding', 26), ('attempts', 26), ('often', 26), ('puzzle', 26), ('strangeness', 26), ('experienced', 26), ('past', 26), ('events', 26), ('soberly', 26), ('recurred', 26), ('alive', 26), ('comical', 26), ('predicament', 26), ('move', 26), ('unlock', 26), ('bridegroom', 26), ('clasp', 26), ('hugged', 26), ('tightly', 26), ('naught', 26), ('twain', 26), ('strove', 26), ('rouse', 26), ('him--\"queequeg!\"--but', 26), ('snore', 26), ('collar', 26), ('slight', 26), ('scratch', 26), ('aside', 26), ('hatchet', 26), ('faced', 26), ('pickle', 26), ('queequeg!--in', 26), ('goodness', 26), ('wriggling', 26), ('incessant', 26), ('expostulations', 26), ('unbecomingness', 26), ('male', 26), ('matrimonial', 26), ('style', 26), ('extracting', 26), ('drew', 26), ('shook', 26), ('newfoundland', 26), ('dog', 26), ('pike', 26), ('staff', 26), ('rubbing', 26), ('dawning', 26), ('serious', 26), ('misgivings', 26), ('bent', 26), ('narrowly', 26), ('observing', 52), ('creature', 52), ('touching', 26), ('character', 26), ('reconciled', 26), ('signs', 26), ('dress', 52), ('leave', 26), ('civilized', 78), ('overture', 26), ('savages', 26), ('innate', 26), ('delicacy', 26), ('essentially', 26), ('compliment', 26), ('treated', 26), ('civility', 26), ('consideration', 26), ('guilty', 26), ('rudeness', 26), ('staring', 26), ('watching', 52), ('toilette', 26), ('motions', 26), ('breeding', 26), ('ways', 26), ('worth', 26), ('unusual', 26), ('regarding', 26), ('dressing', 26), ('donning', 26), ('minus', 26), ('trowsers', 26), ('hunted', 26), ('movement', 26), ('crush', 26), ('sundry', 26), ('gaspings', 26), ('strainings', 26), ('work', 26), ('booting', 26), ('law', 26), ('propriety', 26), ('required', 26), ('neither', 26), ('caterpillar', 26), ('butterfly', 26), ('show', 26), ('outlandishness', 26), ('strangest', 26), ('manners', 26), ('education', 26), ('completed', 26), ('undergraduate', 26), ('probably', 52), ('dreamt', 26), ('emerged', 26), ('dented', 26), ('crushed', 26), ('limping', 26), ('accustomed', 26), ('pair', 26), ('cowhide', 26), ('pinched', 26), ('curtains', 26), ('commanded', 26), ('indecorous', 26), ('staving', 26), ('begged', 26), ('accelerate', 26), ('toilet', 52), ('proceeded', 26), ('amazement', 26), ('contented', 26), ('restricting', 26), ('ablutions', 26), ('donned', 26), ('waistcoat', 26), ('piece', 26), ('soap', 26), ('dipped', 26), ('lathering', 26), ('razor', 26), ('lo', 26), ('behold', 26), ('slips', 26), ('stock', 26), ('unsheathes', 26), ('whets', 26), ('boot', 26), ('striding', 26), ('mirror', 26), ('begins', 26), ('vigorous', 26), ('scraping', 26), ('harpooning', 26), ('using', 26), ('rogers', 26), ('cutlery', 26), ('vengeance', 26), ('operation', 26), ('steel', 26), ('exceedingly', 26), ('achieved', 25), ('proudly', 22), ('marched', 21), ('pilot', 11), ('sporting', 7), ('marshal', 2)]) "
          ]
        }
      ]
    },
    {
      "cell_type": "code",
      "source": [
        "vocabulary_size = len(tokenizer.word_counts)"
      ],
      "metadata": {
        "id": "eLek0f4yq6Rk"
      },
      "execution_count": 24,
      "outputs": []
    },
    {
      "cell_type": "code",
      "source": [
        "# Number of unique words across the 4 chapters\n",
        "vocabulary_size"
      ],
      "metadata": {
        "colab": {
          "base_uri": "https://localhost:8080/"
        },
        "id": "yWnrDSKkrAsc",
        "outputId": "b47a08ee-1c67-4450-dfb0-5f520da55975"
      },
      "execution_count": 25,
      "outputs": [
        {
          "output_type": "execute_result",
          "data": {
            "text/plain": [
              "2717"
            ]
          },
          "metadata": {},
          "execution_count": 25
        }
      ]
    },
    {
      "cell_type": "code",
      "source": [
        "type(sequences)"
      ],
      "metadata": {
        "colab": {
          "base_uri": "https://localhost:8080/"
        },
        "id": "OkMm3tDbrGVZ",
        "outputId": "36138c5a-7546-4be3-f491-9099a8e84159"
      },
      "execution_count": 26,
      "outputs": [
        {
          "output_type": "execute_result",
          "data": {
            "text/plain": [
              "list"
            ]
          },
          "metadata": {},
          "execution_count": 26
        }
      ]
    },
    {
      "cell_type": "code",
      "source": [
        "import numpy as np\n",
        "\n",
        "sequences = np.array(sequences)\n",
        "sequences"
      ],
      "metadata": {
        "colab": {
          "base_uri": "https://localhost:8080/"
        },
        "id": "yK7ErNGVrS-2",
        "outputId": "4b3686df-4867-4e69-8605-7b2b45d99cad"
      },
      "execution_count": 27,
      "outputs": [
        {
          "output_type": "execute_result",
          "data": {
            "text/plain": [
              "array([[ 956,   14,  263, ..., 2712,   14,   24],\n",
              "       [  14,  263,   51, ...,   14,   24,  957],\n",
              "       [ 263,   51,  261, ...,   24,  957,    5],\n",
              "       ...,\n",
              "       [ 952,   12,  166, ...,  262,   53,    2],\n",
              "       [  12,  166, 2711, ...,   53,    2, 2717],\n",
              "       [ 166, 2711,    3, ...,    2, 2717,   26]])"
            ]
          },
          "metadata": {},
          "execution_count": 27
        }
      ]
    },
    {
      "cell_type": "code",
      "source": [
        "# Creating the LSTM model by splitting the data into features and labels\n",
        "# (the first n words are the features and the next word after that sequence is a label)\n",
        "\n",
        "from tensorflow.keras.utils import to_categorical\n",
        "\n",
        "# Take all rows, but leave the last column (basically separate the features and labels)\n",
        "X = sequences[:,:-1]\n",
        "y = sequences[:,-1]\n",
        "\n",
        "# Changing y to categorical type\n",
        "y = to_categorical(y , num_classes = vocabulary_size + 1)"
      ],
      "metadata": {
        "id": "jdX41VeLrd6F"
      },
      "execution_count": 28,
      "outputs": []
    },
    {
      "cell_type": "code",
      "source": [
        "seq_len = X.shape[1]\n",
        "X.shape"
      ],
      "metadata": {
        "colab": {
          "base_uri": "https://localhost:8080/"
        },
        "id": "WekUVCzWszp6",
        "outputId": "60cdaee4-3d7a-4fab-c725-313f0dc387d2"
      },
      "execution_count": 29,
      "outputs": [
        {
          "output_type": "execute_result",
          "data": {
            "text/plain": [
              "(11312, 25)"
            ]
          },
          "metadata": {},
          "execution_count": 29
        }
      ]
    },
    {
      "cell_type": "code",
      "source": [
        "import keras\n",
        "from keras.models import Sequential\n",
        "from keras.layers import Dense,LSTM,Embedding"
      ],
      "metadata": {
        "id": "NSq0c9XuhCzS"
      },
      "execution_count": 30,
      "outputs": []
    },
    {
      "cell_type": "code",
      "source": [
        "def create_model(vocabulary_size, seq_len):\n",
        "    model = Sequential()\n",
        "    model.add(Embedding(vocabulary_size, 25, input_length=seq_len))\n",
        "    model.add(LSTM(150, return_sequences=True))\n",
        "    model.add(LSTM(150))\n",
        "    model.add(Dense(150, activation='relu'))\n",
        "\n",
        "    model.add(Dense(vocabulary_size, activation='softmax'))\n",
        "    \n",
        "    model.compile(loss='categorical_crossentropy', optimizer='adam', metrics=['accuracy'])\n",
        "   \n",
        "    model.summary()\n",
        "    \n",
        "    return model"
      ],
      "metadata": {
        "id": "TmDqecCgtKqm"
      },
      "execution_count": 31,
      "outputs": []
    },
    {
      "cell_type": "code",
      "source": [
        "model = create_model(vocabulary_size = vocabulary_size+1, seq_len= seq_len)\n",
        "model"
      ],
      "metadata": {
        "colab": {
          "base_uri": "https://localhost:8080/"
        },
        "id": "oZTciEY7zQP9",
        "outputId": "6731d77c-91f1-496d-f070-328448e7af69"
      },
      "execution_count": 32,
      "outputs": [
        {
          "output_type": "stream",
          "name": "stdout",
          "text": [
            "Model: \"sequential\"\n",
            "_________________________________________________________________\n",
            " Layer (type)                Output Shape              Param #   \n",
            "=================================================================\n",
            " embedding (Embedding)       (None, 25, 25)            67950     \n",
            "                                                                 \n",
            " lstm (LSTM)                 (None, 25, 150)           105600    \n",
            "                                                                 \n",
            " lstm_1 (LSTM)               (None, 150)               180600    \n",
            "                                                                 \n",
            " dense (Dense)               (None, 150)               22650     \n",
            "                                                                 \n",
            " dense_1 (Dense)             (None, 2718)              410418    \n",
            "                                                                 \n",
            "=================================================================\n",
            "Total params: 787,218\n",
            "Trainable params: 787,218\n",
            "Non-trainable params: 0\n",
            "_________________________________________________________________\n"
          ]
        },
        {
          "output_type": "execute_result",
          "data": {
            "text/plain": [
              "<keras.engine.sequential.Sequential at 0x7f0e476c24d0>"
            ]
          },
          "metadata": {},
          "execution_count": 32
        }
      ]
    },
    {
      "cell_type": "code",
      "source": [
        "from pickle import dump, load\n",
        "\n",
        "# Preferably train for about 200 - 300 epochs to get reasonable output\n",
        "# Generally training the model with very less epochs will cause it to output\n",
        "# the most frequent words in the vocabulary\n",
        "model.fit(X, y, batch_size = 128, epochs = 300, verbose = 2)"
      ],
      "metadata": {
        "colab": {
          "base_uri": "https://localhost:8080/"
        },
        "id": "rNt9W69VzaTI",
        "outputId": "a31f792f-4ad7-4017-9b48-74868dd32ad3"
      },
      "execution_count": 33,
      "outputs": [
        {
          "output_type": "stream",
          "name": "stdout",
          "text": [
            "Epoch 1/300\n",
            "89/89 - 6s - loss: 6.8357 - accuracy: 0.0460 - 6s/epoch - 72ms/step\n",
            "Epoch 2/300\n",
            "89/89 - 2s - loss: 6.3858 - accuracy: 0.0529 - 2s/epoch - 20ms/step\n",
            "Epoch 3/300\n",
            "89/89 - 2s - loss: 6.3264 - accuracy: 0.0529 - 2s/epoch - 20ms/step\n",
            "Epoch 4/300\n",
            "89/89 - 2s - loss: 6.1861 - accuracy: 0.0529 - 2s/epoch - 20ms/step\n",
            "Epoch 5/300\n",
            "89/89 - 2s - loss: 6.1059 - accuracy: 0.0530 - 2s/epoch - 20ms/step\n",
            "Epoch 6/300\n",
            "89/89 - 2s - loss: 5.9784 - accuracy: 0.0610 - 2s/epoch - 20ms/step\n",
            "Epoch 7/300\n",
            "89/89 - 2s - loss: 5.8740 - accuracy: 0.0644 - 2s/epoch - 20ms/step\n",
            "Epoch 8/300\n",
            "89/89 - 2s - loss: 5.7913 - accuracy: 0.0680 - 2s/epoch - 20ms/step\n",
            "Epoch 9/300\n",
            "89/89 - 2s - loss: 5.7333 - accuracy: 0.0705 - 2s/epoch - 20ms/step\n",
            "Epoch 10/300\n",
            "89/89 - 2s - loss: 5.6622 - accuracy: 0.0720 - 2s/epoch - 20ms/step\n",
            "Epoch 11/300\n",
            "89/89 - 2s - loss: 5.5998 - accuracy: 0.0745 - 2s/epoch - 20ms/step\n",
            "Epoch 12/300\n",
            "89/89 - 2s - loss: 5.5403 - accuracy: 0.0758 - 2s/epoch - 20ms/step\n",
            "Epoch 13/300\n",
            "89/89 - 2s - loss: 5.4794 - accuracy: 0.0790 - 2s/epoch - 20ms/step\n",
            "Epoch 14/300\n",
            "89/89 - 2s - loss: 5.4190 - accuracy: 0.0850 - 2s/epoch - 20ms/step\n",
            "Epoch 15/300\n",
            "89/89 - 2s - loss: 5.3687 - accuracy: 0.0847 - 2s/epoch - 20ms/step\n",
            "Epoch 16/300\n",
            "89/89 - 2s - loss: 5.3161 - accuracy: 0.0856 - 2s/epoch - 20ms/step\n",
            "Epoch 17/300\n",
            "89/89 - 2s - loss: 5.2681 - accuracy: 0.0900 - 2s/epoch - 20ms/step\n",
            "Epoch 18/300\n",
            "89/89 - 2s - loss: 5.2203 - accuracy: 0.0917 - 2s/epoch - 20ms/step\n",
            "Epoch 19/300\n",
            "89/89 - 2s - loss: 5.1754 - accuracy: 0.0928 - 2s/epoch - 20ms/step\n",
            "Epoch 20/300\n",
            "89/89 - 2s - loss: 5.1268 - accuracy: 0.0933 - 2s/epoch - 20ms/step\n",
            "Epoch 21/300\n",
            "89/89 - 2s - loss: 5.0785 - accuracy: 0.0945 - 2s/epoch - 20ms/step\n",
            "Epoch 22/300\n",
            "89/89 - 2s - loss: 5.0375 - accuracy: 0.0943 - 2s/epoch - 20ms/step\n",
            "Epoch 23/300\n",
            "89/89 - 2s - loss: 4.9854 - accuracy: 0.0982 - 2s/epoch - 20ms/step\n",
            "Epoch 24/300\n",
            "89/89 - 2s - loss: 4.9357 - accuracy: 0.0988 - 2s/epoch - 20ms/step\n",
            "Epoch 25/300\n",
            "89/89 - 2s - loss: 4.8917 - accuracy: 0.0989 - 2s/epoch - 20ms/step\n",
            "Epoch 26/300\n",
            "89/89 - 2s - loss: 4.8498 - accuracy: 0.1016 - 2s/epoch - 20ms/step\n",
            "Epoch 27/300\n",
            "89/89 - 2s - loss: 4.8069 - accuracy: 0.1011 - 2s/epoch - 20ms/step\n",
            "Epoch 28/300\n",
            "89/89 - 2s - loss: 4.7602 - accuracy: 0.1018 - 2s/epoch - 20ms/step\n",
            "Epoch 29/300\n",
            "89/89 - 2s - loss: 4.7157 - accuracy: 0.1056 - 2s/epoch - 20ms/step\n",
            "Epoch 30/300\n",
            "89/89 - 2s - loss: 4.6740 - accuracy: 0.1071 - 2s/epoch - 20ms/step\n",
            "Epoch 31/300\n",
            "89/89 - 2s - loss: 4.6326 - accuracy: 0.1100 - 2s/epoch - 20ms/step\n",
            "Epoch 32/300\n",
            "89/89 - 2s - loss: 4.5968 - accuracy: 0.1109 - 2s/epoch - 20ms/step\n",
            "Epoch 33/300\n",
            "89/89 - 2s - loss: 4.5568 - accuracy: 0.1109 - 2s/epoch - 20ms/step\n",
            "Epoch 34/300\n",
            "89/89 - 2s - loss: 4.5245 - accuracy: 0.1115 - 2s/epoch - 20ms/step\n",
            "Epoch 35/300\n",
            "89/89 - 2s - loss: 4.4816 - accuracy: 0.1127 - 2s/epoch - 20ms/step\n",
            "Epoch 36/300\n",
            "89/89 - 2s - loss: 4.4495 - accuracy: 0.1134 - 2s/epoch - 20ms/step\n",
            "Epoch 37/300\n",
            "89/89 - 2s - loss: 4.4108 - accuracy: 0.1147 - 2s/epoch - 20ms/step\n",
            "Epoch 38/300\n",
            "89/89 - 2s - loss: 4.3849 - accuracy: 0.1155 - 2s/epoch - 20ms/step\n",
            "Epoch 39/300\n",
            "89/89 - 2s - loss: 4.3458 - accuracy: 0.1186 - 2s/epoch - 20ms/step\n",
            "Epoch 40/300\n",
            "89/89 - 2s - loss: 4.3138 - accuracy: 0.1186 - 2s/epoch - 20ms/step\n",
            "Epoch 41/300\n",
            "89/89 - 2s - loss: 4.2790 - accuracy: 0.1208 - 2s/epoch - 20ms/step\n",
            "Epoch 42/300\n",
            "89/89 - 2s - loss: 4.2555 - accuracy: 0.1204 - 2s/epoch - 20ms/step\n",
            "Epoch 43/300\n",
            "89/89 - 2s - loss: 4.2256 - accuracy: 0.1231 - 2s/epoch - 20ms/step\n",
            "Epoch 44/300\n",
            "89/89 - 2s - loss: 4.1919 - accuracy: 0.1250 - 2s/epoch - 20ms/step\n",
            "Epoch 45/300\n",
            "89/89 - 2s - loss: 4.1695 - accuracy: 0.1249 - 2s/epoch - 20ms/step\n",
            "Epoch 46/300\n",
            "89/89 - 2s - loss: 4.1423 - accuracy: 0.1264 - 2s/epoch - 20ms/step\n",
            "Epoch 47/300\n",
            "89/89 - 2s - loss: 4.1095 - accuracy: 0.1305 - 2s/epoch - 20ms/step\n",
            "Epoch 48/300\n",
            "89/89 - 2s - loss: 4.0741 - accuracy: 0.1341 - 2s/epoch - 20ms/step\n",
            "Epoch 49/300\n",
            "89/89 - 2s - loss: 4.0541 - accuracy: 0.1295 - 2s/epoch - 20ms/step\n",
            "Epoch 50/300\n",
            "89/89 - 2s - loss: 4.0206 - accuracy: 0.1336 - 2s/epoch - 20ms/step\n",
            "Epoch 51/300\n",
            "89/89 - 2s - loss: 3.9925 - accuracy: 0.1391 - 2s/epoch - 20ms/step\n",
            "Epoch 52/300\n",
            "89/89 - 2s - loss: 3.9628 - accuracy: 0.1394 - 2s/epoch - 20ms/step\n",
            "Epoch 53/300\n",
            "89/89 - 2s - loss: 3.9449 - accuracy: 0.1419 - 2s/epoch - 20ms/step\n",
            "Epoch 54/300\n",
            "89/89 - 2s - loss: 3.9131 - accuracy: 0.1391 - 2s/epoch - 20ms/step\n",
            "Epoch 55/300\n",
            "89/89 - 2s - loss: 3.8796 - accuracy: 0.1491 - 2s/epoch - 20ms/step\n",
            "Epoch 56/300\n",
            "89/89 - 2s - loss: 3.8554 - accuracy: 0.1506 - 2s/epoch - 20ms/step\n",
            "Epoch 57/300\n",
            "89/89 - 2s - loss: 3.8212 - accuracy: 0.1514 - 2s/epoch - 20ms/step\n",
            "Epoch 58/300\n",
            "89/89 - 2s - loss: 3.7907 - accuracy: 0.1546 - 2s/epoch - 20ms/step\n",
            "Epoch 59/300\n",
            "89/89 - 2s - loss: 3.7627 - accuracy: 0.1582 - 2s/epoch - 20ms/step\n",
            "Epoch 60/300\n",
            "89/89 - 2s - loss: 3.7340 - accuracy: 0.1600 - 2s/epoch - 20ms/step\n",
            "Epoch 61/300\n",
            "89/89 - 2s - loss: 3.7070 - accuracy: 0.1627 - 2s/epoch - 20ms/step\n",
            "Epoch 62/300\n",
            "89/89 - 2s - loss: 3.6773 - accuracy: 0.1650 - 2s/epoch - 20ms/step\n",
            "Epoch 63/300\n",
            "89/89 - 2s - loss: 3.6501 - accuracy: 0.1711 - 2s/epoch - 20ms/step\n",
            "Epoch 64/300\n",
            "89/89 - 2s - loss: 3.6164 - accuracy: 0.1756 - 2s/epoch - 20ms/step\n",
            "Epoch 65/300\n",
            "89/89 - 2s - loss: 3.6043 - accuracy: 0.1754 - 2s/epoch - 20ms/step\n",
            "Epoch 66/300\n",
            "89/89 - 2s - loss: 3.5658 - accuracy: 0.1823 - 2s/epoch - 20ms/step\n",
            "Epoch 67/300\n",
            "89/89 - 2s - loss: 3.5385 - accuracy: 0.1825 - 2s/epoch - 20ms/step\n",
            "Epoch 68/300\n",
            "89/89 - 2s - loss: 3.5048 - accuracy: 0.1924 - 2s/epoch - 20ms/step\n",
            "Epoch 69/300\n",
            "89/89 - 2s - loss: 3.4868 - accuracy: 0.1879 - 2s/epoch - 20ms/step\n",
            "Epoch 70/300\n",
            "89/89 - 2s - loss: 3.4501 - accuracy: 0.1959 - 2s/epoch - 20ms/step\n",
            "Epoch 71/300\n",
            "89/89 - 2s - loss: 3.4238 - accuracy: 0.2036 - 2s/epoch - 20ms/step\n",
            "Epoch 72/300\n",
            "89/89 - 2s - loss: 3.3958 - accuracy: 0.2058 - 2s/epoch - 20ms/step\n",
            "Epoch 73/300\n",
            "89/89 - 2s - loss: 3.3751 - accuracy: 0.2081 - 2s/epoch - 20ms/step\n",
            "Epoch 74/300\n",
            "89/89 - 2s - loss: 3.3435 - accuracy: 0.2113 - 2s/epoch - 20ms/step\n",
            "Epoch 75/300\n",
            "89/89 - 2s - loss: 3.3256 - accuracy: 0.2162 - 2s/epoch - 20ms/step\n",
            "Epoch 76/300\n",
            "89/89 - 2s - loss: 3.3068 - accuracy: 0.2166 - 2s/epoch - 20ms/step\n",
            "Epoch 77/300\n",
            "89/89 - 2s - loss: 3.2785 - accuracy: 0.2234 - 2s/epoch - 20ms/step\n",
            "Epoch 78/300\n",
            "89/89 - 2s - loss: 3.2524 - accuracy: 0.2258 - 2s/epoch - 20ms/step\n",
            "Epoch 79/300\n",
            "89/89 - 2s - loss: 3.2389 - accuracy: 0.2269 - 2s/epoch - 20ms/step\n",
            "Epoch 80/300\n",
            "89/89 - 2s - loss: 4.0928 - accuracy: 0.1713 - 2s/epoch - 20ms/step\n",
            "Epoch 81/300\n",
            "89/89 - 2s - loss: 4.5842 - accuracy: 0.1387 - 2s/epoch - 20ms/step\n",
            "Epoch 82/300\n",
            "89/89 - 2s - loss: 4.0474 - accuracy: 0.1661 - 2s/epoch - 20ms/step\n",
            "Epoch 83/300\n",
            "89/89 - 2s - loss: 3.6399 - accuracy: 0.1978 - 2s/epoch - 20ms/step\n",
            "Epoch 84/300\n",
            "89/89 - 2s - loss: 3.5080 - accuracy: 0.2121 - 2s/epoch - 20ms/step\n",
            "Epoch 85/300\n",
            "89/89 - 2s - loss: 3.4168 - accuracy: 0.2252 - 2s/epoch - 20ms/step\n",
            "Epoch 86/300\n",
            "89/89 - 2s - loss: 3.3468 - accuracy: 0.2297 - 2s/epoch - 21ms/step\n",
            "Epoch 87/300\n",
            "89/89 - 2s - loss: 3.2790 - accuracy: 0.2388 - 2s/epoch - 20ms/step\n",
            "Epoch 88/300\n",
            "89/89 - 2s - loss: 3.2228 - accuracy: 0.2477 - 2s/epoch - 20ms/step\n",
            "Epoch 89/300\n",
            "89/89 - 2s - loss: 3.1706 - accuracy: 0.2565 - 2s/epoch - 20ms/step\n",
            "Epoch 90/300\n",
            "89/89 - 2s - loss: 3.1367 - accuracy: 0.2543 - 2s/epoch - 20ms/step\n",
            "Epoch 91/300\n",
            "89/89 - 2s - loss: 3.0877 - accuracy: 0.2642 - 2s/epoch - 20ms/step\n",
            "Epoch 92/300\n",
            "89/89 - 2s - loss: 3.0488 - accuracy: 0.2685 - 2s/epoch - 20ms/step\n",
            "Epoch 93/300\n",
            "89/89 - 2s - loss: 3.0100 - accuracy: 0.2771 - 2s/epoch - 20ms/step\n",
            "Epoch 94/300\n",
            "89/89 - 2s - loss: 2.9718 - accuracy: 0.2862 - 2s/epoch - 20ms/step\n",
            "Epoch 95/300\n",
            "89/89 - 2s - loss: 2.9661 - accuracy: 0.2850 - 2s/epoch - 20ms/step\n",
            "Epoch 96/300\n",
            "89/89 - 2s - loss: 3.0451 - accuracy: 0.2730 - 2s/epoch - 20ms/step\n",
            "Epoch 97/300\n",
            "89/89 - 2s - loss: 2.9725 - accuracy: 0.2816 - 2s/epoch - 20ms/step\n",
            "Epoch 98/300\n",
            "89/89 - 2s - loss: 2.9189 - accuracy: 0.2900 - 2s/epoch - 20ms/step\n",
            "Epoch 99/300\n",
            "89/89 - 2s - loss: 2.8740 - accuracy: 0.3006 - 2s/epoch - 20ms/step\n",
            "Epoch 100/300\n",
            "89/89 - 2s - loss: 2.8434 - accuracy: 0.3054 - 2s/epoch - 20ms/step\n",
            "Epoch 101/300\n",
            "89/89 - 2s - loss: 3.0236 - accuracy: 0.2725 - 2s/epoch - 20ms/step\n",
            "Epoch 102/300\n",
            "89/89 - 2s - loss: 2.9680 - accuracy: 0.2776 - 2s/epoch - 20ms/step\n",
            "Epoch 103/300\n",
            "89/89 - 2s - loss: 2.9249 - accuracy: 0.2823 - 2s/epoch - 20ms/step\n",
            "Epoch 104/300\n",
            "89/89 - 2s - loss: 2.7863 - accuracy: 0.3147 - 2s/epoch - 20ms/step\n",
            "Epoch 105/300\n",
            "89/89 - 2s - loss: 2.7409 - accuracy: 0.3264 - 2s/epoch - 20ms/step\n",
            "Epoch 106/300\n",
            "89/89 - 2s - loss: 2.6975 - accuracy: 0.3360 - 2s/epoch - 20ms/step\n",
            "Epoch 107/300\n",
            "89/89 - 2s - loss: 2.6726 - accuracy: 0.3403 - 2s/epoch - 20ms/step\n",
            "Epoch 108/300\n",
            "89/89 - 2s - loss: 2.6419 - accuracy: 0.3460 - 2s/epoch - 20ms/step\n",
            "Epoch 109/300\n",
            "89/89 - 2s - loss: 2.6059 - accuracy: 0.3502 - 2s/epoch - 20ms/step\n",
            "Epoch 110/300\n",
            "89/89 - 2s - loss: 2.5809 - accuracy: 0.3586 - 2s/epoch - 20ms/step\n",
            "Epoch 111/300\n",
            "89/89 - 2s - loss: 2.5457 - accuracy: 0.3674 - 2s/epoch - 20ms/step\n",
            "Epoch 112/300\n",
            "89/89 - 2s - loss: 2.5210 - accuracy: 0.3689 - 2s/epoch - 20ms/step\n",
            "Epoch 113/300\n",
            "89/89 - 2s - loss: 2.5309 - accuracy: 0.3701 - 2s/epoch - 20ms/step\n",
            "Epoch 114/300\n",
            "89/89 - 2s - loss: 2.4962 - accuracy: 0.3745 - 2s/epoch - 20ms/step\n",
            "Epoch 115/300\n",
            "89/89 - 2s - loss: 2.5250 - accuracy: 0.3692 - 2s/epoch - 20ms/step\n",
            "Epoch 116/300\n",
            "89/89 - 2s - loss: 2.4540 - accuracy: 0.3856 - 2s/epoch - 20ms/step\n",
            "Epoch 117/300\n",
            "89/89 - 2s - loss: 2.4057 - accuracy: 0.3929 - 2s/epoch - 20ms/step\n",
            "Epoch 118/300\n",
            "89/89 - 2s - loss: 2.4204 - accuracy: 0.3868 - 2s/epoch - 20ms/step\n",
            "Epoch 119/300\n",
            "89/89 - 2s - loss: 2.3582 - accuracy: 0.4069 - 2s/epoch - 20ms/step\n",
            "Epoch 120/300\n",
            "89/89 - 2s - loss: 2.3264 - accuracy: 0.4117 - 2s/epoch - 20ms/step\n",
            "Epoch 121/300\n",
            "89/89 - 2s - loss: 2.2932 - accuracy: 0.4207 - 2s/epoch - 20ms/step\n",
            "Epoch 122/300\n",
            "89/89 - 2s - loss: 2.2825 - accuracy: 0.4168 - 2s/epoch - 20ms/step\n",
            "Epoch 123/300\n",
            "89/89 - 2s - loss: 2.2487 - accuracy: 0.4284 - 2s/epoch - 20ms/step\n",
            "Epoch 124/300\n",
            "89/89 - 2s - loss: 2.2350 - accuracy: 0.4323 - 2s/epoch - 20ms/step\n",
            "Epoch 125/300\n",
            "89/89 - 2s - loss: 2.1945 - accuracy: 0.4416 - 2s/epoch - 20ms/step\n",
            "Epoch 126/300\n",
            "89/89 - 2s - loss: 2.1632 - accuracy: 0.4496 - 2s/epoch - 20ms/step\n",
            "Epoch 127/300\n",
            "89/89 - 2s - loss: 2.1526 - accuracy: 0.4487 - 2s/epoch - 20ms/step\n",
            "Epoch 128/300\n",
            "89/89 - 2s - loss: 2.1264 - accuracy: 0.4513 - 2s/epoch - 20ms/step\n",
            "Epoch 129/300\n",
            "89/89 - 2s - loss: 2.1011 - accuracy: 0.4628 - 2s/epoch - 20ms/step\n",
            "Epoch 130/300\n",
            "89/89 - 2s - loss: 2.0587 - accuracy: 0.4745 - 2s/epoch - 20ms/step\n",
            "Epoch 131/300\n",
            "89/89 - 2s - loss: 2.0283 - accuracy: 0.4790 - 2s/epoch - 20ms/step\n",
            "Epoch 132/300\n",
            "89/89 - 2s - loss: 2.0146 - accuracy: 0.4805 - 2s/epoch - 20ms/step\n",
            "Epoch 133/300\n",
            "89/89 - 2s - loss: 1.9926 - accuracy: 0.4888 - 2s/epoch - 20ms/step\n",
            "Epoch 134/300\n",
            "89/89 - 2s - loss: 1.9522 - accuracy: 0.4966 - 2s/epoch - 20ms/step\n",
            "Epoch 135/300\n",
            "89/89 - 2s - loss: 1.9315 - accuracy: 0.4997 - 2s/epoch - 20ms/step\n",
            "Epoch 136/300\n",
            "89/89 - 2s - loss: 1.9072 - accuracy: 0.5104 - 2s/epoch - 20ms/step\n",
            "Epoch 137/300\n",
            "89/89 - 2s - loss: 1.8946 - accuracy: 0.5114 - 2s/epoch - 20ms/step\n",
            "Epoch 138/300\n",
            "89/89 - 2s - loss: 1.8687 - accuracy: 0.5134 - 2s/epoch - 20ms/step\n",
            "Epoch 139/300\n",
            "89/89 - 2s - loss: 1.8453 - accuracy: 0.5236 - 2s/epoch - 20ms/step\n",
            "Epoch 140/300\n",
            "89/89 - 2s - loss: 1.8394 - accuracy: 0.5293 - 2s/epoch - 20ms/step\n",
            "Epoch 141/300\n",
            "89/89 - 2s - loss: 1.8029 - accuracy: 0.5332 - 2s/epoch - 20ms/step\n",
            "Epoch 142/300\n",
            "89/89 - 2s - loss: 1.7788 - accuracy: 0.5424 - 2s/epoch - 20ms/step\n",
            "Epoch 143/300\n",
            "89/89 - 2s - loss: 1.7544 - accuracy: 0.5485 - 2s/epoch - 20ms/step\n",
            "Epoch 144/300\n",
            "89/89 - 2s - loss: 1.8115 - accuracy: 0.5379 - 2s/epoch - 20ms/step\n",
            "Epoch 145/300\n",
            "89/89 - 2s - loss: 1.7775 - accuracy: 0.5393 - 2s/epoch - 20ms/step\n",
            "Epoch 146/300\n",
            "89/89 - 2s - loss: 1.7378 - accuracy: 0.5514 - 2s/epoch - 20ms/step\n",
            "Epoch 147/300\n",
            "89/89 - 2s - loss: 1.6800 - accuracy: 0.5653 - 2s/epoch - 20ms/step\n",
            "Epoch 148/300\n",
            "89/89 - 2s - loss: 1.6682 - accuracy: 0.5679 - 2s/epoch - 20ms/step\n",
            "Epoch 149/300\n",
            "89/89 - 2s - loss: 1.6512 - accuracy: 0.5717 - 2s/epoch - 20ms/step\n",
            "Epoch 150/300\n",
            "89/89 - 2s - loss: 1.7814 - accuracy: 0.5499 - 2s/epoch - 20ms/step\n",
            "Epoch 151/300\n",
            "89/89 - 2s - loss: 1.7152 - accuracy: 0.5586 - 2s/epoch - 20ms/step\n",
            "Epoch 152/300\n",
            "89/89 - 2s - loss: 1.6974 - accuracy: 0.5617 - 2s/epoch - 20ms/step\n",
            "Epoch 153/300\n",
            "89/89 - 2s - loss: 1.6226 - accuracy: 0.5826 - 2s/epoch - 20ms/step\n",
            "Epoch 154/300\n",
            "89/89 - 2s - loss: 1.5887 - accuracy: 0.5911 - 2s/epoch - 20ms/step\n",
            "Epoch 155/300\n",
            "89/89 - 2s - loss: 1.5472 - accuracy: 0.6022 - 2s/epoch - 20ms/step\n",
            "Epoch 156/300\n",
            "89/89 - 2s - loss: 1.5140 - accuracy: 0.6038 - 2s/epoch - 20ms/step\n",
            "Epoch 157/300\n",
            "89/89 - 2s - loss: 1.4899 - accuracy: 0.6158 - 2s/epoch - 20ms/step\n",
            "Epoch 158/300\n",
            "89/89 - 2s - loss: 1.4497 - accuracy: 0.6263 - 2s/epoch - 20ms/step\n",
            "Epoch 159/300\n",
            "89/89 - 2s - loss: 1.4303 - accuracy: 0.6302 - 2s/epoch - 20ms/step\n",
            "Epoch 160/300\n",
            "89/89 - 2s - loss: 1.5465 - accuracy: 0.6048 - 2s/epoch - 20ms/step\n",
            "Epoch 161/300\n",
            "89/89 - 2s - loss: 1.5352 - accuracy: 0.6038 - 2s/epoch - 20ms/step\n",
            "Epoch 162/300\n",
            "89/89 - 2s - loss: 1.5183 - accuracy: 0.6099 - 2s/epoch - 20ms/step\n",
            "Epoch 163/300\n",
            "89/89 - 2s - loss: 1.4826 - accuracy: 0.6243 - 2s/epoch - 20ms/step\n",
            "Epoch 164/300\n",
            "89/89 - 2s - loss: 1.6641 - accuracy: 0.5830 - 2s/epoch - 20ms/step\n",
            "Epoch 165/300\n",
            "89/89 - 2s - loss: 2.5129 - accuracy: 0.4318 - 2s/epoch - 20ms/step\n",
            "Epoch 166/300\n",
            "89/89 - 2s - loss: 2.2544 - accuracy: 0.4478 - 2s/epoch - 20ms/step\n",
            "Epoch 167/300\n",
            "89/89 - 2s - loss: 2.1281 - accuracy: 0.4687 - 2s/epoch - 20ms/step\n",
            "Epoch 168/300\n",
            "89/89 - 2s - loss: 2.0483 - accuracy: 0.4871 - 2s/epoch - 20ms/step\n",
            "Epoch 169/300\n",
            "89/89 - 2s - loss: 1.9289 - accuracy: 0.5032 - 2s/epoch - 20ms/step\n",
            "Epoch 170/300\n",
            "89/89 - 2s - loss: 2.1610 - accuracy: 0.4542 - 2s/epoch - 20ms/step\n",
            "Epoch 171/300\n",
            "89/89 - 2s - loss: 2.1191 - accuracy: 0.4632 - 2s/epoch - 20ms/step\n",
            "Epoch 172/300\n",
            "89/89 - 2s - loss: 2.0090 - accuracy: 0.4869 - 2s/epoch - 20ms/step\n",
            "Epoch 173/300\n",
            "89/89 - 2s - loss: 1.9587 - accuracy: 0.4977 - 2s/epoch - 20ms/step\n",
            "Epoch 174/300\n",
            "89/89 - 2s - loss: 1.9204 - accuracy: 0.5100 - 2s/epoch - 20ms/step\n",
            "Epoch 175/300\n",
            "89/89 - 2s - loss: 1.8919 - accuracy: 0.5171 - 2s/epoch - 20ms/step\n",
            "Epoch 176/300\n",
            "89/89 - 2s - loss: 1.8624 - accuracy: 0.5215 - 2s/epoch - 20ms/step\n",
            "Epoch 177/300\n",
            "89/89 - 2s - loss: 1.8430 - accuracy: 0.5301 - 2s/epoch - 20ms/step\n",
            "Epoch 178/300\n",
            "89/89 - 2s - loss: 1.8147 - accuracy: 0.5360 - 2s/epoch - 20ms/step\n",
            "Epoch 179/300\n",
            "89/89 - 2s - loss: 1.7979 - accuracy: 0.5353 - 2s/epoch - 20ms/step\n",
            "Epoch 180/300\n",
            "89/89 - 2s - loss: 1.7783 - accuracy: 0.5406 - 2s/epoch - 20ms/step\n",
            "Epoch 181/300\n",
            "89/89 - 2s - loss: 1.7563 - accuracy: 0.5447 - 2s/epoch - 20ms/step\n",
            "Epoch 182/300\n",
            "89/89 - 2s - loss: 1.7347 - accuracy: 0.5556 - 2s/epoch - 20ms/step\n",
            "Epoch 183/300\n",
            "89/89 - 2s - loss: 1.7184 - accuracy: 0.5563 - 2s/epoch - 20ms/step\n",
            "Epoch 184/300\n",
            "89/89 - 2s - loss: 1.6988 - accuracy: 0.5614 - 2s/epoch - 20ms/step\n",
            "Epoch 185/300\n",
            "89/89 - 2s - loss: 1.6733 - accuracy: 0.5700 - 2s/epoch - 20ms/step\n",
            "Epoch 186/300\n",
            "89/89 - 2s - loss: 1.6616 - accuracy: 0.5695 - 2s/epoch - 20ms/step\n",
            "Epoch 187/300\n",
            "89/89 - 2s - loss: 1.6469 - accuracy: 0.5739 - 2s/epoch - 20ms/step\n",
            "Epoch 188/300\n",
            "89/89 - 2s - loss: 1.6231 - accuracy: 0.5780 - 2s/epoch - 21ms/step\n",
            "Epoch 189/300\n",
            "89/89 - 2s - loss: 1.6064 - accuracy: 0.5853 - 2s/epoch - 20ms/step\n",
            "Epoch 190/300\n",
            "89/89 - 2s - loss: 1.5906 - accuracy: 0.5828 - 2s/epoch - 20ms/step\n",
            "Epoch 191/300\n",
            "89/89 - 2s - loss: 1.5755 - accuracy: 0.5916 - 2s/epoch - 20ms/step\n",
            "Epoch 192/300\n",
            "89/89 - 2s - loss: 1.5634 - accuracy: 0.5893 - 2s/epoch - 20ms/step\n",
            "Epoch 193/300\n",
            "89/89 - 2s - loss: 1.5473 - accuracy: 0.5982 - 2s/epoch - 20ms/step\n",
            "Epoch 194/300\n",
            "89/89 - 2s - loss: 1.5230 - accuracy: 0.6057 - 2s/epoch - 20ms/step\n",
            "Epoch 195/300\n",
            "89/89 - 2s - loss: 1.5124 - accuracy: 0.6053 - 2s/epoch - 20ms/step\n",
            "Epoch 196/300\n",
            "89/89 - 2s - loss: 1.4963 - accuracy: 0.6094 - 2s/epoch - 20ms/step\n",
            "Epoch 197/300\n",
            "89/89 - 2s - loss: 1.4797 - accuracy: 0.6111 - 2s/epoch - 20ms/step\n",
            "Epoch 198/300\n",
            "89/89 - 2s - loss: 1.4667 - accuracy: 0.6155 - 2s/epoch - 20ms/step\n",
            "Epoch 199/300\n",
            "89/89 - 2s - loss: 1.4496 - accuracy: 0.6212 - 2s/epoch - 20ms/step\n",
            "Epoch 200/300\n",
            "89/89 - 2s - loss: 1.4285 - accuracy: 0.6234 - 2s/epoch - 20ms/step\n",
            "Epoch 201/300\n",
            "89/89 - 2s - loss: 1.4217 - accuracy: 0.6238 - 2s/epoch - 20ms/step\n",
            "Epoch 202/300\n",
            "89/89 - 2s - loss: 1.4110 - accuracy: 0.6256 - 2s/epoch - 20ms/step\n",
            "Epoch 203/300\n",
            "89/89 - 2s - loss: 1.3873 - accuracy: 0.6342 - 2s/epoch - 20ms/step\n",
            "Epoch 204/300\n",
            "89/89 - 2s - loss: 1.3640 - accuracy: 0.6399 - 2s/epoch - 20ms/step\n",
            "Epoch 205/300\n",
            "89/89 - 2s - loss: 1.3604 - accuracy: 0.6409 - 2s/epoch - 20ms/step\n",
            "Epoch 206/300\n",
            "89/89 - 2s - loss: 1.3467 - accuracy: 0.6427 - 2s/epoch - 20ms/step\n",
            "Epoch 207/300\n",
            "89/89 - 2s - loss: 1.3251 - accuracy: 0.6523 - 2s/epoch - 20ms/step\n",
            "Epoch 208/300\n",
            "89/89 - 2s - loss: 1.3082 - accuracy: 0.6552 - 2s/epoch - 20ms/step\n",
            "Epoch 209/300\n",
            "89/89 - 2s - loss: 1.2857 - accuracy: 0.6612 - 2s/epoch - 20ms/step\n",
            "Epoch 210/300\n",
            "89/89 - 2s - loss: 1.2778 - accuracy: 0.6612 - 2s/epoch - 20ms/step\n",
            "Epoch 211/300\n",
            "89/89 - 2s - loss: 1.2653 - accuracy: 0.6663 - 2s/epoch - 20ms/step\n",
            "Epoch 212/300\n",
            "89/89 - 2s - loss: 1.2609 - accuracy: 0.6699 - 2s/epoch - 20ms/step\n",
            "Epoch 213/300\n",
            "89/89 - 2s - loss: 1.2386 - accuracy: 0.6744 - 2s/epoch - 20ms/step\n",
            "Epoch 214/300\n",
            "89/89 - 2s - loss: 1.2181 - accuracy: 0.6781 - 2s/epoch - 20ms/step\n",
            "Epoch 215/300\n",
            "89/89 - 2s - loss: 1.1969 - accuracy: 0.6864 - 2s/epoch - 20ms/step\n",
            "Epoch 216/300\n",
            "89/89 - 2s - loss: 1.1776 - accuracy: 0.6911 - 2s/epoch - 20ms/step\n",
            "Epoch 217/300\n",
            "89/89 - 2s - loss: 1.1758 - accuracy: 0.6870 - 2s/epoch - 20ms/step\n",
            "Epoch 218/300\n",
            "89/89 - 2s - loss: 1.1587 - accuracy: 0.6937 - 2s/epoch - 20ms/step\n",
            "Epoch 219/300\n",
            "89/89 - 2s - loss: 1.1466 - accuracy: 0.7000 - 2s/epoch - 20ms/step\n",
            "Epoch 220/300\n",
            "89/89 - 2s - loss: 1.1321 - accuracy: 0.7019 - 2s/epoch - 20ms/step\n",
            "Epoch 221/300\n",
            "89/89 - 2s - loss: 1.1243 - accuracy: 0.7020 - 2s/epoch - 20ms/step\n",
            "Epoch 222/300\n",
            "89/89 - 2s - loss: 1.1095 - accuracy: 0.7065 - 2s/epoch - 20ms/step\n",
            "Epoch 223/300\n",
            "89/89 - 2s - loss: 1.0895 - accuracy: 0.7129 - 2s/epoch - 20ms/step\n",
            "Epoch 224/300\n",
            "89/89 - 2s - loss: 1.0830 - accuracy: 0.7116 - 2s/epoch - 20ms/step\n",
            "Epoch 225/300\n",
            "89/89 - 2s - loss: 1.0631 - accuracy: 0.7218 - 2s/epoch - 20ms/step\n",
            "Epoch 226/300\n",
            "89/89 - 2s - loss: 1.0516 - accuracy: 0.7199 - 2s/epoch - 20ms/step\n",
            "Epoch 227/300\n",
            "89/89 - 2s - loss: 1.0462 - accuracy: 0.7237 - 2s/epoch - 20ms/step\n",
            "Epoch 228/300\n",
            "89/89 - 2s - loss: 1.0324 - accuracy: 0.7292 - 2s/epoch - 20ms/step\n",
            "Epoch 229/300\n",
            "89/89 - 2s - loss: 1.0246 - accuracy: 0.7291 - 2s/epoch - 20ms/step\n",
            "Epoch 230/300\n",
            "89/89 - 2s - loss: 0.9986 - accuracy: 0.7377 - 2s/epoch - 20ms/step\n",
            "Epoch 231/300\n",
            "89/89 - 2s - loss: 0.9774 - accuracy: 0.7409 - 2s/epoch - 20ms/step\n",
            "Epoch 232/300\n",
            "89/89 - 2s - loss: 0.9714 - accuracy: 0.7462 - 2s/epoch - 20ms/step\n",
            "Epoch 233/300\n",
            "89/89 - 2s - loss: 0.9532 - accuracy: 0.7504 - 2s/epoch - 20ms/step\n",
            "Epoch 234/300\n",
            "89/89 - 2s - loss: 0.9489 - accuracy: 0.7486 - 2s/epoch - 20ms/step\n",
            "Epoch 235/300\n",
            "89/89 - 2s - loss: 0.9404 - accuracy: 0.7528 - 2s/epoch - 20ms/step\n",
            "Epoch 236/300\n",
            "89/89 - 2s - loss: 0.9179 - accuracy: 0.7605 - 2s/epoch - 20ms/step\n",
            "Epoch 237/300\n",
            "89/89 - 2s - loss: 0.8957 - accuracy: 0.7677 - 2s/epoch - 20ms/step\n",
            "Epoch 238/300\n",
            "89/89 - 2s - loss: 0.8771 - accuracy: 0.7771 - 2s/epoch - 20ms/step\n",
            "Epoch 239/300\n",
            "89/89 - 2s - loss: 0.8610 - accuracy: 0.7773 - 2s/epoch - 20ms/step\n",
            "Epoch 240/300\n",
            "89/89 - 2s - loss: 0.8527 - accuracy: 0.7807 - 2s/epoch - 20ms/step\n",
            "Epoch 241/300\n",
            "89/89 - 2s - loss: 0.8444 - accuracy: 0.7842 - 2s/epoch - 20ms/step\n",
            "Epoch 242/300\n",
            "89/89 - 2s - loss: 0.8257 - accuracy: 0.7885 - 2s/epoch - 20ms/step\n",
            "Epoch 243/300\n",
            "89/89 - 2s - loss: 0.8070 - accuracy: 0.7948 - 2s/epoch - 20ms/step\n",
            "Epoch 244/300\n",
            "89/89 - 2s - loss: 0.7973 - accuracy: 0.7976 - 2s/epoch - 20ms/step\n",
            "Epoch 245/300\n",
            "89/89 - 2s - loss: 0.7854 - accuracy: 0.8034 - 2s/epoch - 20ms/step\n",
            "Epoch 246/300\n",
            "89/89 - 2s - loss: 0.7803 - accuracy: 0.7999 - 2s/epoch - 20ms/step\n",
            "Epoch 247/300\n",
            "89/89 - 2s - loss: 0.7745 - accuracy: 0.8058 - 2s/epoch - 20ms/step\n",
            "Epoch 248/300\n",
            "89/89 - 2s - loss: 0.7601 - accuracy: 0.8098 - 2s/epoch - 20ms/step\n",
            "Epoch 249/300\n",
            "89/89 - 2s - loss: 0.7440 - accuracy: 0.8093 - 2s/epoch - 20ms/step\n",
            "Epoch 250/300\n",
            "89/89 - 2s - loss: 0.7222 - accuracy: 0.8204 - 2s/epoch - 20ms/step\n",
            "Epoch 251/300\n",
            "89/89 - 2s - loss: 0.7080 - accuracy: 0.8269 - 2s/epoch - 20ms/step\n",
            "Epoch 252/300\n",
            "89/89 - 2s - loss: 0.7090 - accuracy: 0.8220 - 2s/epoch - 20ms/step\n",
            "Epoch 253/300\n",
            "89/89 - 2s - loss: 0.6982 - accuracy: 0.8247 - 2s/epoch - 20ms/step\n",
            "Epoch 254/300\n",
            "89/89 - 2s - loss: 0.6930 - accuracy: 0.8292 - 2s/epoch - 20ms/step\n",
            "Epoch 255/300\n",
            "89/89 - 2s - loss: 0.6805 - accuracy: 0.8304 - 2s/epoch - 20ms/step\n",
            "Epoch 256/300\n",
            "89/89 - 2s - loss: 0.6758 - accuracy: 0.8290 - 2s/epoch - 20ms/step\n",
            "Epoch 257/300\n",
            "89/89 - 2s - loss: 0.6595 - accuracy: 0.8373 - 2s/epoch - 20ms/step\n",
            "Epoch 258/300\n",
            "89/89 - 2s - loss: 0.6349 - accuracy: 0.8428 - 2s/epoch - 20ms/step\n",
            "Epoch 259/300\n",
            "89/89 - 2s - loss: 0.6178 - accuracy: 0.8495 - 2s/epoch - 20ms/step\n",
            "Epoch 260/300\n",
            "89/89 - 2s - loss: 0.6162 - accuracy: 0.8519 - 2s/epoch - 20ms/step\n",
            "Epoch 261/300\n",
            "89/89 - 2s - loss: 0.5916 - accuracy: 0.8603 - 2s/epoch - 20ms/step\n",
            "Epoch 262/300\n",
            "89/89 - 2s - loss: 0.6003 - accuracy: 0.8545 - 2s/epoch - 20ms/step\n",
            "Epoch 263/300\n",
            "89/89 - 2s - loss: 0.5934 - accuracy: 0.8563 - 2s/epoch - 20ms/step\n",
            "Epoch 264/300\n",
            "89/89 - 2s - loss: 0.5756 - accuracy: 0.8624 - 2s/epoch - 20ms/step\n",
            "Epoch 265/300\n",
            "89/89 - 2s - loss: 0.5600 - accuracy: 0.8643 - 2s/epoch - 20ms/step\n",
            "Epoch 266/300\n",
            "89/89 - 2s - loss: 0.5506 - accuracy: 0.8690 - 2s/epoch - 20ms/step\n",
            "Epoch 267/300\n",
            "89/89 - 2s - loss: 0.5332 - accuracy: 0.8766 - 2s/epoch - 20ms/step\n",
            "Epoch 268/300\n",
            "89/89 - 2s - loss: 0.5418 - accuracy: 0.8726 - 2s/epoch - 20ms/step\n",
            "Epoch 269/300\n",
            "89/89 - 2s - loss: 0.5240 - accuracy: 0.8776 - 2s/epoch - 20ms/step\n",
            "Epoch 270/300\n",
            "89/89 - 2s - loss: 0.5125 - accuracy: 0.8822 - 2s/epoch - 20ms/step\n",
            "Epoch 271/300\n",
            "89/89 - 2s - loss: 0.5100 - accuracy: 0.8840 - 2s/epoch - 20ms/step\n",
            "Epoch 272/300\n",
            "89/89 - 2s - loss: 0.5145 - accuracy: 0.8791 - 2s/epoch - 20ms/step\n",
            "Epoch 273/300\n",
            "89/89 - 2s - loss: 0.4818 - accuracy: 0.8900 - 2s/epoch - 20ms/step\n",
            "Epoch 274/300\n",
            "89/89 - 2s - loss: 0.4672 - accuracy: 0.8935 - 2s/epoch - 20ms/step\n",
            "Epoch 275/300\n",
            "89/89 - 2s - loss: 0.4509 - accuracy: 0.8998 - 2s/epoch - 20ms/step\n",
            "Epoch 276/300\n",
            "89/89 - 2s - loss: 0.4392 - accuracy: 0.9046 - 2s/epoch - 20ms/step\n",
            "Epoch 277/300\n",
            "89/89 - 2s - loss: 0.4539 - accuracy: 0.9005 - 2s/epoch - 20ms/step\n",
            "Epoch 278/300\n",
            "89/89 - 2s - loss: 0.4415 - accuracy: 0.9028 - 2s/epoch - 20ms/step\n",
            "Epoch 279/300\n",
            "89/89 - 2s - loss: 0.4373 - accuracy: 0.9014 - 2s/epoch - 20ms/step\n",
            "Epoch 280/300\n",
            "89/89 - 2s - loss: 0.4090 - accuracy: 0.9097 - 2s/epoch - 20ms/step\n",
            "Epoch 281/300\n",
            "89/89 - 2s - loss: 0.4019 - accuracy: 0.9149 - 2s/epoch - 20ms/step\n",
            "Epoch 282/300\n",
            "89/89 - 2s - loss: 0.3861 - accuracy: 0.9204 - 2s/epoch - 20ms/step\n",
            "Epoch 283/300\n",
            "89/89 - 2s - loss: 0.3786 - accuracy: 0.9207 - 2s/epoch - 20ms/step\n",
            "Epoch 284/300\n",
            "89/89 - 2s - loss: 0.3664 - accuracy: 0.9266 - 2s/epoch - 20ms/step\n",
            "Epoch 285/300\n",
            "89/89 - 2s - loss: 0.3586 - accuracy: 0.9270 - 2s/epoch - 20ms/step\n",
            "Epoch 286/300\n",
            "89/89 - 2s - loss: 0.3621 - accuracy: 0.9233 - 2s/epoch - 20ms/step\n",
            "Epoch 287/300\n",
            "89/89 - 2s - loss: 0.3532 - accuracy: 0.9275 - 2s/epoch - 21ms/step\n",
            "Epoch 288/300\n",
            "89/89 - 2s - loss: 0.3430 - accuracy: 0.9289 - 2s/epoch - 20ms/step\n",
            "Epoch 289/300\n",
            "89/89 - 2s - loss: 0.3567 - accuracy: 0.9229 - 2s/epoch - 20ms/step\n",
            "Epoch 290/300\n",
            "89/89 - 2s - loss: 0.3750 - accuracy: 0.9181 - 2s/epoch - 20ms/step\n",
            "Epoch 291/300\n",
            "89/89 - 2s - loss: 0.3989 - accuracy: 0.9113 - 2s/epoch - 20ms/step\n",
            "Epoch 292/300\n",
            "89/89 - 2s - loss: 0.3703 - accuracy: 0.9188 - 2s/epoch - 20ms/step\n",
            "Epoch 293/300\n",
            "89/89 - 2s - loss: 0.3591 - accuracy: 0.9255 - 2s/epoch - 20ms/step\n",
            "Epoch 294/300\n",
            "89/89 - 2s - loss: 0.3419 - accuracy: 0.9267 - 2s/epoch - 20ms/step\n",
            "Epoch 295/300\n",
            "89/89 - 2s - loss: 0.3088 - accuracy: 0.9409 - 2s/epoch - 20ms/step\n",
            "Epoch 296/300\n",
            "89/89 - 2s - loss: 0.2770 - accuracy: 0.9518 - 2s/epoch - 20ms/step\n",
            "Epoch 297/300\n",
            "89/89 - 2s - loss: 0.2675 - accuracy: 0.9521 - 2s/epoch - 20ms/step\n",
            "Epoch 298/300\n",
            "89/89 - 2s - loss: 0.2509 - accuracy: 0.9566 - 2s/epoch - 20ms/step\n",
            "Epoch 299/300\n",
            "89/89 - 2s - loss: 0.2426 - accuracy: 0.9594 - 2s/epoch - 20ms/step\n",
            "Epoch 300/300\n",
            "89/89 - 2s - loss: 0.2337 - accuracy: 0.9619 - 2s/epoch - 20ms/step\n"
          ]
        },
        {
          "output_type": "execute_result",
          "data": {
            "text/plain": [
              "<keras.callbacks.History at 0x7f0d431b83d0>"
            ]
          },
          "metadata": {},
          "execution_count": 33
        }
      ]
    },
    {
      "cell_type": "code",
      "source": [
        "# Save the model\n",
        "model.save('my_mobydick_model.h5')"
      ],
      "metadata": {
        "id": "yHZMcUEi0yFh"
      },
      "execution_count": 34,
      "outputs": []
    },
    {
      "cell_type": "code",
      "source": [
        "# Storing the tokenizer for later use\n",
        "dump(tokenizer, open('my_simpletokenizer', 'wb'))"
      ],
      "metadata": {
        "id": "fZLFazte1Re_"
      },
      "execution_count": 35,
      "outputs": []
    },
    {
      "cell_type": "code",
      "source": [
        "from keras.preprocessing.sequence import pad_sequences"
      ],
      "metadata": {
        "id": "lOnQ4AW7incQ"
      },
      "execution_count": 36,
      "outputs": []
    },
    {
      "cell_type": "code",
      "source": [
        "# Generating new text off a seed input\n",
        "def generate_text(model, tokenizer, seq_len, seed_text, num_gen_words):\n",
        "  # num_gen_words is the number of words you want to generate\n",
        "\n",
        "  output_text = []\n",
        "\n",
        "  input_text = seed_text\n",
        "\n",
        "  for i in range(num_gen_words):\n",
        "\n",
        "    # Converting our raw text input into a sequence of numbers\n",
        "    encoded_text = tokenizer.texts_to_sequences([input_text])[0]\n",
        "    \n",
        "    # Taking care of situations when the seed text is too short or too long\n",
        "    pad_encoded = pad_sequences([encoded_text], maxlen = seq_len, truncating= 'pre')\n",
        "\n",
        "    # Predicting the class probabilities for the next possible word \n",
        "    pred_word_ind = model.predict(pad_encoded, verbose = 0)[0].argmax()\n",
        "\n",
        "    # Obtaining the word from its index in the tokenizer\n",
        "    pred_word = tokenizer.index_word[pred_word_ind]\n",
        "\n",
        "    # Adding the new word to the input text (updation of the sequence with the \n",
        "    # newly predicted words)\n",
        "    input_text += ' '+pred_word\n",
        "\n",
        "    # Placing the predicted words onto an output array\n",
        "    output_text.append(pred_word)\n",
        "\n",
        "\n",
        "  return ' '.join(output_text)"
      ],
      "metadata": {
        "id": "R29QfHqb1dBl"
      },
      "execution_count": 37,
      "outputs": []
    },
    {
      "cell_type": "code",
      "source": [
        "# Using a random sequence for testing the model\n",
        "import random\n",
        "\n",
        "random.seed(101)\n",
        "random_pick = random.randint(0, len(text_sequences))\n",
        "\n",
        "random_seed_text = text_sequences[random_pick]\n",
        "print(random_seed_text, end = ' ')"
      ],
      "metadata": {
        "colab": {
          "base_uri": "https://localhost:8080/"
        },
        "id": "kkXJDvZOmqiL",
        "outputId": "27a52d1b-2d84-426a-e140-5ac6e9e996ed"
      },
      "execution_count": 38,
      "outputs": [
        {
          "output_type": "stream",
          "name": "stdout",
          "text": [
            "['thought', 'i', 'to', 'myself', 'the', 'man', \"'s\", 'a', 'human', 'being', 'just', 'as', 'i', 'am', 'he', 'has', 'just', 'as', 'much', 'reason', 'to', 'fear', 'me', 'as', 'i', 'have'] "
          ]
        }
      ]
    },
    {
      "cell_type": "code",
      "source": [
        "seed_text = ' '.join(random_seed_text)\n",
        "seed_text"
      ],
      "metadata": {
        "colab": {
          "base_uri": "https://localhost:8080/",
          "height": 35
        },
        "id": "-NmwnK_Gm-7B",
        "outputId": "8c035e3a-c003-47e3-aee6-1f775366dcb9"
      },
      "execution_count": 39,
      "outputs": [
        {
          "output_type": "execute_result",
          "data": {
            "application/vnd.google.colaboratory.intrinsic+json": {
              "type": "string"
            },
            "text/plain": [
              "\"thought i to myself the man 's a human being just as i am he has just as much reason to fear me as i have\""
            ]
          },
          "metadata": {},
          "execution_count": 39
        }
      ]
    },
    {
      "cell_type": "code",
      "source": [
        "# Calling the function to generate the next (num_gen_words) words\n",
        "generate_text(model, tokenizer, seq_len, seed_text = seed_text, num_gen_words = 25)"
      ],
      "metadata": {
        "colab": {
          "base_uri": "https://localhost:8080/",
          "height": 53
        },
        "id": "zo5dH6DcnIfQ",
        "outputId": "fd1f18e2-de77-4172-901b-fe589b388099"
      },
      "execution_count": 40,
      "outputs": [
        {
          "output_type": "execute_result",
          "data": {
            "application/vnd.google.colaboratory.intrinsic+json": {
              "type": "string"
            },
            "text/plain": [
              "'to be afraid of him better sleep with a sober cannibal than a drunken christian landlord said i tell him to stash his tomahawk there'"
            ]
          },
          "metadata": {},
          "execution_count": 40
        }
      ]
    }
  ]
}